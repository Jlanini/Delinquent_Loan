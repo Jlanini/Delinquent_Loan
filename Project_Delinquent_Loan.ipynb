{
 "cells": [
  {
   "cell_type": "markdown",
   "metadata": {},
   "source": [
    "# Delinquent Loan: how to find them?"
   ]
  },
  {
   "cell_type": "markdown",
   "metadata": {},
   "source": [
    "![Image of Yaktocat](https://www.usnews.com/dims4/USNEWS/a10d42c/2147483647/thumbnail/970x647/quality/85/?url=http%3A%2F%2Fcom-usnews-beam-media.s3.amazonaws.com%2F79%2Ffa%2F1ca61f7246838f7442e1da1613a9%2F151203pastduebill-stock.jpg)"
   ]
  },
  {
   "cell_type": "markdown",
   "metadata": {},
   "source": [
    "As described in [fundera.com](https://www.fundera.com/blog/delinquent-loan), a *loan becomes delinquent as soon as you’re late on a payment, by even one day. If you miss several payments or can’t make payments for an extended time (usually 90 to 120 days), the lender will place the loan in default and can start collection proceedings against you. Both delinquencies and defaults damage your credit*, which is why it would be extremely convenient to predict, according to specific loan's characteristics, whether the loan will become delinquer. To this end one can think to build a machine leraning model that can accurately predict if a borrower will pay off their loan on time or not."
   ]
  },
  {
   "cell_type": "markdown",
   "metadata": {},
   "source": [
    "In order to build such a machine learning model we will consider the Lending Club releases data for all of the approved and declined loan applications periodically on their [website](https://www.lendingclub.com/info/download-data.action). Together with these data there is also a **data dictionary** hosted on [Google Drive](https://docs.google.com/spreadsheets/d/191B2yJ4H1ZPXq0_ByhUgWMFZOYem5jFz0Y3by_7YBY4/edit#gid=2081333097). Lending Club is a marketplace for personal loans that matches borrowers who are seeking a loan with investors looking to lend money and make a return. Each borrower fills out a comprehensive application, providing their past financial history, the reason for the loan, and more.\n",
    "\n",
    "The LoanStats sheet describes the approved loans datasets and the RejectStats describes the rejected loans datasets. Since rejected applications don't appear on the Lending Club marketplace and aren't available for investment, we'll be focusing on data on approved loans only. In particular we will consider loan data from 2007 to 2011, since a good number of the loans have already finished.\n",
    "\n",
    "The approved loans datasets contain information on current loans, completed loans, and defaulted loans. "
   ]
  },
  {
   "cell_type": "markdown",
   "metadata": {},
   "source": [
    "### Summary of the Conclusions"
   ]
  },
  {
   "cell_type": "markdown",
   "metadata": {},
   "source": [
    "After a proper cleaning of the dataset, the problem under analysis was modeled as a binary classification and solved by using logistic regression. Without assigning any harsher penalty for misclassifying a specific class (because of the unbalancing classes problem), we were able to obtain a high precision without loosing a lot of 'good' borrowers."
   ]
  },
  {
   "cell_type": "markdown",
   "metadata": {},
   "source": [
    "## Preliminary Steps"
   ]
  },
  {
   "cell_type": "code",
   "execution_count": 1,
   "metadata": {},
   "outputs": [],
   "source": [
    "# useful imports\n",
    "import pandas as pd\n",
    "import numpy as np\n",
    "pd.set_option('max_columns', 120)\n",
    "pd.set_option('max_colwidth', 5000)\n",
    "import matplotlib.pyplot as plt\n",
    "import seaborn as sns\n",
    "%matplotlib inline\n",
    "plt.rcParams['figure.figsize'] = (12,8)\n",
    "from IPython.display import HTML\n",
    "\n",
    "# Machine Learning\n",
    "from sklearn.metrics import precision_score\n",
    "from sklearn.linear_model import LogisticRegression\n",
    "from sklearn.neural_network import MLPClassifier\n",
    "from sklearn.model_selection import cross_val_score, KFold\n",
    "from sklearn.metrics import mean_squared_error\n",
    "from sklearn.ensemble import RandomForestClassifier\n",
    "from sklearn.metrics import f1_score"
   ]
  },
  {
   "cell_type": "markdown",
   "metadata": {},
   "source": [
    "Let us define useful functions for dataframe visualization"
   ]
  },
  {
   "cell_type": "code",
   "execution_count": 2,
   "metadata": {},
   "outputs": [],
   "source": [
    "def hover(hover_color=\"#ffff99\"):\n",
    "    return dict(selector=\"tr:hover\",\n",
    "                props=[(\"background-color\", \"%s\" % hover_color)])"
   ]
  },
  {
   "cell_type": "code",
   "execution_count": 3,
   "metadata": {},
   "outputs": [],
   "source": [
    "def df2table(df):\n",
    "    styles = [\n",
    "        hover(),\n",
    "        dict(selector=\"th\", props=[(\"font-size\", \"150%\"),\n",
    "                                   (\"text-align\", \"center\")]),\n",
    "        dict(selector=\"caption\", props=[(\"caption-side\", \"bottom\")])\n",
    "    ]\n",
    "    html = (df.style.set_table_styles(styles)\n",
    "              .set_caption(\"Hover to highlight.\"))\n",
    "    return html"
   ]
  },
  {
   "cell_type": "markdown",
   "metadata": {},
   "source": [
    "## Data Cleaning"
   ]
  },
  {
   "cell_type": "markdown",
   "metadata": {},
   "source": [
    "Once the dataset has been imported and analyzed, one of the most important step in order to build a predictive model is data cleaning and the selection of the most useful features to address our project goal."
   ]
  },
  {
   "cell_type": "code",
   "execution_count": 4,
   "metadata": {},
   "outputs": [
    {
     "name": "stderr",
     "output_type": "stream",
     "text": [
      "/Users/jessicalanini/anaconda2/lib/python2.7/site-packages/IPython/core/interactiveshell.py:2714: DtypeWarning: Columns (0) have mixed types. Specify dtype option on import or set low_memory=False.\n",
      "  interactivity=interactivity, compiler=compiler, result=result)\n"
     ]
    }
   ],
   "source": [
    "#import dataset\n",
    "loans_2007 = pd.read_csv(\"loans_2007.csv\")\n",
    "loans_description = pd.read_excel (\"LCDataDictionary.xlsx\")"
   ]
  },
  {
   "cell_type": "code",
   "execution_count": 5,
   "metadata": {},
   "outputs": [
    {
     "data": {
      "text/html": [
       "<style  type=\"text/css\" >\n",
       "    #T_5f75d0fa_b2b2_11e9_aba0_c4b301cdc453 tr:hover {\n",
       "          background-color: #ffff99;\n",
       "    }    #T_5f75d0fa_b2b2_11e9_aba0_c4b301cdc453 th {\n",
       "          font-size: 150%;\n",
       "          text-align: center;\n",
       "    }    #T_5f75d0fa_b2b2_11e9_aba0_c4b301cdc453 caption {\n",
       "          caption-side: bottom;\n",
       "    }</style>  \n",
       "<table id=\"T_5f75d0fa_b2b2_11e9_aba0_c4b301cdc453\" ><caption>Hover to highlight.</caption> \n",
       "<thead>    <tr> \n",
       "        <th class=\"blank level0\" ></th> \n",
       "        <th class=\"col_heading level0 col0\" >id</th> \n",
       "        <th class=\"col_heading level0 col1\" >member_id</th> \n",
       "        <th class=\"col_heading level0 col2\" >loan_amnt</th> \n",
       "        <th class=\"col_heading level0 col3\" >funded_amnt</th> \n",
       "        <th class=\"col_heading level0 col4\" >funded_amnt_inv</th> \n",
       "        <th class=\"col_heading level0 col5\" >term</th> \n",
       "        <th class=\"col_heading level0 col6\" >int_rate</th> \n",
       "        <th class=\"col_heading level0 col7\" >installment</th> \n",
       "        <th class=\"col_heading level0 col8\" >grade</th> \n",
       "        <th class=\"col_heading level0 col9\" >sub_grade</th> \n",
       "        <th class=\"col_heading level0 col10\" >emp_title</th> \n",
       "        <th class=\"col_heading level0 col11\" >emp_length</th> \n",
       "        <th class=\"col_heading level0 col12\" >home_ownership</th> \n",
       "        <th class=\"col_heading level0 col13\" >annual_inc</th> \n",
       "        <th class=\"col_heading level0 col14\" >verification_status</th> \n",
       "        <th class=\"col_heading level0 col15\" >issue_d</th> \n",
       "        <th class=\"col_heading level0 col16\" >loan_status</th> \n",
       "        <th class=\"col_heading level0 col17\" >pymnt_plan</th> \n",
       "        <th class=\"col_heading level0 col18\" >purpose</th> \n",
       "        <th class=\"col_heading level0 col19\" >title</th> \n",
       "        <th class=\"col_heading level0 col20\" >zip_code</th> \n",
       "        <th class=\"col_heading level0 col21\" >addr_state</th> \n",
       "        <th class=\"col_heading level0 col22\" >dti</th> \n",
       "        <th class=\"col_heading level0 col23\" >delinq_2yrs</th> \n",
       "        <th class=\"col_heading level0 col24\" >earliest_cr_line</th> \n",
       "        <th class=\"col_heading level0 col25\" >inq_last_6mths</th> \n",
       "        <th class=\"col_heading level0 col26\" >open_acc</th> \n",
       "        <th class=\"col_heading level0 col27\" >pub_rec</th> \n",
       "        <th class=\"col_heading level0 col28\" >revol_bal</th> \n",
       "        <th class=\"col_heading level0 col29\" >revol_util</th> \n",
       "        <th class=\"col_heading level0 col30\" >total_acc</th> \n",
       "        <th class=\"col_heading level0 col31\" >initial_list_status</th> \n",
       "        <th class=\"col_heading level0 col32\" >out_prncp</th> \n",
       "        <th class=\"col_heading level0 col33\" >out_prncp_inv</th> \n",
       "        <th class=\"col_heading level0 col34\" >total_pymnt</th> \n",
       "        <th class=\"col_heading level0 col35\" >total_pymnt_inv</th> \n",
       "        <th class=\"col_heading level0 col36\" >total_rec_prncp</th> \n",
       "        <th class=\"col_heading level0 col37\" >total_rec_int</th> \n",
       "        <th class=\"col_heading level0 col38\" >total_rec_late_fee</th> \n",
       "        <th class=\"col_heading level0 col39\" >recoveries</th> \n",
       "        <th class=\"col_heading level0 col40\" >collection_recovery_fee</th> \n",
       "        <th class=\"col_heading level0 col41\" >last_pymnt_d</th> \n",
       "        <th class=\"col_heading level0 col42\" >last_pymnt_amnt</th> \n",
       "        <th class=\"col_heading level0 col43\" >last_credit_pull_d</th> \n",
       "        <th class=\"col_heading level0 col44\" >collections_12_mths_ex_med</th> \n",
       "        <th class=\"col_heading level0 col45\" >policy_code</th> \n",
       "        <th class=\"col_heading level0 col46\" >application_type</th> \n",
       "        <th class=\"col_heading level0 col47\" >acc_now_delinq</th> \n",
       "        <th class=\"col_heading level0 col48\" >chargeoff_within_12_mths</th> \n",
       "        <th class=\"col_heading level0 col49\" >delinq_amnt</th> \n",
       "        <th class=\"col_heading level0 col50\" >pub_rec_bankruptcies</th> \n",
       "        <th class=\"col_heading level0 col51\" >tax_liens</th> \n",
       "    </tr></thead> \n",
       "<tbody>    <tr> \n",
       "        <th id=\"T_5f75d0fa_b2b2_11e9_aba0_c4b301cdc453level0_row0\" class=\"row_heading level0 row0\" >0</th> \n",
       "        <td id=\"T_5f75d0fa_b2b2_11e9_aba0_c4b301cdc453row0_col0\" class=\"data row0 col0\" >1077501</td> \n",
       "        <td id=\"T_5f75d0fa_b2b2_11e9_aba0_c4b301cdc453row0_col1\" class=\"data row0 col1\" >1.2966e+06</td> \n",
       "        <td id=\"T_5f75d0fa_b2b2_11e9_aba0_c4b301cdc453row0_col2\" class=\"data row0 col2\" >5000</td> \n",
       "        <td id=\"T_5f75d0fa_b2b2_11e9_aba0_c4b301cdc453row0_col3\" class=\"data row0 col3\" >5000</td> \n",
       "        <td id=\"T_5f75d0fa_b2b2_11e9_aba0_c4b301cdc453row0_col4\" class=\"data row0 col4\" >4975</td> \n",
       "        <td id=\"T_5f75d0fa_b2b2_11e9_aba0_c4b301cdc453row0_col5\" class=\"data row0 col5\" > 36 months</td> \n",
       "        <td id=\"T_5f75d0fa_b2b2_11e9_aba0_c4b301cdc453row0_col6\" class=\"data row0 col6\" > 10.65%</td> \n",
       "        <td id=\"T_5f75d0fa_b2b2_11e9_aba0_c4b301cdc453row0_col7\" class=\"data row0 col7\" >162.87</td> \n",
       "        <td id=\"T_5f75d0fa_b2b2_11e9_aba0_c4b301cdc453row0_col8\" class=\"data row0 col8\" >B</td> \n",
       "        <td id=\"T_5f75d0fa_b2b2_11e9_aba0_c4b301cdc453row0_col9\" class=\"data row0 col9\" >B2</td> \n",
       "        <td id=\"T_5f75d0fa_b2b2_11e9_aba0_c4b301cdc453row0_col10\" class=\"data row0 col10\" >nan</td> \n",
       "        <td id=\"T_5f75d0fa_b2b2_11e9_aba0_c4b301cdc453row0_col11\" class=\"data row0 col11\" >10+ years</td> \n",
       "        <td id=\"T_5f75d0fa_b2b2_11e9_aba0_c4b301cdc453row0_col12\" class=\"data row0 col12\" >RENT</td> \n",
       "        <td id=\"T_5f75d0fa_b2b2_11e9_aba0_c4b301cdc453row0_col13\" class=\"data row0 col13\" >24000</td> \n",
       "        <td id=\"T_5f75d0fa_b2b2_11e9_aba0_c4b301cdc453row0_col14\" class=\"data row0 col14\" >Verified</td> \n",
       "        <td id=\"T_5f75d0fa_b2b2_11e9_aba0_c4b301cdc453row0_col15\" class=\"data row0 col15\" >Dec-2011</td> \n",
       "        <td id=\"T_5f75d0fa_b2b2_11e9_aba0_c4b301cdc453row0_col16\" class=\"data row0 col16\" >Fully Paid</td> \n",
       "        <td id=\"T_5f75d0fa_b2b2_11e9_aba0_c4b301cdc453row0_col17\" class=\"data row0 col17\" >n</td> \n",
       "        <td id=\"T_5f75d0fa_b2b2_11e9_aba0_c4b301cdc453row0_col18\" class=\"data row0 col18\" >credit_card</td> \n",
       "        <td id=\"T_5f75d0fa_b2b2_11e9_aba0_c4b301cdc453row0_col19\" class=\"data row0 col19\" >Computer</td> \n",
       "        <td id=\"T_5f75d0fa_b2b2_11e9_aba0_c4b301cdc453row0_col20\" class=\"data row0 col20\" >860xx</td> \n",
       "        <td id=\"T_5f75d0fa_b2b2_11e9_aba0_c4b301cdc453row0_col21\" class=\"data row0 col21\" >AZ</td> \n",
       "        <td id=\"T_5f75d0fa_b2b2_11e9_aba0_c4b301cdc453row0_col22\" class=\"data row0 col22\" >27.65</td> \n",
       "        <td id=\"T_5f75d0fa_b2b2_11e9_aba0_c4b301cdc453row0_col23\" class=\"data row0 col23\" >0</td> \n",
       "        <td id=\"T_5f75d0fa_b2b2_11e9_aba0_c4b301cdc453row0_col24\" class=\"data row0 col24\" >Jan-1985</td> \n",
       "        <td id=\"T_5f75d0fa_b2b2_11e9_aba0_c4b301cdc453row0_col25\" class=\"data row0 col25\" >1</td> \n",
       "        <td id=\"T_5f75d0fa_b2b2_11e9_aba0_c4b301cdc453row0_col26\" class=\"data row0 col26\" >3</td> \n",
       "        <td id=\"T_5f75d0fa_b2b2_11e9_aba0_c4b301cdc453row0_col27\" class=\"data row0 col27\" >0</td> \n",
       "        <td id=\"T_5f75d0fa_b2b2_11e9_aba0_c4b301cdc453row0_col28\" class=\"data row0 col28\" >13648</td> \n",
       "        <td id=\"T_5f75d0fa_b2b2_11e9_aba0_c4b301cdc453row0_col29\" class=\"data row0 col29\" >83.7%</td> \n",
       "        <td id=\"T_5f75d0fa_b2b2_11e9_aba0_c4b301cdc453row0_col30\" class=\"data row0 col30\" >9</td> \n",
       "        <td id=\"T_5f75d0fa_b2b2_11e9_aba0_c4b301cdc453row0_col31\" class=\"data row0 col31\" >f</td> \n",
       "        <td id=\"T_5f75d0fa_b2b2_11e9_aba0_c4b301cdc453row0_col32\" class=\"data row0 col32\" >0</td> \n",
       "        <td id=\"T_5f75d0fa_b2b2_11e9_aba0_c4b301cdc453row0_col33\" class=\"data row0 col33\" >0</td> \n",
       "        <td id=\"T_5f75d0fa_b2b2_11e9_aba0_c4b301cdc453row0_col34\" class=\"data row0 col34\" >5863.16</td> \n",
       "        <td id=\"T_5f75d0fa_b2b2_11e9_aba0_c4b301cdc453row0_col35\" class=\"data row0 col35\" >5833.84</td> \n",
       "        <td id=\"T_5f75d0fa_b2b2_11e9_aba0_c4b301cdc453row0_col36\" class=\"data row0 col36\" >5000</td> \n",
       "        <td id=\"T_5f75d0fa_b2b2_11e9_aba0_c4b301cdc453row0_col37\" class=\"data row0 col37\" >863.16</td> \n",
       "        <td id=\"T_5f75d0fa_b2b2_11e9_aba0_c4b301cdc453row0_col38\" class=\"data row0 col38\" >0</td> \n",
       "        <td id=\"T_5f75d0fa_b2b2_11e9_aba0_c4b301cdc453row0_col39\" class=\"data row0 col39\" >0</td> \n",
       "        <td id=\"T_5f75d0fa_b2b2_11e9_aba0_c4b301cdc453row0_col40\" class=\"data row0 col40\" >0</td> \n",
       "        <td id=\"T_5f75d0fa_b2b2_11e9_aba0_c4b301cdc453row0_col41\" class=\"data row0 col41\" >Jan-2015</td> \n",
       "        <td id=\"T_5f75d0fa_b2b2_11e9_aba0_c4b301cdc453row0_col42\" class=\"data row0 col42\" >171.62</td> \n",
       "        <td id=\"T_5f75d0fa_b2b2_11e9_aba0_c4b301cdc453row0_col43\" class=\"data row0 col43\" >Jun-2016</td> \n",
       "        <td id=\"T_5f75d0fa_b2b2_11e9_aba0_c4b301cdc453row0_col44\" class=\"data row0 col44\" >0</td> \n",
       "        <td id=\"T_5f75d0fa_b2b2_11e9_aba0_c4b301cdc453row0_col45\" class=\"data row0 col45\" >1</td> \n",
       "        <td id=\"T_5f75d0fa_b2b2_11e9_aba0_c4b301cdc453row0_col46\" class=\"data row0 col46\" >INDIVIDUAL</td> \n",
       "        <td id=\"T_5f75d0fa_b2b2_11e9_aba0_c4b301cdc453row0_col47\" class=\"data row0 col47\" >0</td> \n",
       "        <td id=\"T_5f75d0fa_b2b2_11e9_aba0_c4b301cdc453row0_col48\" class=\"data row0 col48\" >0</td> \n",
       "        <td id=\"T_5f75d0fa_b2b2_11e9_aba0_c4b301cdc453row0_col49\" class=\"data row0 col49\" >0</td> \n",
       "        <td id=\"T_5f75d0fa_b2b2_11e9_aba0_c4b301cdc453row0_col50\" class=\"data row0 col50\" >0</td> \n",
       "        <td id=\"T_5f75d0fa_b2b2_11e9_aba0_c4b301cdc453row0_col51\" class=\"data row0 col51\" >0</td> \n",
       "    </tr>    <tr> \n",
       "        <th id=\"T_5f75d0fa_b2b2_11e9_aba0_c4b301cdc453level0_row1\" class=\"row_heading level0 row1\" >1</th> \n",
       "        <td id=\"T_5f75d0fa_b2b2_11e9_aba0_c4b301cdc453row1_col0\" class=\"data row1 col0\" >1077430</td> \n",
       "        <td id=\"T_5f75d0fa_b2b2_11e9_aba0_c4b301cdc453row1_col1\" class=\"data row1 col1\" >1.31417e+06</td> \n",
       "        <td id=\"T_5f75d0fa_b2b2_11e9_aba0_c4b301cdc453row1_col2\" class=\"data row1 col2\" >2500</td> \n",
       "        <td id=\"T_5f75d0fa_b2b2_11e9_aba0_c4b301cdc453row1_col3\" class=\"data row1 col3\" >2500</td> \n",
       "        <td id=\"T_5f75d0fa_b2b2_11e9_aba0_c4b301cdc453row1_col4\" class=\"data row1 col4\" >2500</td> \n",
       "        <td id=\"T_5f75d0fa_b2b2_11e9_aba0_c4b301cdc453row1_col5\" class=\"data row1 col5\" > 60 months</td> \n",
       "        <td id=\"T_5f75d0fa_b2b2_11e9_aba0_c4b301cdc453row1_col6\" class=\"data row1 col6\" > 15.27%</td> \n",
       "        <td id=\"T_5f75d0fa_b2b2_11e9_aba0_c4b301cdc453row1_col7\" class=\"data row1 col7\" >59.83</td> \n",
       "        <td id=\"T_5f75d0fa_b2b2_11e9_aba0_c4b301cdc453row1_col8\" class=\"data row1 col8\" >C</td> \n",
       "        <td id=\"T_5f75d0fa_b2b2_11e9_aba0_c4b301cdc453row1_col9\" class=\"data row1 col9\" >C4</td> \n",
       "        <td id=\"T_5f75d0fa_b2b2_11e9_aba0_c4b301cdc453row1_col10\" class=\"data row1 col10\" >Ryder</td> \n",
       "        <td id=\"T_5f75d0fa_b2b2_11e9_aba0_c4b301cdc453row1_col11\" class=\"data row1 col11\" >< 1 year</td> \n",
       "        <td id=\"T_5f75d0fa_b2b2_11e9_aba0_c4b301cdc453row1_col12\" class=\"data row1 col12\" >RENT</td> \n",
       "        <td id=\"T_5f75d0fa_b2b2_11e9_aba0_c4b301cdc453row1_col13\" class=\"data row1 col13\" >30000</td> \n",
       "        <td id=\"T_5f75d0fa_b2b2_11e9_aba0_c4b301cdc453row1_col14\" class=\"data row1 col14\" >Source Verified</td> \n",
       "        <td id=\"T_5f75d0fa_b2b2_11e9_aba0_c4b301cdc453row1_col15\" class=\"data row1 col15\" >Dec-2011</td> \n",
       "        <td id=\"T_5f75d0fa_b2b2_11e9_aba0_c4b301cdc453row1_col16\" class=\"data row1 col16\" >Charged Off</td> \n",
       "        <td id=\"T_5f75d0fa_b2b2_11e9_aba0_c4b301cdc453row1_col17\" class=\"data row1 col17\" >n</td> \n",
       "        <td id=\"T_5f75d0fa_b2b2_11e9_aba0_c4b301cdc453row1_col18\" class=\"data row1 col18\" >car</td> \n",
       "        <td id=\"T_5f75d0fa_b2b2_11e9_aba0_c4b301cdc453row1_col19\" class=\"data row1 col19\" >bike</td> \n",
       "        <td id=\"T_5f75d0fa_b2b2_11e9_aba0_c4b301cdc453row1_col20\" class=\"data row1 col20\" >309xx</td> \n",
       "        <td id=\"T_5f75d0fa_b2b2_11e9_aba0_c4b301cdc453row1_col21\" class=\"data row1 col21\" >GA</td> \n",
       "        <td id=\"T_5f75d0fa_b2b2_11e9_aba0_c4b301cdc453row1_col22\" class=\"data row1 col22\" >1</td> \n",
       "        <td id=\"T_5f75d0fa_b2b2_11e9_aba0_c4b301cdc453row1_col23\" class=\"data row1 col23\" >0</td> \n",
       "        <td id=\"T_5f75d0fa_b2b2_11e9_aba0_c4b301cdc453row1_col24\" class=\"data row1 col24\" >Apr-1999</td> \n",
       "        <td id=\"T_5f75d0fa_b2b2_11e9_aba0_c4b301cdc453row1_col25\" class=\"data row1 col25\" >5</td> \n",
       "        <td id=\"T_5f75d0fa_b2b2_11e9_aba0_c4b301cdc453row1_col26\" class=\"data row1 col26\" >3</td> \n",
       "        <td id=\"T_5f75d0fa_b2b2_11e9_aba0_c4b301cdc453row1_col27\" class=\"data row1 col27\" >0</td> \n",
       "        <td id=\"T_5f75d0fa_b2b2_11e9_aba0_c4b301cdc453row1_col28\" class=\"data row1 col28\" >1687</td> \n",
       "        <td id=\"T_5f75d0fa_b2b2_11e9_aba0_c4b301cdc453row1_col29\" class=\"data row1 col29\" >9.4%</td> \n",
       "        <td id=\"T_5f75d0fa_b2b2_11e9_aba0_c4b301cdc453row1_col30\" class=\"data row1 col30\" >4</td> \n",
       "        <td id=\"T_5f75d0fa_b2b2_11e9_aba0_c4b301cdc453row1_col31\" class=\"data row1 col31\" >f</td> \n",
       "        <td id=\"T_5f75d0fa_b2b2_11e9_aba0_c4b301cdc453row1_col32\" class=\"data row1 col32\" >0</td> \n",
       "        <td id=\"T_5f75d0fa_b2b2_11e9_aba0_c4b301cdc453row1_col33\" class=\"data row1 col33\" >0</td> \n",
       "        <td id=\"T_5f75d0fa_b2b2_11e9_aba0_c4b301cdc453row1_col34\" class=\"data row1 col34\" >1008.71</td> \n",
       "        <td id=\"T_5f75d0fa_b2b2_11e9_aba0_c4b301cdc453row1_col35\" class=\"data row1 col35\" >1008.71</td> \n",
       "        <td id=\"T_5f75d0fa_b2b2_11e9_aba0_c4b301cdc453row1_col36\" class=\"data row1 col36\" >456.46</td> \n",
       "        <td id=\"T_5f75d0fa_b2b2_11e9_aba0_c4b301cdc453row1_col37\" class=\"data row1 col37\" >435.17</td> \n",
       "        <td id=\"T_5f75d0fa_b2b2_11e9_aba0_c4b301cdc453row1_col38\" class=\"data row1 col38\" >0</td> \n",
       "        <td id=\"T_5f75d0fa_b2b2_11e9_aba0_c4b301cdc453row1_col39\" class=\"data row1 col39\" >117.08</td> \n",
       "        <td id=\"T_5f75d0fa_b2b2_11e9_aba0_c4b301cdc453row1_col40\" class=\"data row1 col40\" >1.11</td> \n",
       "        <td id=\"T_5f75d0fa_b2b2_11e9_aba0_c4b301cdc453row1_col41\" class=\"data row1 col41\" >Apr-2013</td> \n",
       "        <td id=\"T_5f75d0fa_b2b2_11e9_aba0_c4b301cdc453row1_col42\" class=\"data row1 col42\" >119.66</td> \n",
       "        <td id=\"T_5f75d0fa_b2b2_11e9_aba0_c4b301cdc453row1_col43\" class=\"data row1 col43\" >Sep-2013</td> \n",
       "        <td id=\"T_5f75d0fa_b2b2_11e9_aba0_c4b301cdc453row1_col44\" class=\"data row1 col44\" >0</td> \n",
       "        <td id=\"T_5f75d0fa_b2b2_11e9_aba0_c4b301cdc453row1_col45\" class=\"data row1 col45\" >1</td> \n",
       "        <td id=\"T_5f75d0fa_b2b2_11e9_aba0_c4b301cdc453row1_col46\" class=\"data row1 col46\" >INDIVIDUAL</td> \n",
       "        <td id=\"T_5f75d0fa_b2b2_11e9_aba0_c4b301cdc453row1_col47\" class=\"data row1 col47\" >0</td> \n",
       "        <td id=\"T_5f75d0fa_b2b2_11e9_aba0_c4b301cdc453row1_col48\" class=\"data row1 col48\" >0</td> \n",
       "        <td id=\"T_5f75d0fa_b2b2_11e9_aba0_c4b301cdc453row1_col49\" class=\"data row1 col49\" >0</td> \n",
       "        <td id=\"T_5f75d0fa_b2b2_11e9_aba0_c4b301cdc453row1_col50\" class=\"data row1 col50\" >0</td> \n",
       "        <td id=\"T_5f75d0fa_b2b2_11e9_aba0_c4b301cdc453row1_col51\" class=\"data row1 col51\" >0</td> \n",
       "    </tr>    <tr> \n",
       "        <th id=\"T_5f75d0fa_b2b2_11e9_aba0_c4b301cdc453level0_row2\" class=\"row_heading level0 row2\" >2</th> \n",
       "        <td id=\"T_5f75d0fa_b2b2_11e9_aba0_c4b301cdc453row2_col0\" class=\"data row2 col0\" >1077175</td> \n",
       "        <td id=\"T_5f75d0fa_b2b2_11e9_aba0_c4b301cdc453row2_col1\" class=\"data row2 col1\" >1.31352e+06</td> \n",
       "        <td id=\"T_5f75d0fa_b2b2_11e9_aba0_c4b301cdc453row2_col2\" class=\"data row2 col2\" >2400</td> \n",
       "        <td id=\"T_5f75d0fa_b2b2_11e9_aba0_c4b301cdc453row2_col3\" class=\"data row2 col3\" >2400</td> \n",
       "        <td id=\"T_5f75d0fa_b2b2_11e9_aba0_c4b301cdc453row2_col4\" class=\"data row2 col4\" >2400</td> \n",
       "        <td id=\"T_5f75d0fa_b2b2_11e9_aba0_c4b301cdc453row2_col5\" class=\"data row2 col5\" > 36 months</td> \n",
       "        <td id=\"T_5f75d0fa_b2b2_11e9_aba0_c4b301cdc453row2_col6\" class=\"data row2 col6\" > 15.96%</td> \n",
       "        <td id=\"T_5f75d0fa_b2b2_11e9_aba0_c4b301cdc453row2_col7\" class=\"data row2 col7\" >84.33</td> \n",
       "        <td id=\"T_5f75d0fa_b2b2_11e9_aba0_c4b301cdc453row2_col8\" class=\"data row2 col8\" >C</td> \n",
       "        <td id=\"T_5f75d0fa_b2b2_11e9_aba0_c4b301cdc453row2_col9\" class=\"data row2 col9\" >C5</td> \n",
       "        <td id=\"T_5f75d0fa_b2b2_11e9_aba0_c4b301cdc453row2_col10\" class=\"data row2 col10\" >nan</td> \n",
       "        <td id=\"T_5f75d0fa_b2b2_11e9_aba0_c4b301cdc453row2_col11\" class=\"data row2 col11\" >10+ years</td> \n",
       "        <td id=\"T_5f75d0fa_b2b2_11e9_aba0_c4b301cdc453row2_col12\" class=\"data row2 col12\" >RENT</td> \n",
       "        <td id=\"T_5f75d0fa_b2b2_11e9_aba0_c4b301cdc453row2_col13\" class=\"data row2 col13\" >12252</td> \n",
       "        <td id=\"T_5f75d0fa_b2b2_11e9_aba0_c4b301cdc453row2_col14\" class=\"data row2 col14\" >Not Verified</td> \n",
       "        <td id=\"T_5f75d0fa_b2b2_11e9_aba0_c4b301cdc453row2_col15\" class=\"data row2 col15\" >Dec-2011</td> \n",
       "        <td id=\"T_5f75d0fa_b2b2_11e9_aba0_c4b301cdc453row2_col16\" class=\"data row2 col16\" >Fully Paid</td> \n",
       "        <td id=\"T_5f75d0fa_b2b2_11e9_aba0_c4b301cdc453row2_col17\" class=\"data row2 col17\" >n</td> \n",
       "        <td id=\"T_5f75d0fa_b2b2_11e9_aba0_c4b301cdc453row2_col18\" class=\"data row2 col18\" >small_business</td> \n",
       "        <td id=\"T_5f75d0fa_b2b2_11e9_aba0_c4b301cdc453row2_col19\" class=\"data row2 col19\" >real estate business</td> \n",
       "        <td id=\"T_5f75d0fa_b2b2_11e9_aba0_c4b301cdc453row2_col20\" class=\"data row2 col20\" >606xx</td> \n",
       "        <td id=\"T_5f75d0fa_b2b2_11e9_aba0_c4b301cdc453row2_col21\" class=\"data row2 col21\" >IL</td> \n",
       "        <td id=\"T_5f75d0fa_b2b2_11e9_aba0_c4b301cdc453row2_col22\" class=\"data row2 col22\" >8.72</td> \n",
       "        <td id=\"T_5f75d0fa_b2b2_11e9_aba0_c4b301cdc453row2_col23\" class=\"data row2 col23\" >0</td> \n",
       "        <td id=\"T_5f75d0fa_b2b2_11e9_aba0_c4b301cdc453row2_col24\" class=\"data row2 col24\" >Nov-2001</td> \n",
       "        <td id=\"T_5f75d0fa_b2b2_11e9_aba0_c4b301cdc453row2_col25\" class=\"data row2 col25\" >2</td> \n",
       "        <td id=\"T_5f75d0fa_b2b2_11e9_aba0_c4b301cdc453row2_col26\" class=\"data row2 col26\" >2</td> \n",
       "        <td id=\"T_5f75d0fa_b2b2_11e9_aba0_c4b301cdc453row2_col27\" class=\"data row2 col27\" >0</td> \n",
       "        <td id=\"T_5f75d0fa_b2b2_11e9_aba0_c4b301cdc453row2_col28\" class=\"data row2 col28\" >2956</td> \n",
       "        <td id=\"T_5f75d0fa_b2b2_11e9_aba0_c4b301cdc453row2_col29\" class=\"data row2 col29\" >98.5%</td> \n",
       "        <td id=\"T_5f75d0fa_b2b2_11e9_aba0_c4b301cdc453row2_col30\" class=\"data row2 col30\" >10</td> \n",
       "        <td id=\"T_5f75d0fa_b2b2_11e9_aba0_c4b301cdc453row2_col31\" class=\"data row2 col31\" >f</td> \n",
       "        <td id=\"T_5f75d0fa_b2b2_11e9_aba0_c4b301cdc453row2_col32\" class=\"data row2 col32\" >0</td> \n",
       "        <td id=\"T_5f75d0fa_b2b2_11e9_aba0_c4b301cdc453row2_col33\" class=\"data row2 col33\" >0</td> \n",
       "        <td id=\"T_5f75d0fa_b2b2_11e9_aba0_c4b301cdc453row2_col34\" class=\"data row2 col34\" >3005.67</td> \n",
       "        <td id=\"T_5f75d0fa_b2b2_11e9_aba0_c4b301cdc453row2_col35\" class=\"data row2 col35\" >3005.67</td> \n",
       "        <td id=\"T_5f75d0fa_b2b2_11e9_aba0_c4b301cdc453row2_col36\" class=\"data row2 col36\" >2400</td> \n",
       "        <td id=\"T_5f75d0fa_b2b2_11e9_aba0_c4b301cdc453row2_col37\" class=\"data row2 col37\" >605.67</td> \n",
       "        <td id=\"T_5f75d0fa_b2b2_11e9_aba0_c4b301cdc453row2_col38\" class=\"data row2 col38\" >0</td> \n",
       "        <td id=\"T_5f75d0fa_b2b2_11e9_aba0_c4b301cdc453row2_col39\" class=\"data row2 col39\" >0</td> \n",
       "        <td id=\"T_5f75d0fa_b2b2_11e9_aba0_c4b301cdc453row2_col40\" class=\"data row2 col40\" >0</td> \n",
       "        <td id=\"T_5f75d0fa_b2b2_11e9_aba0_c4b301cdc453row2_col41\" class=\"data row2 col41\" >Jun-2014</td> \n",
       "        <td id=\"T_5f75d0fa_b2b2_11e9_aba0_c4b301cdc453row2_col42\" class=\"data row2 col42\" >649.91</td> \n",
       "        <td id=\"T_5f75d0fa_b2b2_11e9_aba0_c4b301cdc453row2_col43\" class=\"data row2 col43\" >Jun-2016</td> \n",
       "        <td id=\"T_5f75d0fa_b2b2_11e9_aba0_c4b301cdc453row2_col44\" class=\"data row2 col44\" >0</td> \n",
       "        <td id=\"T_5f75d0fa_b2b2_11e9_aba0_c4b301cdc453row2_col45\" class=\"data row2 col45\" >1</td> \n",
       "        <td id=\"T_5f75d0fa_b2b2_11e9_aba0_c4b301cdc453row2_col46\" class=\"data row2 col46\" >INDIVIDUAL</td> \n",
       "        <td id=\"T_5f75d0fa_b2b2_11e9_aba0_c4b301cdc453row2_col47\" class=\"data row2 col47\" >0</td> \n",
       "        <td id=\"T_5f75d0fa_b2b2_11e9_aba0_c4b301cdc453row2_col48\" class=\"data row2 col48\" >0</td> \n",
       "        <td id=\"T_5f75d0fa_b2b2_11e9_aba0_c4b301cdc453row2_col49\" class=\"data row2 col49\" >0</td> \n",
       "        <td id=\"T_5f75d0fa_b2b2_11e9_aba0_c4b301cdc453row2_col50\" class=\"data row2 col50\" >0</td> \n",
       "        <td id=\"T_5f75d0fa_b2b2_11e9_aba0_c4b301cdc453row2_col51\" class=\"data row2 col51\" >0</td> \n",
       "    </tr>    <tr> \n",
       "        <th id=\"T_5f75d0fa_b2b2_11e9_aba0_c4b301cdc453level0_row3\" class=\"row_heading level0 row3\" >3</th> \n",
       "        <td id=\"T_5f75d0fa_b2b2_11e9_aba0_c4b301cdc453row3_col0\" class=\"data row3 col0\" >1076863</td> \n",
       "        <td id=\"T_5f75d0fa_b2b2_11e9_aba0_c4b301cdc453row3_col1\" class=\"data row3 col1\" >1.27718e+06</td> \n",
       "        <td id=\"T_5f75d0fa_b2b2_11e9_aba0_c4b301cdc453row3_col2\" class=\"data row3 col2\" >10000</td> \n",
       "        <td id=\"T_5f75d0fa_b2b2_11e9_aba0_c4b301cdc453row3_col3\" class=\"data row3 col3\" >10000</td> \n",
       "        <td id=\"T_5f75d0fa_b2b2_11e9_aba0_c4b301cdc453row3_col4\" class=\"data row3 col4\" >10000</td> \n",
       "        <td id=\"T_5f75d0fa_b2b2_11e9_aba0_c4b301cdc453row3_col5\" class=\"data row3 col5\" > 36 months</td> \n",
       "        <td id=\"T_5f75d0fa_b2b2_11e9_aba0_c4b301cdc453row3_col6\" class=\"data row3 col6\" > 13.49%</td> \n",
       "        <td id=\"T_5f75d0fa_b2b2_11e9_aba0_c4b301cdc453row3_col7\" class=\"data row3 col7\" >339.31</td> \n",
       "        <td id=\"T_5f75d0fa_b2b2_11e9_aba0_c4b301cdc453row3_col8\" class=\"data row3 col8\" >C</td> \n",
       "        <td id=\"T_5f75d0fa_b2b2_11e9_aba0_c4b301cdc453row3_col9\" class=\"data row3 col9\" >C1</td> \n",
       "        <td id=\"T_5f75d0fa_b2b2_11e9_aba0_c4b301cdc453row3_col10\" class=\"data row3 col10\" >AIR RESOURCES BOARD</td> \n",
       "        <td id=\"T_5f75d0fa_b2b2_11e9_aba0_c4b301cdc453row3_col11\" class=\"data row3 col11\" >10+ years</td> \n",
       "        <td id=\"T_5f75d0fa_b2b2_11e9_aba0_c4b301cdc453row3_col12\" class=\"data row3 col12\" >RENT</td> \n",
       "        <td id=\"T_5f75d0fa_b2b2_11e9_aba0_c4b301cdc453row3_col13\" class=\"data row3 col13\" >49200</td> \n",
       "        <td id=\"T_5f75d0fa_b2b2_11e9_aba0_c4b301cdc453row3_col14\" class=\"data row3 col14\" >Source Verified</td> \n",
       "        <td id=\"T_5f75d0fa_b2b2_11e9_aba0_c4b301cdc453row3_col15\" class=\"data row3 col15\" >Dec-2011</td> \n",
       "        <td id=\"T_5f75d0fa_b2b2_11e9_aba0_c4b301cdc453row3_col16\" class=\"data row3 col16\" >Fully Paid</td> \n",
       "        <td id=\"T_5f75d0fa_b2b2_11e9_aba0_c4b301cdc453row3_col17\" class=\"data row3 col17\" >n</td> \n",
       "        <td id=\"T_5f75d0fa_b2b2_11e9_aba0_c4b301cdc453row3_col18\" class=\"data row3 col18\" >other</td> \n",
       "        <td id=\"T_5f75d0fa_b2b2_11e9_aba0_c4b301cdc453row3_col19\" class=\"data row3 col19\" >personel</td> \n",
       "        <td id=\"T_5f75d0fa_b2b2_11e9_aba0_c4b301cdc453row3_col20\" class=\"data row3 col20\" >917xx</td> \n",
       "        <td id=\"T_5f75d0fa_b2b2_11e9_aba0_c4b301cdc453row3_col21\" class=\"data row3 col21\" >CA</td> \n",
       "        <td id=\"T_5f75d0fa_b2b2_11e9_aba0_c4b301cdc453row3_col22\" class=\"data row3 col22\" >20</td> \n",
       "        <td id=\"T_5f75d0fa_b2b2_11e9_aba0_c4b301cdc453row3_col23\" class=\"data row3 col23\" >0</td> \n",
       "        <td id=\"T_5f75d0fa_b2b2_11e9_aba0_c4b301cdc453row3_col24\" class=\"data row3 col24\" >Feb-1996</td> \n",
       "        <td id=\"T_5f75d0fa_b2b2_11e9_aba0_c4b301cdc453row3_col25\" class=\"data row3 col25\" >1</td> \n",
       "        <td id=\"T_5f75d0fa_b2b2_11e9_aba0_c4b301cdc453row3_col26\" class=\"data row3 col26\" >10</td> \n",
       "        <td id=\"T_5f75d0fa_b2b2_11e9_aba0_c4b301cdc453row3_col27\" class=\"data row3 col27\" >0</td> \n",
       "        <td id=\"T_5f75d0fa_b2b2_11e9_aba0_c4b301cdc453row3_col28\" class=\"data row3 col28\" >5598</td> \n",
       "        <td id=\"T_5f75d0fa_b2b2_11e9_aba0_c4b301cdc453row3_col29\" class=\"data row3 col29\" >21%</td> \n",
       "        <td id=\"T_5f75d0fa_b2b2_11e9_aba0_c4b301cdc453row3_col30\" class=\"data row3 col30\" >37</td> \n",
       "        <td id=\"T_5f75d0fa_b2b2_11e9_aba0_c4b301cdc453row3_col31\" class=\"data row3 col31\" >f</td> \n",
       "        <td id=\"T_5f75d0fa_b2b2_11e9_aba0_c4b301cdc453row3_col32\" class=\"data row3 col32\" >0</td> \n",
       "        <td id=\"T_5f75d0fa_b2b2_11e9_aba0_c4b301cdc453row3_col33\" class=\"data row3 col33\" >0</td> \n",
       "        <td id=\"T_5f75d0fa_b2b2_11e9_aba0_c4b301cdc453row3_col34\" class=\"data row3 col34\" >12231.9</td> \n",
       "        <td id=\"T_5f75d0fa_b2b2_11e9_aba0_c4b301cdc453row3_col35\" class=\"data row3 col35\" >12231.9</td> \n",
       "        <td id=\"T_5f75d0fa_b2b2_11e9_aba0_c4b301cdc453row3_col36\" class=\"data row3 col36\" >10000</td> \n",
       "        <td id=\"T_5f75d0fa_b2b2_11e9_aba0_c4b301cdc453row3_col37\" class=\"data row3 col37\" >2214.92</td> \n",
       "        <td id=\"T_5f75d0fa_b2b2_11e9_aba0_c4b301cdc453row3_col38\" class=\"data row3 col38\" >16.97</td> \n",
       "        <td id=\"T_5f75d0fa_b2b2_11e9_aba0_c4b301cdc453row3_col39\" class=\"data row3 col39\" >0</td> \n",
       "        <td id=\"T_5f75d0fa_b2b2_11e9_aba0_c4b301cdc453row3_col40\" class=\"data row3 col40\" >0</td> \n",
       "        <td id=\"T_5f75d0fa_b2b2_11e9_aba0_c4b301cdc453row3_col41\" class=\"data row3 col41\" >Jan-2015</td> \n",
       "        <td id=\"T_5f75d0fa_b2b2_11e9_aba0_c4b301cdc453row3_col42\" class=\"data row3 col42\" >357.48</td> \n",
       "        <td id=\"T_5f75d0fa_b2b2_11e9_aba0_c4b301cdc453row3_col43\" class=\"data row3 col43\" >Apr-2016</td> \n",
       "        <td id=\"T_5f75d0fa_b2b2_11e9_aba0_c4b301cdc453row3_col44\" class=\"data row3 col44\" >0</td> \n",
       "        <td id=\"T_5f75d0fa_b2b2_11e9_aba0_c4b301cdc453row3_col45\" class=\"data row3 col45\" >1</td> \n",
       "        <td id=\"T_5f75d0fa_b2b2_11e9_aba0_c4b301cdc453row3_col46\" class=\"data row3 col46\" >INDIVIDUAL</td> \n",
       "        <td id=\"T_5f75d0fa_b2b2_11e9_aba0_c4b301cdc453row3_col47\" class=\"data row3 col47\" >0</td> \n",
       "        <td id=\"T_5f75d0fa_b2b2_11e9_aba0_c4b301cdc453row3_col48\" class=\"data row3 col48\" >0</td> \n",
       "        <td id=\"T_5f75d0fa_b2b2_11e9_aba0_c4b301cdc453row3_col49\" class=\"data row3 col49\" >0</td> \n",
       "        <td id=\"T_5f75d0fa_b2b2_11e9_aba0_c4b301cdc453row3_col50\" class=\"data row3 col50\" >0</td> \n",
       "        <td id=\"T_5f75d0fa_b2b2_11e9_aba0_c4b301cdc453row3_col51\" class=\"data row3 col51\" >0</td> \n",
       "    </tr>    <tr> \n",
       "        <th id=\"T_5f75d0fa_b2b2_11e9_aba0_c4b301cdc453level0_row4\" class=\"row_heading level0 row4\" >4</th> \n",
       "        <td id=\"T_5f75d0fa_b2b2_11e9_aba0_c4b301cdc453row4_col0\" class=\"data row4 col0\" >1075358</td> \n",
       "        <td id=\"T_5f75d0fa_b2b2_11e9_aba0_c4b301cdc453row4_col1\" class=\"data row4 col1\" >1.31175e+06</td> \n",
       "        <td id=\"T_5f75d0fa_b2b2_11e9_aba0_c4b301cdc453row4_col2\" class=\"data row4 col2\" >3000</td> \n",
       "        <td id=\"T_5f75d0fa_b2b2_11e9_aba0_c4b301cdc453row4_col3\" class=\"data row4 col3\" >3000</td> \n",
       "        <td id=\"T_5f75d0fa_b2b2_11e9_aba0_c4b301cdc453row4_col4\" class=\"data row4 col4\" >3000</td> \n",
       "        <td id=\"T_5f75d0fa_b2b2_11e9_aba0_c4b301cdc453row4_col5\" class=\"data row4 col5\" > 60 months</td> \n",
       "        <td id=\"T_5f75d0fa_b2b2_11e9_aba0_c4b301cdc453row4_col6\" class=\"data row4 col6\" > 12.69%</td> \n",
       "        <td id=\"T_5f75d0fa_b2b2_11e9_aba0_c4b301cdc453row4_col7\" class=\"data row4 col7\" >67.79</td> \n",
       "        <td id=\"T_5f75d0fa_b2b2_11e9_aba0_c4b301cdc453row4_col8\" class=\"data row4 col8\" >B</td> \n",
       "        <td id=\"T_5f75d0fa_b2b2_11e9_aba0_c4b301cdc453row4_col9\" class=\"data row4 col9\" >B5</td> \n",
       "        <td id=\"T_5f75d0fa_b2b2_11e9_aba0_c4b301cdc453row4_col10\" class=\"data row4 col10\" >University Medical Group</td> \n",
       "        <td id=\"T_5f75d0fa_b2b2_11e9_aba0_c4b301cdc453row4_col11\" class=\"data row4 col11\" >1 year</td> \n",
       "        <td id=\"T_5f75d0fa_b2b2_11e9_aba0_c4b301cdc453row4_col12\" class=\"data row4 col12\" >RENT</td> \n",
       "        <td id=\"T_5f75d0fa_b2b2_11e9_aba0_c4b301cdc453row4_col13\" class=\"data row4 col13\" >80000</td> \n",
       "        <td id=\"T_5f75d0fa_b2b2_11e9_aba0_c4b301cdc453row4_col14\" class=\"data row4 col14\" >Source Verified</td> \n",
       "        <td id=\"T_5f75d0fa_b2b2_11e9_aba0_c4b301cdc453row4_col15\" class=\"data row4 col15\" >Dec-2011</td> \n",
       "        <td id=\"T_5f75d0fa_b2b2_11e9_aba0_c4b301cdc453row4_col16\" class=\"data row4 col16\" >Current</td> \n",
       "        <td id=\"T_5f75d0fa_b2b2_11e9_aba0_c4b301cdc453row4_col17\" class=\"data row4 col17\" >n</td> \n",
       "        <td id=\"T_5f75d0fa_b2b2_11e9_aba0_c4b301cdc453row4_col18\" class=\"data row4 col18\" >other</td> \n",
       "        <td id=\"T_5f75d0fa_b2b2_11e9_aba0_c4b301cdc453row4_col19\" class=\"data row4 col19\" >Personal</td> \n",
       "        <td id=\"T_5f75d0fa_b2b2_11e9_aba0_c4b301cdc453row4_col20\" class=\"data row4 col20\" >972xx</td> \n",
       "        <td id=\"T_5f75d0fa_b2b2_11e9_aba0_c4b301cdc453row4_col21\" class=\"data row4 col21\" >OR</td> \n",
       "        <td id=\"T_5f75d0fa_b2b2_11e9_aba0_c4b301cdc453row4_col22\" class=\"data row4 col22\" >17.94</td> \n",
       "        <td id=\"T_5f75d0fa_b2b2_11e9_aba0_c4b301cdc453row4_col23\" class=\"data row4 col23\" >0</td> \n",
       "        <td id=\"T_5f75d0fa_b2b2_11e9_aba0_c4b301cdc453row4_col24\" class=\"data row4 col24\" >Jan-1996</td> \n",
       "        <td id=\"T_5f75d0fa_b2b2_11e9_aba0_c4b301cdc453row4_col25\" class=\"data row4 col25\" >0</td> \n",
       "        <td id=\"T_5f75d0fa_b2b2_11e9_aba0_c4b301cdc453row4_col26\" class=\"data row4 col26\" >15</td> \n",
       "        <td id=\"T_5f75d0fa_b2b2_11e9_aba0_c4b301cdc453row4_col27\" class=\"data row4 col27\" >0</td> \n",
       "        <td id=\"T_5f75d0fa_b2b2_11e9_aba0_c4b301cdc453row4_col28\" class=\"data row4 col28\" >27783</td> \n",
       "        <td id=\"T_5f75d0fa_b2b2_11e9_aba0_c4b301cdc453row4_col29\" class=\"data row4 col29\" >53.9%</td> \n",
       "        <td id=\"T_5f75d0fa_b2b2_11e9_aba0_c4b301cdc453row4_col30\" class=\"data row4 col30\" >38</td> \n",
       "        <td id=\"T_5f75d0fa_b2b2_11e9_aba0_c4b301cdc453row4_col31\" class=\"data row4 col31\" >f</td> \n",
       "        <td id=\"T_5f75d0fa_b2b2_11e9_aba0_c4b301cdc453row4_col32\" class=\"data row4 col32\" >461.73</td> \n",
       "        <td id=\"T_5f75d0fa_b2b2_11e9_aba0_c4b301cdc453row4_col33\" class=\"data row4 col33\" >461.73</td> \n",
       "        <td id=\"T_5f75d0fa_b2b2_11e9_aba0_c4b301cdc453row4_col34\" class=\"data row4 col34\" >3581.12</td> \n",
       "        <td id=\"T_5f75d0fa_b2b2_11e9_aba0_c4b301cdc453row4_col35\" class=\"data row4 col35\" >3581.12</td> \n",
       "        <td id=\"T_5f75d0fa_b2b2_11e9_aba0_c4b301cdc453row4_col36\" class=\"data row4 col36\" >2538.27</td> \n",
       "        <td id=\"T_5f75d0fa_b2b2_11e9_aba0_c4b301cdc453row4_col37\" class=\"data row4 col37\" >1042.85</td> \n",
       "        <td id=\"T_5f75d0fa_b2b2_11e9_aba0_c4b301cdc453row4_col38\" class=\"data row4 col38\" >0</td> \n",
       "        <td id=\"T_5f75d0fa_b2b2_11e9_aba0_c4b301cdc453row4_col39\" class=\"data row4 col39\" >0</td> \n",
       "        <td id=\"T_5f75d0fa_b2b2_11e9_aba0_c4b301cdc453row4_col40\" class=\"data row4 col40\" >0</td> \n",
       "        <td id=\"T_5f75d0fa_b2b2_11e9_aba0_c4b301cdc453row4_col41\" class=\"data row4 col41\" >Jun-2016</td> \n",
       "        <td id=\"T_5f75d0fa_b2b2_11e9_aba0_c4b301cdc453row4_col42\" class=\"data row4 col42\" >67.79</td> \n",
       "        <td id=\"T_5f75d0fa_b2b2_11e9_aba0_c4b301cdc453row4_col43\" class=\"data row4 col43\" >Jun-2016</td> \n",
       "        <td id=\"T_5f75d0fa_b2b2_11e9_aba0_c4b301cdc453row4_col44\" class=\"data row4 col44\" >0</td> \n",
       "        <td id=\"T_5f75d0fa_b2b2_11e9_aba0_c4b301cdc453row4_col45\" class=\"data row4 col45\" >1</td> \n",
       "        <td id=\"T_5f75d0fa_b2b2_11e9_aba0_c4b301cdc453row4_col46\" class=\"data row4 col46\" >INDIVIDUAL</td> \n",
       "        <td id=\"T_5f75d0fa_b2b2_11e9_aba0_c4b301cdc453row4_col47\" class=\"data row4 col47\" >0</td> \n",
       "        <td id=\"T_5f75d0fa_b2b2_11e9_aba0_c4b301cdc453row4_col48\" class=\"data row4 col48\" >0</td> \n",
       "        <td id=\"T_5f75d0fa_b2b2_11e9_aba0_c4b301cdc453row4_col49\" class=\"data row4 col49\" >0</td> \n",
       "        <td id=\"T_5f75d0fa_b2b2_11e9_aba0_c4b301cdc453row4_col50\" class=\"data row4 col50\" >0</td> \n",
       "        <td id=\"T_5f75d0fa_b2b2_11e9_aba0_c4b301cdc453row4_col51\" class=\"data row4 col51\" >0</td> \n",
       "    </tr></tbody> \n",
       "</table> "
      ],
      "text/plain": [
       "<pandas.io.formats.style.Styler at 0x1a22ee5450>"
      ]
     },
     "execution_count": 5,
     "metadata": {},
     "output_type": "execute_result"
    }
   ],
   "source": [
    "#Briefly evaluation of the dataset\n",
    "df2table(loans_2007.head())"
   ]
  },
  {
   "cell_type": "code",
   "execution_count": 6,
   "metadata": {},
   "outputs": [
    {
     "data": {
      "text/plain": [
       "(42538, 52)"
      ]
     },
     "execution_count": 6,
     "metadata": {},
     "output_type": "execute_result"
    }
   ],
   "source": [
    "loans_2007.shape"
   ]
  },
  {
   "cell_type": "markdown",
   "metadata": {},
   "source": [
    "The Dataframe contains many columns (i.e   . features) and we need to understand which of them:\n",
    "\n",
    "- leak information from the future (introduction of information about the target, which should not be legitimately available to mine from, e.g. informations related to a period after the loan has already been funded)\n",
    "- don't affect a borrower's ability to pay back a loan (e.g. a randomly generated ID value by Lending Club)\n",
    "- formatted poorly and need to be cleaned up\n",
    "- require more data or a lot of processing to turn into a useful feature\n",
    "- contain redundant information\n",
    "\n",
    "Let's break up the columns into 3 groups of 18 columns and use the data dictionary to become familiar with what each column represents. "
   ]
  },
  {
   "cell_type": "code",
   "execution_count": 7,
   "metadata": {},
   "outputs": [
    {
     "data": {
      "text/html": [
       "<style  type=\"text/css\" >\n",
       "    #T_5f82c89e_b2b2_11e9_b83d_c4b301cdc453 tr:hover {\n",
       "          background-color: #ffff99;\n",
       "    }    #T_5f82c89e_b2b2_11e9_b83d_c4b301cdc453 th {\n",
       "          font-size: 150%;\n",
       "          text-align: center;\n",
       "    }    #T_5f82c89e_b2b2_11e9_b83d_c4b301cdc453 caption {\n",
       "          caption-side: bottom;\n",
       "    }</style>  \n",
       "<table id=\"T_5f82c89e_b2b2_11e9_b83d_c4b301cdc453\" ><caption>Hover to highlight.</caption> \n",
       "<thead>    <tr> \n",
       "        <th class=\"blank level0\" ></th> \n",
       "        <th class=\"col_heading level0 col0\" >name</th> \n",
       "        <th class=\"col_heading level0 col1\" >dtype</th> \n",
       "        <th class=\"col_heading level0 col2\" >first value</th> \n",
       "        <th class=\"col_heading level0 col3\" >Description</th> \n",
       "    </tr></thead> \n",
       "<tbody>    <tr> \n",
       "        <th id=\"T_5f82c89e_b2b2_11e9_b83d_c4b301cdc453level0_row0\" class=\"row_heading level0 row0\" >0</th> \n",
       "        <td id=\"T_5f82c89e_b2b2_11e9_b83d_c4b301cdc453row0_col0\" class=\"data row0 col0\" >id</td> \n",
       "        <td id=\"T_5f82c89e_b2b2_11e9_b83d_c4b301cdc453row0_col1\" class=\"data row0 col1\" >object</td> \n",
       "        <td id=\"T_5f82c89e_b2b2_11e9_b83d_c4b301cdc453row0_col2\" class=\"data row0 col2\" >1077501</td> \n",
       "        <td id=\"T_5f82c89e_b2b2_11e9_b83d_c4b301cdc453row0_col3\" class=\"data row0 col3\" >A unique LC assigned ID for the loan listing.</td> \n",
       "    </tr>    <tr> \n",
       "        <th id=\"T_5f82c89e_b2b2_11e9_b83d_c4b301cdc453level0_row1\" class=\"row_heading level0 row1\" >1</th> \n",
       "        <td id=\"T_5f82c89e_b2b2_11e9_b83d_c4b301cdc453row1_col0\" class=\"data row1 col0\" >member_id</td> \n",
       "        <td id=\"T_5f82c89e_b2b2_11e9_b83d_c4b301cdc453row1_col1\" class=\"data row1 col1\" >float64</td> \n",
       "        <td id=\"T_5f82c89e_b2b2_11e9_b83d_c4b301cdc453row1_col2\" class=\"data row1 col2\" >1.2966e+06</td> \n",
       "        <td id=\"T_5f82c89e_b2b2_11e9_b83d_c4b301cdc453row1_col3\" class=\"data row1 col3\" >A unique LC assigned Id for the borrower member.</td> \n",
       "    </tr>    <tr> \n",
       "        <th id=\"T_5f82c89e_b2b2_11e9_b83d_c4b301cdc453level0_row2\" class=\"row_heading level0 row2\" >2</th> \n",
       "        <td id=\"T_5f82c89e_b2b2_11e9_b83d_c4b301cdc453row2_col0\" class=\"data row2 col0\" >loan_amnt</td> \n",
       "        <td id=\"T_5f82c89e_b2b2_11e9_b83d_c4b301cdc453row2_col1\" class=\"data row2 col1\" >float64</td> \n",
       "        <td id=\"T_5f82c89e_b2b2_11e9_b83d_c4b301cdc453row2_col2\" class=\"data row2 col2\" >5000</td> \n",
       "        <td id=\"T_5f82c89e_b2b2_11e9_b83d_c4b301cdc453row2_col3\" class=\"data row2 col3\" >The listed amount of the loan applied for by the borrower. If at some point in time, the credit department reduces the loan amount, then it will be reflected in this value.</td> \n",
       "    </tr>    <tr> \n",
       "        <th id=\"T_5f82c89e_b2b2_11e9_b83d_c4b301cdc453level0_row3\" class=\"row_heading level0 row3\" >3</th> \n",
       "        <td id=\"T_5f82c89e_b2b2_11e9_b83d_c4b301cdc453row3_col0\" class=\"data row3 col0\" >funded_amnt</td> \n",
       "        <td id=\"T_5f82c89e_b2b2_11e9_b83d_c4b301cdc453row3_col1\" class=\"data row3 col1\" >float64</td> \n",
       "        <td id=\"T_5f82c89e_b2b2_11e9_b83d_c4b301cdc453row3_col2\" class=\"data row3 col2\" >5000</td> \n",
       "        <td id=\"T_5f82c89e_b2b2_11e9_b83d_c4b301cdc453row3_col3\" class=\"data row3 col3\" >The total amount committed to that loan at that point in time.</td> \n",
       "    </tr>    <tr> \n",
       "        <th id=\"T_5f82c89e_b2b2_11e9_b83d_c4b301cdc453level0_row4\" class=\"row_heading level0 row4\" >4</th> \n",
       "        <td id=\"T_5f82c89e_b2b2_11e9_b83d_c4b301cdc453row4_col0\" class=\"data row4 col0\" >funded_amnt_inv</td> \n",
       "        <td id=\"T_5f82c89e_b2b2_11e9_b83d_c4b301cdc453row4_col1\" class=\"data row4 col1\" >float64</td> \n",
       "        <td id=\"T_5f82c89e_b2b2_11e9_b83d_c4b301cdc453row4_col2\" class=\"data row4 col2\" >4975</td> \n",
       "        <td id=\"T_5f82c89e_b2b2_11e9_b83d_c4b301cdc453row4_col3\" class=\"data row4 col3\" >The total amount committed by investors for that loan at that point in time.</td> \n",
       "    </tr>    <tr> \n",
       "        <th id=\"T_5f82c89e_b2b2_11e9_b83d_c4b301cdc453level0_row5\" class=\"row_heading level0 row5\" >5</th> \n",
       "        <td id=\"T_5f82c89e_b2b2_11e9_b83d_c4b301cdc453row5_col0\" class=\"data row5 col0\" >term</td> \n",
       "        <td id=\"T_5f82c89e_b2b2_11e9_b83d_c4b301cdc453row5_col1\" class=\"data row5 col1\" >object</td> \n",
       "        <td id=\"T_5f82c89e_b2b2_11e9_b83d_c4b301cdc453row5_col2\" class=\"data row5 col2\" > 36 months</td> \n",
       "        <td id=\"T_5f82c89e_b2b2_11e9_b83d_c4b301cdc453row5_col3\" class=\"data row5 col3\" >The number of payments on the loan. Values are in months and can be either 36 or 60.</td> \n",
       "    </tr>    <tr> \n",
       "        <th id=\"T_5f82c89e_b2b2_11e9_b83d_c4b301cdc453level0_row6\" class=\"row_heading level0 row6\" >6</th> \n",
       "        <td id=\"T_5f82c89e_b2b2_11e9_b83d_c4b301cdc453row6_col0\" class=\"data row6 col0\" >int_rate</td> \n",
       "        <td id=\"T_5f82c89e_b2b2_11e9_b83d_c4b301cdc453row6_col1\" class=\"data row6 col1\" >object</td> \n",
       "        <td id=\"T_5f82c89e_b2b2_11e9_b83d_c4b301cdc453row6_col2\" class=\"data row6 col2\" > 10.65%</td> \n",
       "        <td id=\"T_5f82c89e_b2b2_11e9_b83d_c4b301cdc453row6_col3\" class=\"data row6 col3\" >Interest Rate on the loan</td> \n",
       "    </tr>    <tr> \n",
       "        <th id=\"T_5f82c89e_b2b2_11e9_b83d_c4b301cdc453level0_row7\" class=\"row_heading level0 row7\" >7</th> \n",
       "        <td id=\"T_5f82c89e_b2b2_11e9_b83d_c4b301cdc453row7_col0\" class=\"data row7 col0\" >installment</td> \n",
       "        <td id=\"T_5f82c89e_b2b2_11e9_b83d_c4b301cdc453row7_col1\" class=\"data row7 col1\" >float64</td> \n",
       "        <td id=\"T_5f82c89e_b2b2_11e9_b83d_c4b301cdc453row7_col2\" class=\"data row7 col2\" >162.87</td> \n",
       "        <td id=\"T_5f82c89e_b2b2_11e9_b83d_c4b301cdc453row7_col3\" class=\"data row7 col3\" >The monthly payment owed by the borrower if the loan originates.</td> \n",
       "    </tr>    <tr> \n",
       "        <th id=\"T_5f82c89e_b2b2_11e9_b83d_c4b301cdc453level0_row8\" class=\"row_heading level0 row8\" >8</th> \n",
       "        <td id=\"T_5f82c89e_b2b2_11e9_b83d_c4b301cdc453row8_col0\" class=\"data row8 col0\" >grade</td> \n",
       "        <td id=\"T_5f82c89e_b2b2_11e9_b83d_c4b301cdc453row8_col1\" class=\"data row8 col1\" >object</td> \n",
       "        <td id=\"T_5f82c89e_b2b2_11e9_b83d_c4b301cdc453row8_col2\" class=\"data row8 col2\" >B</td> \n",
       "        <td id=\"T_5f82c89e_b2b2_11e9_b83d_c4b301cdc453row8_col3\" class=\"data row8 col3\" >LC assigned loan grade</td> \n",
       "    </tr>    <tr> \n",
       "        <th id=\"T_5f82c89e_b2b2_11e9_b83d_c4b301cdc453level0_row9\" class=\"row_heading level0 row9\" >9</th> \n",
       "        <td id=\"T_5f82c89e_b2b2_11e9_b83d_c4b301cdc453row9_col0\" class=\"data row9 col0\" >sub_grade</td> \n",
       "        <td id=\"T_5f82c89e_b2b2_11e9_b83d_c4b301cdc453row9_col1\" class=\"data row9 col1\" >object</td> \n",
       "        <td id=\"T_5f82c89e_b2b2_11e9_b83d_c4b301cdc453row9_col2\" class=\"data row9 col2\" >B2</td> \n",
       "        <td id=\"T_5f82c89e_b2b2_11e9_b83d_c4b301cdc453row9_col3\" class=\"data row9 col3\" >LC assigned loan subgrade</td> \n",
       "    </tr>    <tr> \n",
       "        <th id=\"T_5f82c89e_b2b2_11e9_b83d_c4b301cdc453level0_row10\" class=\"row_heading level0 row10\" >10</th> \n",
       "        <td id=\"T_5f82c89e_b2b2_11e9_b83d_c4b301cdc453row10_col0\" class=\"data row10 col0\" >emp_title</td> \n",
       "        <td id=\"T_5f82c89e_b2b2_11e9_b83d_c4b301cdc453row10_col1\" class=\"data row10 col1\" >object</td> \n",
       "        <td id=\"T_5f82c89e_b2b2_11e9_b83d_c4b301cdc453row10_col2\" class=\"data row10 col2\" >nan</td> \n",
       "        <td id=\"T_5f82c89e_b2b2_11e9_b83d_c4b301cdc453row10_col3\" class=\"data row10 col3\" >The job title supplied by the Borrower when applying for the loan.*</td> \n",
       "    </tr>    <tr> \n",
       "        <th id=\"T_5f82c89e_b2b2_11e9_b83d_c4b301cdc453level0_row11\" class=\"row_heading level0 row11\" >11</th> \n",
       "        <td id=\"T_5f82c89e_b2b2_11e9_b83d_c4b301cdc453row11_col0\" class=\"data row11 col0\" >emp_length</td> \n",
       "        <td id=\"T_5f82c89e_b2b2_11e9_b83d_c4b301cdc453row11_col1\" class=\"data row11 col1\" >object</td> \n",
       "        <td id=\"T_5f82c89e_b2b2_11e9_b83d_c4b301cdc453row11_col2\" class=\"data row11 col2\" >10+ years</td> \n",
       "        <td id=\"T_5f82c89e_b2b2_11e9_b83d_c4b301cdc453row11_col3\" class=\"data row11 col3\" >Employment length in years. Possible values are between 0 and 10 where 0 means less than one year and 10 means ten or more years. </td> \n",
       "    </tr>    <tr> \n",
       "        <th id=\"T_5f82c89e_b2b2_11e9_b83d_c4b301cdc453level0_row12\" class=\"row_heading level0 row12\" >12</th> \n",
       "        <td id=\"T_5f82c89e_b2b2_11e9_b83d_c4b301cdc453row12_col0\" class=\"data row12 col0\" >home_ownership</td> \n",
       "        <td id=\"T_5f82c89e_b2b2_11e9_b83d_c4b301cdc453row12_col1\" class=\"data row12 col1\" >object</td> \n",
       "        <td id=\"T_5f82c89e_b2b2_11e9_b83d_c4b301cdc453row12_col2\" class=\"data row12 col2\" >RENT</td> \n",
       "        <td id=\"T_5f82c89e_b2b2_11e9_b83d_c4b301cdc453row12_col3\" class=\"data row12 col3\" >The home ownership status provided by the borrower during registration or obtained from the credit report. Our values are: RENT, OWN, MORTGAGE, OTHER</td> \n",
       "    </tr>    <tr> \n",
       "        <th id=\"T_5f82c89e_b2b2_11e9_b83d_c4b301cdc453level0_row13\" class=\"row_heading level0 row13\" >13</th> \n",
       "        <td id=\"T_5f82c89e_b2b2_11e9_b83d_c4b301cdc453row13_col0\" class=\"data row13 col0\" >annual_inc</td> \n",
       "        <td id=\"T_5f82c89e_b2b2_11e9_b83d_c4b301cdc453row13_col1\" class=\"data row13 col1\" >float64</td> \n",
       "        <td id=\"T_5f82c89e_b2b2_11e9_b83d_c4b301cdc453row13_col2\" class=\"data row13 col2\" >24000</td> \n",
       "        <td id=\"T_5f82c89e_b2b2_11e9_b83d_c4b301cdc453row13_col3\" class=\"data row13 col3\" >The self-reported annual income provided by the borrower during registration.</td> \n",
       "    </tr>    <tr> \n",
       "        <th id=\"T_5f82c89e_b2b2_11e9_b83d_c4b301cdc453level0_row14\" class=\"row_heading level0 row14\" >14</th> \n",
       "        <td id=\"T_5f82c89e_b2b2_11e9_b83d_c4b301cdc453row14_col0\" class=\"data row14 col0\" >verification_status</td> \n",
       "        <td id=\"T_5f82c89e_b2b2_11e9_b83d_c4b301cdc453row14_col1\" class=\"data row14 col1\" >object</td> \n",
       "        <td id=\"T_5f82c89e_b2b2_11e9_b83d_c4b301cdc453row14_col2\" class=\"data row14 col2\" >Verified</td> \n",
       "        <td id=\"T_5f82c89e_b2b2_11e9_b83d_c4b301cdc453row14_col3\" class=\"data row14 col3\" >Indicates if income was verified by LC, not verified, or if the income source was verified</td> \n",
       "    </tr>    <tr> \n",
       "        <th id=\"T_5f82c89e_b2b2_11e9_b83d_c4b301cdc453level0_row15\" class=\"row_heading level0 row15\" >15</th> \n",
       "        <td id=\"T_5f82c89e_b2b2_11e9_b83d_c4b301cdc453row15_col0\" class=\"data row15 col0\" >issue_d</td> \n",
       "        <td id=\"T_5f82c89e_b2b2_11e9_b83d_c4b301cdc453row15_col1\" class=\"data row15 col1\" >object</td> \n",
       "        <td id=\"T_5f82c89e_b2b2_11e9_b83d_c4b301cdc453row15_col2\" class=\"data row15 col2\" >Dec-2011</td> \n",
       "        <td id=\"T_5f82c89e_b2b2_11e9_b83d_c4b301cdc453row15_col3\" class=\"data row15 col3\" >The month which the loan was funded</td> \n",
       "    </tr>    <tr> \n",
       "        <th id=\"T_5f82c89e_b2b2_11e9_b83d_c4b301cdc453level0_row16\" class=\"row_heading level0 row16\" >16</th> \n",
       "        <td id=\"T_5f82c89e_b2b2_11e9_b83d_c4b301cdc453row16_col0\" class=\"data row16 col0\" >loan_status</td> \n",
       "        <td id=\"T_5f82c89e_b2b2_11e9_b83d_c4b301cdc453row16_col1\" class=\"data row16 col1\" >object</td> \n",
       "        <td id=\"T_5f82c89e_b2b2_11e9_b83d_c4b301cdc453row16_col2\" class=\"data row16 col2\" >Fully Paid</td> \n",
       "        <td id=\"T_5f82c89e_b2b2_11e9_b83d_c4b301cdc453row16_col3\" class=\"data row16 col3\" >Current status of the loan</td> \n",
       "    </tr>    <tr> \n",
       "        <th id=\"T_5f82c89e_b2b2_11e9_b83d_c4b301cdc453level0_row17\" class=\"row_heading level0 row17\" >17</th> \n",
       "        <td id=\"T_5f82c89e_b2b2_11e9_b83d_c4b301cdc453row17_col0\" class=\"data row17 col0\" >pymnt_plan</td> \n",
       "        <td id=\"T_5f82c89e_b2b2_11e9_b83d_c4b301cdc453row17_col1\" class=\"data row17 col1\" >object</td> \n",
       "        <td id=\"T_5f82c89e_b2b2_11e9_b83d_c4b301cdc453row17_col2\" class=\"data row17 col2\" >n</td> \n",
       "        <td id=\"T_5f82c89e_b2b2_11e9_b83d_c4b301cdc453row17_col3\" class=\"data row17 col3\" >Indicates if a payment plan has been put in place for the loan</td> \n",
       "    </tr></tbody> \n",
       "</table> "
      ],
      "text/plain": [
       "<pandas.io.formats.style.Styler at 0x10e849410>"
      ]
     },
     "execution_count": 7,
     "metadata": {},
     "output_type": "execute_result"
    }
   ],
   "source": [
    "# create table with the name of the features in the original dataframe, their corresponding type, \n",
    "#first value and description according to the LCDataDictionary.xlsx file \n",
    "cols = loans_2007.columns.values\n",
    "table_summary = pd.DataFrame()\n",
    "table_summary['name'] = cols\n",
    "table_summary['dtype'] = loans_2007[cols].dtypes.values\n",
    "table_summary['first value'] = loans_2007[cols].iloc[0].values\n",
    "table_summary = table_summary.merge(loans_description, left_on='name', right_on='LoanStatNew')\n",
    "table_summary.drop(\"LoanStatNew\", axis = 1, inplace = True)\n",
    "df2table(table_summary[:18])"
   ]
  },
  {
   "cell_type": "code",
   "execution_count": 8,
   "metadata": {},
   "outputs": [
    {
     "data": {
      "text/html": [
       "<style  type=\"text/css\" >\n",
       "    #T_5f85bb33_b2b2_11e9_9434_c4b301cdc453 tr:hover {\n",
       "          background-color: #ffff99;\n",
       "    }    #T_5f85bb33_b2b2_11e9_9434_c4b301cdc453 th {\n",
       "          font-size: 150%;\n",
       "          text-align: center;\n",
       "    }    #T_5f85bb33_b2b2_11e9_9434_c4b301cdc453 caption {\n",
       "          caption-side: bottom;\n",
       "    }</style>  \n",
       "<table id=\"T_5f85bb33_b2b2_11e9_9434_c4b301cdc453\" ><caption>Hover to highlight.</caption> \n",
       "<thead>    <tr> \n",
       "        <th class=\"blank level0\" ></th> \n",
       "        <th class=\"col_heading level0 col0\" >name</th> \n",
       "        <th class=\"col_heading level0 col1\" >dtype</th> \n",
       "        <th class=\"col_heading level0 col2\" >first value</th> \n",
       "        <th class=\"col_heading level0 col3\" >Description</th> \n",
       "    </tr></thead> \n",
       "<tbody>    <tr> \n",
       "        <th id=\"T_5f85bb33_b2b2_11e9_9434_c4b301cdc453level0_row0\" class=\"row_heading level0 row0\" >18</th> \n",
       "        <td id=\"T_5f85bb33_b2b2_11e9_9434_c4b301cdc453row0_col0\" class=\"data row0 col0\" >purpose</td> \n",
       "        <td id=\"T_5f85bb33_b2b2_11e9_9434_c4b301cdc453row0_col1\" class=\"data row0 col1\" >object</td> \n",
       "        <td id=\"T_5f85bb33_b2b2_11e9_9434_c4b301cdc453row0_col2\" class=\"data row0 col2\" >credit_card</td> \n",
       "        <td id=\"T_5f85bb33_b2b2_11e9_9434_c4b301cdc453row0_col3\" class=\"data row0 col3\" >A category provided by the borrower for the loan request. </td> \n",
       "    </tr>    <tr> \n",
       "        <th id=\"T_5f85bb33_b2b2_11e9_9434_c4b301cdc453level0_row1\" class=\"row_heading level0 row1\" >19</th> \n",
       "        <td id=\"T_5f85bb33_b2b2_11e9_9434_c4b301cdc453row1_col0\" class=\"data row1 col0\" >title</td> \n",
       "        <td id=\"T_5f85bb33_b2b2_11e9_9434_c4b301cdc453row1_col1\" class=\"data row1 col1\" >object</td> \n",
       "        <td id=\"T_5f85bb33_b2b2_11e9_9434_c4b301cdc453row1_col2\" class=\"data row1 col2\" >Computer</td> \n",
       "        <td id=\"T_5f85bb33_b2b2_11e9_9434_c4b301cdc453row1_col3\" class=\"data row1 col3\" >The loan title provided by the borrower</td> \n",
       "    </tr>    <tr> \n",
       "        <th id=\"T_5f85bb33_b2b2_11e9_9434_c4b301cdc453level0_row2\" class=\"row_heading level0 row2\" >20</th> \n",
       "        <td id=\"T_5f85bb33_b2b2_11e9_9434_c4b301cdc453row2_col0\" class=\"data row2 col0\" >zip_code</td> \n",
       "        <td id=\"T_5f85bb33_b2b2_11e9_9434_c4b301cdc453row2_col1\" class=\"data row2 col1\" >object</td> \n",
       "        <td id=\"T_5f85bb33_b2b2_11e9_9434_c4b301cdc453row2_col2\" class=\"data row2 col2\" >860xx</td> \n",
       "        <td id=\"T_5f85bb33_b2b2_11e9_9434_c4b301cdc453row2_col3\" class=\"data row2 col3\" >The first 3 numbers of the zip code provided by the borrower in the loan application.</td> \n",
       "    </tr>    <tr> \n",
       "        <th id=\"T_5f85bb33_b2b2_11e9_9434_c4b301cdc453level0_row3\" class=\"row_heading level0 row3\" >21</th> \n",
       "        <td id=\"T_5f85bb33_b2b2_11e9_9434_c4b301cdc453row3_col0\" class=\"data row3 col0\" >addr_state</td> \n",
       "        <td id=\"T_5f85bb33_b2b2_11e9_9434_c4b301cdc453row3_col1\" class=\"data row3 col1\" >object</td> \n",
       "        <td id=\"T_5f85bb33_b2b2_11e9_9434_c4b301cdc453row3_col2\" class=\"data row3 col2\" >AZ</td> \n",
       "        <td id=\"T_5f85bb33_b2b2_11e9_9434_c4b301cdc453row3_col3\" class=\"data row3 col3\" >The state provided by the borrower in the loan application</td> \n",
       "    </tr>    <tr> \n",
       "        <th id=\"T_5f85bb33_b2b2_11e9_9434_c4b301cdc453level0_row4\" class=\"row_heading level0 row4\" >22</th> \n",
       "        <td id=\"T_5f85bb33_b2b2_11e9_9434_c4b301cdc453row4_col0\" class=\"data row4 col0\" >dti</td> \n",
       "        <td id=\"T_5f85bb33_b2b2_11e9_9434_c4b301cdc453row4_col1\" class=\"data row4 col1\" >float64</td> \n",
       "        <td id=\"T_5f85bb33_b2b2_11e9_9434_c4b301cdc453row4_col2\" class=\"data row4 col2\" >27.65</td> \n",
       "        <td id=\"T_5f85bb33_b2b2_11e9_9434_c4b301cdc453row4_col3\" class=\"data row4 col3\" >A ratio calculated using the borrower’s total monthly debt payments on the total debt obligations, excluding mortgage and the requested LC loan, divided by the borrower’s self-reported monthly income.</td> \n",
       "    </tr>    <tr> \n",
       "        <th id=\"T_5f85bb33_b2b2_11e9_9434_c4b301cdc453level0_row5\" class=\"row_heading level0 row5\" >23</th> \n",
       "        <td id=\"T_5f85bb33_b2b2_11e9_9434_c4b301cdc453row5_col0\" class=\"data row5 col0\" >delinq_2yrs</td> \n",
       "        <td id=\"T_5f85bb33_b2b2_11e9_9434_c4b301cdc453row5_col1\" class=\"data row5 col1\" >float64</td> \n",
       "        <td id=\"T_5f85bb33_b2b2_11e9_9434_c4b301cdc453row5_col2\" class=\"data row5 col2\" >0</td> \n",
       "        <td id=\"T_5f85bb33_b2b2_11e9_9434_c4b301cdc453row5_col3\" class=\"data row5 col3\" >The number of 30+ days past-due incidences of delinquency in the borrower's credit file for the past 2 years</td> \n",
       "    </tr>    <tr> \n",
       "        <th id=\"T_5f85bb33_b2b2_11e9_9434_c4b301cdc453level0_row6\" class=\"row_heading level0 row6\" >24</th> \n",
       "        <td id=\"T_5f85bb33_b2b2_11e9_9434_c4b301cdc453row6_col0\" class=\"data row6 col0\" >earliest_cr_line</td> \n",
       "        <td id=\"T_5f85bb33_b2b2_11e9_9434_c4b301cdc453row6_col1\" class=\"data row6 col1\" >object</td> \n",
       "        <td id=\"T_5f85bb33_b2b2_11e9_9434_c4b301cdc453row6_col2\" class=\"data row6 col2\" >Jan-1985</td> \n",
       "        <td id=\"T_5f85bb33_b2b2_11e9_9434_c4b301cdc453row6_col3\" class=\"data row6 col3\" >The month the borrower's earliest reported credit line was opened</td> \n",
       "    </tr>    <tr> \n",
       "        <th id=\"T_5f85bb33_b2b2_11e9_9434_c4b301cdc453level0_row7\" class=\"row_heading level0 row7\" >25</th> \n",
       "        <td id=\"T_5f85bb33_b2b2_11e9_9434_c4b301cdc453row7_col0\" class=\"data row7 col0\" >inq_last_6mths</td> \n",
       "        <td id=\"T_5f85bb33_b2b2_11e9_9434_c4b301cdc453row7_col1\" class=\"data row7 col1\" >float64</td> \n",
       "        <td id=\"T_5f85bb33_b2b2_11e9_9434_c4b301cdc453row7_col2\" class=\"data row7 col2\" >1</td> \n",
       "        <td id=\"T_5f85bb33_b2b2_11e9_9434_c4b301cdc453row7_col3\" class=\"data row7 col3\" >The number of inquiries in past 6 months (excluding auto and mortgage inquiries)</td> \n",
       "    </tr>    <tr> \n",
       "        <th id=\"T_5f85bb33_b2b2_11e9_9434_c4b301cdc453level0_row8\" class=\"row_heading level0 row8\" >26</th> \n",
       "        <td id=\"T_5f85bb33_b2b2_11e9_9434_c4b301cdc453row8_col0\" class=\"data row8 col0\" >open_acc</td> \n",
       "        <td id=\"T_5f85bb33_b2b2_11e9_9434_c4b301cdc453row8_col1\" class=\"data row8 col1\" >float64</td> \n",
       "        <td id=\"T_5f85bb33_b2b2_11e9_9434_c4b301cdc453row8_col2\" class=\"data row8 col2\" >3</td> \n",
       "        <td id=\"T_5f85bb33_b2b2_11e9_9434_c4b301cdc453row8_col3\" class=\"data row8 col3\" >The number of open credit lines in the borrower's credit file.</td> \n",
       "    </tr>    <tr> \n",
       "        <th id=\"T_5f85bb33_b2b2_11e9_9434_c4b301cdc453level0_row9\" class=\"row_heading level0 row9\" >27</th> \n",
       "        <td id=\"T_5f85bb33_b2b2_11e9_9434_c4b301cdc453row9_col0\" class=\"data row9 col0\" >pub_rec</td> \n",
       "        <td id=\"T_5f85bb33_b2b2_11e9_9434_c4b301cdc453row9_col1\" class=\"data row9 col1\" >float64</td> \n",
       "        <td id=\"T_5f85bb33_b2b2_11e9_9434_c4b301cdc453row9_col2\" class=\"data row9 col2\" >0</td> \n",
       "        <td id=\"T_5f85bb33_b2b2_11e9_9434_c4b301cdc453row9_col3\" class=\"data row9 col3\" >Number of derogatory public records</td> \n",
       "    </tr>    <tr> \n",
       "        <th id=\"T_5f85bb33_b2b2_11e9_9434_c4b301cdc453level0_row10\" class=\"row_heading level0 row10\" >28</th> \n",
       "        <td id=\"T_5f85bb33_b2b2_11e9_9434_c4b301cdc453row10_col0\" class=\"data row10 col0\" >revol_bal</td> \n",
       "        <td id=\"T_5f85bb33_b2b2_11e9_9434_c4b301cdc453row10_col1\" class=\"data row10 col1\" >float64</td> \n",
       "        <td id=\"T_5f85bb33_b2b2_11e9_9434_c4b301cdc453row10_col2\" class=\"data row10 col2\" >13648</td> \n",
       "        <td id=\"T_5f85bb33_b2b2_11e9_9434_c4b301cdc453row10_col3\" class=\"data row10 col3\" >Total credit revolving balance</td> \n",
       "    </tr>    <tr> \n",
       "        <th id=\"T_5f85bb33_b2b2_11e9_9434_c4b301cdc453level0_row11\" class=\"row_heading level0 row11\" >29</th> \n",
       "        <td id=\"T_5f85bb33_b2b2_11e9_9434_c4b301cdc453row11_col0\" class=\"data row11 col0\" >revol_util</td> \n",
       "        <td id=\"T_5f85bb33_b2b2_11e9_9434_c4b301cdc453row11_col1\" class=\"data row11 col1\" >object</td> \n",
       "        <td id=\"T_5f85bb33_b2b2_11e9_9434_c4b301cdc453row11_col2\" class=\"data row11 col2\" >83.7%</td> \n",
       "        <td id=\"T_5f85bb33_b2b2_11e9_9434_c4b301cdc453row11_col3\" class=\"data row11 col3\" >Revolving line utilization rate, or the amount of credit the borrower is using relative to all available revolving credit.</td> \n",
       "    </tr>    <tr> \n",
       "        <th id=\"T_5f85bb33_b2b2_11e9_9434_c4b301cdc453level0_row12\" class=\"row_heading level0 row12\" >30</th> \n",
       "        <td id=\"T_5f85bb33_b2b2_11e9_9434_c4b301cdc453row12_col0\" class=\"data row12 col0\" >total_acc</td> \n",
       "        <td id=\"T_5f85bb33_b2b2_11e9_9434_c4b301cdc453row12_col1\" class=\"data row12 col1\" >float64</td> \n",
       "        <td id=\"T_5f85bb33_b2b2_11e9_9434_c4b301cdc453row12_col2\" class=\"data row12 col2\" >9</td> \n",
       "        <td id=\"T_5f85bb33_b2b2_11e9_9434_c4b301cdc453row12_col3\" class=\"data row12 col3\" >The total number of credit lines currently in the borrower's credit file</td> \n",
       "    </tr>    <tr> \n",
       "        <th id=\"T_5f85bb33_b2b2_11e9_9434_c4b301cdc453level0_row13\" class=\"row_heading level0 row13\" >31</th> \n",
       "        <td id=\"T_5f85bb33_b2b2_11e9_9434_c4b301cdc453row13_col0\" class=\"data row13 col0\" >initial_list_status</td> \n",
       "        <td id=\"T_5f85bb33_b2b2_11e9_9434_c4b301cdc453row13_col1\" class=\"data row13 col1\" >object</td> \n",
       "        <td id=\"T_5f85bb33_b2b2_11e9_9434_c4b301cdc453row13_col2\" class=\"data row13 col2\" >f</td> \n",
       "        <td id=\"T_5f85bb33_b2b2_11e9_9434_c4b301cdc453row13_col3\" class=\"data row13 col3\" >The initial listing status of the loan. Possible values are – W, F</td> \n",
       "    </tr>    <tr> \n",
       "        <th id=\"T_5f85bb33_b2b2_11e9_9434_c4b301cdc453level0_row14\" class=\"row_heading level0 row14\" >32</th> \n",
       "        <td id=\"T_5f85bb33_b2b2_11e9_9434_c4b301cdc453row14_col0\" class=\"data row14 col0\" >out_prncp</td> \n",
       "        <td id=\"T_5f85bb33_b2b2_11e9_9434_c4b301cdc453row14_col1\" class=\"data row14 col1\" >float64</td> \n",
       "        <td id=\"T_5f85bb33_b2b2_11e9_9434_c4b301cdc453row14_col2\" class=\"data row14 col2\" >0</td> \n",
       "        <td id=\"T_5f85bb33_b2b2_11e9_9434_c4b301cdc453row14_col3\" class=\"data row14 col3\" >Remaining outstanding principal for total amount funded</td> \n",
       "    </tr>    <tr> \n",
       "        <th id=\"T_5f85bb33_b2b2_11e9_9434_c4b301cdc453level0_row15\" class=\"row_heading level0 row15\" >33</th> \n",
       "        <td id=\"T_5f85bb33_b2b2_11e9_9434_c4b301cdc453row15_col0\" class=\"data row15 col0\" >out_prncp_inv</td> \n",
       "        <td id=\"T_5f85bb33_b2b2_11e9_9434_c4b301cdc453row15_col1\" class=\"data row15 col1\" >float64</td> \n",
       "        <td id=\"T_5f85bb33_b2b2_11e9_9434_c4b301cdc453row15_col2\" class=\"data row15 col2\" >0</td> \n",
       "        <td id=\"T_5f85bb33_b2b2_11e9_9434_c4b301cdc453row15_col3\" class=\"data row15 col3\" >Remaining outstanding principal for portion of total amount funded by investors</td> \n",
       "    </tr>    <tr> \n",
       "        <th id=\"T_5f85bb33_b2b2_11e9_9434_c4b301cdc453level0_row16\" class=\"row_heading level0 row16\" >34</th> \n",
       "        <td id=\"T_5f85bb33_b2b2_11e9_9434_c4b301cdc453row16_col0\" class=\"data row16 col0\" >total_pymnt</td> \n",
       "        <td id=\"T_5f85bb33_b2b2_11e9_9434_c4b301cdc453row16_col1\" class=\"data row16 col1\" >float64</td> \n",
       "        <td id=\"T_5f85bb33_b2b2_11e9_9434_c4b301cdc453row16_col2\" class=\"data row16 col2\" >5863.16</td> \n",
       "        <td id=\"T_5f85bb33_b2b2_11e9_9434_c4b301cdc453row16_col3\" class=\"data row16 col3\" >Payments received to date for total amount funded</td> \n",
       "    </tr>    <tr> \n",
       "        <th id=\"T_5f85bb33_b2b2_11e9_9434_c4b301cdc453level0_row17\" class=\"row_heading level0 row17\" >35</th> \n",
       "        <td id=\"T_5f85bb33_b2b2_11e9_9434_c4b301cdc453row17_col0\" class=\"data row17 col0\" >total_pymnt_inv</td> \n",
       "        <td id=\"T_5f85bb33_b2b2_11e9_9434_c4b301cdc453row17_col1\" class=\"data row17 col1\" >float64</td> \n",
       "        <td id=\"T_5f85bb33_b2b2_11e9_9434_c4b301cdc453row17_col2\" class=\"data row17 col2\" >5833.84</td> \n",
       "        <td id=\"T_5f85bb33_b2b2_11e9_9434_c4b301cdc453row17_col3\" class=\"data row17 col3\" >Payments received to date for portion of total amount funded by investors</td> \n",
       "    </tr>    <tr> \n",
       "        <th id=\"T_5f85bb33_b2b2_11e9_9434_c4b301cdc453level0_row18\" class=\"row_heading level0 row18\" >36</th> \n",
       "        <td id=\"T_5f85bb33_b2b2_11e9_9434_c4b301cdc453row18_col0\" class=\"data row18 col0\" >total_rec_prncp</td> \n",
       "        <td id=\"T_5f85bb33_b2b2_11e9_9434_c4b301cdc453row18_col1\" class=\"data row18 col1\" >float64</td> \n",
       "        <td id=\"T_5f85bb33_b2b2_11e9_9434_c4b301cdc453row18_col2\" class=\"data row18 col2\" >5000</td> \n",
       "        <td id=\"T_5f85bb33_b2b2_11e9_9434_c4b301cdc453row18_col3\" class=\"data row18 col3\" >Principal received to date</td> \n",
       "    </tr></tbody> \n",
       "</table> "
      ],
      "text/plain": [
       "<pandas.io.formats.style.Styler at 0x10d35d650>"
      ]
     },
     "execution_count": 8,
     "metadata": {},
     "output_type": "execute_result"
    }
   ],
   "source": [
    "df2table(table_summary[18:37])  "
   ]
  },
  {
   "cell_type": "code",
   "execution_count": 9,
   "metadata": {},
   "outputs": [
    {
     "data": {
      "text/html": [
       "<style  type=\"text/css\" >\n",
       "    #T_5f8926bd_b2b2_11e9_a5b9_c4b301cdc453 tr:hover {\n",
       "          background-color: #ffff99;\n",
       "    }    #T_5f8926bd_b2b2_11e9_a5b9_c4b301cdc453 th {\n",
       "          font-size: 150%;\n",
       "          text-align: center;\n",
       "    }    #T_5f8926bd_b2b2_11e9_a5b9_c4b301cdc453 caption {\n",
       "          caption-side: bottom;\n",
       "    }</style>  \n",
       "<table id=\"T_5f8926bd_b2b2_11e9_a5b9_c4b301cdc453\" ><caption>Hover to highlight.</caption> \n",
       "<thead>    <tr> \n",
       "        <th class=\"blank level0\" ></th> \n",
       "        <th class=\"col_heading level0 col0\" >name</th> \n",
       "        <th class=\"col_heading level0 col1\" >dtype</th> \n",
       "        <th class=\"col_heading level0 col2\" >first value</th> \n",
       "        <th class=\"col_heading level0 col3\" >Description</th> \n",
       "    </tr></thead> \n",
       "<tbody>    <tr> \n",
       "        <th id=\"T_5f8926bd_b2b2_11e9_a5b9_c4b301cdc453level0_row0\" class=\"row_heading level0 row0\" >37</th> \n",
       "        <td id=\"T_5f8926bd_b2b2_11e9_a5b9_c4b301cdc453row0_col0\" class=\"data row0 col0\" >total_rec_int</td> \n",
       "        <td id=\"T_5f8926bd_b2b2_11e9_a5b9_c4b301cdc453row0_col1\" class=\"data row0 col1\" >float64</td> \n",
       "        <td id=\"T_5f8926bd_b2b2_11e9_a5b9_c4b301cdc453row0_col2\" class=\"data row0 col2\" >863.16</td> \n",
       "        <td id=\"T_5f8926bd_b2b2_11e9_a5b9_c4b301cdc453row0_col3\" class=\"data row0 col3\" >Interest received to date</td> \n",
       "    </tr>    <tr> \n",
       "        <th id=\"T_5f8926bd_b2b2_11e9_a5b9_c4b301cdc453level0_row1\" class=\"row_heading level0 row1\" >38</th> \n",
       "        <td id=\"T_5f8926bd_b2b2_11e9_a5b9_c4b301cdc453row1_col0\" class=\"data row1 col0\" >total_rec_late_fee</td> \n",
       "        <td id=\"T_5f8926bd_b2b2_11e9_a5b9_c4b301cdc453row1_col1\" class=\"data row1 col1\" >float64</td> \n",
       "        <td id=\"T_5f8926bd_b2b2_11e9_a5b9_c4b301cdc453row1_col2\" class=\"data row1 col2\" >0</td> \n",
       "        <td id=\"T_5f8926bd_b2b2_11e9_a5b9_c4b301cdc453row1_col3\" class=\"data row1 col3\" >Late fees received to date</td> \n",
       "    </tr>    <tr> \n",
       "        <th id=\"T_5f8926bd_b2b2_11e9_a5b9_c4b301cdc453level0_row2\" class=\"row_heading level0 row2\" >39</th> \n",
       "        <td id=\"T_5f8926bd_b2b2_11e9_a5b9_c4b301cdc453row2_col0\" class=\"data row2 col0\" >recoveries</td> \n",
       "        <td id=\"T_5f8926bd_b2b2_11e9_a5b9_c4b301cdc453row2_col1\" class=\"data row2 col1\" >float64</td> \n",
       "        <td id=\"T_5f8926bd_b2b2_11e9_a5b9_c4b301cdc453row2_col2\" class=\"data row2 col2\" >0</td> \n",
       "        <td id=\"T_5f8926bd_b2b2_11e9_a5b9_c4b301cdc453row2_col3\" class=\"data row2 col3\" >post charge off gross recovery</td> \n",
       "    </tr>    <tr> \n",
       "        <th id=\"T_5f8926bd_b2b2_11e9_a5b9_c4b301cdc453level0_row3\" class=\"row_heading level0 row3\" >40</th> \n",
       "        <td id=\"T_5f8926bd_b2b2_11e9_a5b9_c4b301cdc453row3_col0\" class=\"data row3 col0\" >collection_recovery_fee</td> \n",
       "        <td id=\"T_5f8926bd_b2b2_11e9_a5b9_c4b301cdc453row3_col1\" class=\"data row3 col1\" >float64</td> \n",
       "        <td id=\"T_5f8926bd_b2b2_11e9_a5b9_c4b301cdc453row3_col2\" class=\"data row3 col2\" >0</td> \n",
       "        <td id=\"T_5f8926bd_b2b2_11e9_a5b9_c4b301cdc453row3_col3\" class=\"data row3 col3\" >post charge off collection fee</td> \n",
       "    </tr>    <tr> \n",
       "        <th id=\"T_5f8926bd_b2b2_11e9_a5b9_c4b301cdc453level0_row4\" class=\"row_heading level0 row4\" >41</th> \n",
       "        <td id=\"T_5f8926bd_b2b2_11e9_a5b9_c4b301cdc453row4_col0\" class=\"data row4 col0\" >last_pymnt_d</td> \n",
       "        <td id=\"T_5f8926bd_b2b2_11e9_a5b9_c4b301cdc453row4_col1\" class=\"data row4 col1\" >object</td> \n",
       "        <td id=\"T_5f8926bd_b2b2_11e9_a5b9_c4b301cdc453row4_col2\" class=\"data row4 col2\" >Jan-2015</td> \n",
       "        <td id=\"T_5f8926bd_b2b2_11e9_a5b9_c4b301cdc453row4_col3\" class=\"data row4 col3\" >Last month payment was received</td> \n",
       "    </tr>    <tr> \n",
       "        <th id=\"T_5f8926bd_b2b2_11e9_a5b9_c4b301cdc453level0_row5\" class=\"row_heading level0 row5\" >42</th> \n",
       "        <td id=\"T_5f8926bd_b2b2_11e9_a5b9_c4b301cdc453row5_col0\" class=\"data row5 col0\" >last_pymnt_amnt</td> \n",
       "        <td id=\"T_5f8926bd_b2b2_11e9_a5b9_c4b301cdc453row5_col1\" class=\"data row5 col1\" >float64</td> \n",
       "        <td id=\"T_5f8926bd_b2b2_11e9_a5b9_c4b301cdc453row5_col2\" class=\"data row5 col2\" >171.62</td> \n",
       "        <td id=\"T_5f8926bd_b2b2_11e9_a5b9_c4b301cdc453row5_col3\" class=\"data row5 col3\" >Last total payment amount received</td> \n",
       "    </tr>    <tr> \n",
       "        <th id=\"T_5f8926bd_b2b2_11e9_a5b9_c4b301cdc453level0_row6\" class=\"row_heading level0 row6\" >43</th> \n",
       "        <td id=\"T_5f8926bd_b2b2_11e9_a5b9_c4b301cdc453row6_col0\" class=\"data row6 col0\" >last_credit_pull_d</td> \n",
       "        <td id=\"T_5f8926bd_b2b2_11e9_a5b9_c4b301cdc453row6_col1\" class=\"data row6 col1\" >object</td> \n",
       "        <td id=\"T_5f8926bd_b2b2_11e9_a5b9_c4b301cdc453row6_col2\" class=\"data row6 col2\" >Jun-2016</td> \n",
       "        <td id=\"T_5f8926bd_b2b2_11e9_a5b9_c4b301cdc453row6_col3\" class=\"data row6 col3\" >The most recent month LC pulled credit for this loan</td> \n",
       "    </tr>    <tr> \n",
       "        <th id=\"T_5f8926bd_b2b2_11e9_a5b9_c4b301cdc453level0_row7\" class=\"row_heading level0 row7\" >44</th> \n",
       "        <td id=\"T_5f8926bd_b2b2_11e9_a5b9_c4b301cdc453row7_col0\" class=\"data row7 col0\" >collections_12_mths_ex_med</td> \n",
       "        <td id=\"T_5f8926bd_b2b2_11e9_a5b9_c4b301cdc453row7_col1\" class=\"data row7 col1\" >float64</td> \n",
       "        <td id=\"T_5f8926bd_b2b2_11e9_a5b9_c4b301cdc453row7_col2\" class=\"data row7 col2\" >0</td> \n",
       "        <td id=\"T_5f8926bd_b2b2_11e9_a5b9_c4b301cdc453row7_col3\" class=\"data row7 col3\" >Number of collections in 12 months excluding medical collections</td> \n",
       "    </tr>    <tr> \n",
       "        <th id=\"T_5f8926bd_b2b2_11e9_a5b9_c4b301cdc453level0_row8\" class=\"row_heading level0 row8\" >45</th> \n",
       "        <td id=\"T_5f8926bd_b2b2_11e9_a5b9_c4b301cdc453row8_col0\" class=\"data row8 col0\" >policy_code</td> \n",
       "        <td id=\"T_5f8926bd_b2b2_11e9_a5b9_c4b301cdc453row8_col1\" class=\"data row8 col1\" >float64</td> \n",
       "        <td id=\"T_5f8926bd_b2b2_11e9_a5b9_c4b301cdc453row8_col2\" class=\"data row8 col2\" >1</td> \n",
       "        <td id=\"T_5f8926bd_b2b2_11e9_a5b9_c4b301cdc453row8_col3\" class=\"data row8 col3\" >publicly available policy_code=1\n",
       "new products not publicly available policy_code=2</td> \n",
       "    </tr>    <tr> \n",
       "        <th id=\"T_5f8926bd_b2b2_11e9_a5b9_c4b301cdc453level0_row9\" class=\"row_heading level0 row9\" >46</th> \n",
       "        <td id=\"T_5f8926bd_b2b2_11e9_a5b9_c4b301cdc453row9_col0\" class=\"data row9 col0\" >application_type</td> \n",
       "        <td id=\"T_5f8926bd_b2b2_11e9_a5b9_c4b301cdc453row9_col1\" class=\"data row9 col1\" >object</td> \n",
       "        <td id=\"T_5f8926bd_b2b2_11e9_a5b9_c4b301cdc453row9_col2\" class=\"data row9 col2\" >INDIVIDUAL</td> \n",
       "        <td id=\"T_5f8926bd_b2b2_11e9_a5b9_c4b301cdc453row9_col3\" class=\"data row9 col3\" >Indicates whether the loan is an individual application or a joint application with two co-borrowers</td> \n",
       "    </tr>    <tr> \n",
       "        <th id=\"T_5f8926bd_b2b2_11e9_a5b9_c4b301cdc453level0_row10\" class=\"row_heading level0 row10\" >47</th> \n",
       "        <td id=\"T_5f8926bd_b2b2_11e9_a5b9_c4b301cdc453row10_col0\" class=\"data row10 col0\" >acc_now_delinq</td> \n",
       "        <td id=\"T_5f8926bd_b2b2_11e9_a5b9_c4b301cdc453row10_col1\" class=\"data row10 col1\" >float64</td> \n",
       "        <td id=\"T_5f8926bd_b2b2_11e9_a5b9_c4b301cdc453row10_col2\" class=\"data row10 col2\" >0</td> \n",
       "        <td id=\"T_5f8926bd_b2b2_11e9_a5b9_c4b301cdc453row10_col3\" class=\"data row10 col3\" >The number of accounts on which the borrower is now delinquent.</td> \n",
       "    </tr>    <tr> \n",
       "        <th id=\"T_5f8926bd_b2b2_11e9_a5b9_c4b301cdc453level0_row11\" class=\"row_heading level0 row11\" >48</th> \n",
       "        <td id=\"T_5f8926bd_b2b2_11e9_a5b9_c4b301cdc453row11_col0\" class=\"data row11 col0\" >chargeoff_within_12_mths</td> \n",
       "        <td id=\"T_5f8926bd_b2b2_11e9_a5b9_c4b301cdc453row11_col1\" class=\"data row11 col1\" >float64</td> \n",
       "        <td id=\"T_5f8926bd_b2b2_11e9_a5b9_c4b301cdc453row11_col2\" class=\"data row11 col2\" >0</td> \n",
       "        <td id=\"T_5f8926bd_b2b2_11e9_a5b9_c4b301cdc453row11_col3\" class=\"data row11 col3\" >Number of charge-offs within 12 months</td> \n",
       "    </tr>    <tr> \n",
       "        <th id=\"T_5f8926bd_b2b2_11e9_a5b9_c4b301cdc453level0_row12\" class=\"row_heading level0 row12\" >49</th> \n",
       "        <td id=\"T_5f8926bd_b2b2_11e9_a5b9_c4b301cdc453row12_col0\" class=\"data row12 col0\" >delinq_amnt</td> \n",
       "        <td id=\"T_5f8926bd_b2b2_11e9_a5b9_c4b301cdc453row12_col1\" class=\"data row12 col1\" >float64</td> \n",
       "        <td id=\"T_5f8926bd_b2b2_11e9_a5b9_c4b301cdc453row12_col2\" class=\"data row12 col2\" >0</td> \n",
       "        <td id=\"T_5f8926bd_b2b2_11e9_a5b9_c4b301cdc453row12_col3\" class=\"data row12 col3\" >The past-due amount owed for the accounts on which the borrower is now delinquent.</td> \n",
       "    </tr>    <tr> \n",
       "        <th id=\"T_5f8926bd_b2b2_11e9_a5b9_c4b301cdc453level0_row13\" class=\"row_heading level0 row13\" >50</th> \n",
       "        <td id=\"T_5f8926bd_b2b2_11e9_a5b9_c4b301cdc453row13_col0\" class=\"data row13 col0\" >pub_rec_bankruptcies</td> \n",
       "        <td id=\"T_5f8926bd_b2b2_11e9_a5b9_c4b301cdc453row13_col1\" class=\"data row13 col1\" >float64</td> \n",
       "        <td id=\"T_5f8926bd_b2b2_11e9_a5b9_c4b301cdc453row13_col2\" class=\"data row13 col2\" >0</td> \n",
       "        <td id=\"T_5f8926bd_b2b2_11e9_a5b9_c4b301cdc453row13_col3\" class=\"data row13 col3\" >Number of public record bankruptcies</td> \n",
       "    </tr>    <tr> \n",
       "        <th id=\"T_5f8926bd_b2b2_11e9_a5b9_c4b301cdc453level0_row14\" class=\"row_heading level0 row14\" >51</th> \n",
       "        <td id=\"T_5f8926bd_b2b2_11e9_a5b9_c4b301cdc453row14_col0\" class=\"data row14 col0\" >tax_liens</td> \n",
       "        <td id=\"T_5f8926bd_b2b2_11e9_a5b9_c4b301cdc453row14_col1\" class=\"data row14 col1\" >float64</td> \n",
       "        <td id=\"T_5f8926bd_b2b2_11e9_a5b9_c4b301cdc453row14_col2\" class=\"data row14 col2\" >0</td> \n",
       "        <td id=\"T_5f8926bd_b2b2_11e9_a5b9_c4b301cdc453row14_col3\" class=\"data row14 col3\" >Number of tax liens</td> \n",
       "    </tr></tbody> \n",
       "</table> "
      ],
      "text/plain": [
       "<pandas.io.formats.style.Styler at 0x10d35dcd0>"
      ]
     },
     "execution_count": 9,
     "metadata": {},
     "output_type": "execute_result"
    }
   ],
   "source": [
    "df2table(table_summary[37:])"
   ]
  },
  {
   "cell_type": "markdown",
   "metadata": {},
   "source": [
    "After analysing all the features in the previous table we can select the ones that should be removed from the original dataframe and those that may be just modified for the next steps. \n",
    "In particular, the features that should be removed are the following:\n",
    "- *id* and *member_id* because they don't affect a borrower's ability to pay back a loan\n",
    "- *emp_title* may be relevant but in general we should convert it into a categorical variable and we should also consider that there are not only a predefine set of job title, but that eventually, a new borrower may have another job that was not defined in the specific set we have for building the model;\n",
    "- *issue_d* leaks data from the future (after the loan is already completed funded);\n",
    "- *title*, for the same reason of *emp_title*;\n",
    "- *zip_code* and *addr_state*, in general, may be relevant but I believe only if the loan system is restricted to a specific area. If not, a new possible borrower may come from another place that was not in the initial analyzed set and the algorithm would not be able to apportunely process this information.\n",
    "- *earliest_cr_line* has no information for our purpose;\n",
    "- *total_rec_late_fee*, *total_rec_int*, *out_prncp*, *out_prncp_inv, total_pymnt, total_pymnt_inv, recoveries, last_pymnt_amnt, collection_recovery_fee, delinq_amnt, total_rec_prncp, funded_amnt and funded_amnt_inv* give leak information from the future; \n",
    "- *last_pymnt_d, last_credit_pull_d* does not give useful information;\n",
    "- *grade* and *sub_grade* contains redundant information as the interest rate column (*int_rate*)\n",
    "\n",
    "\n",
    "\n",
    "The features that should be converted are:\n",
    "- *term*, where we can remove the 'month' word and consider only the number for post evaluations;\n",
    "- *int_rate*, where we need to remove the '%' symbol;\n",
    "- *home_ownership* should be converted into categorical;\n",
    "- *pymnt_plan* should be categorical;\n",
    "- *revol_util*, where the '%' symbol can be removed;\n",
    "- *initial_list_status*, needs to be converted into categorical;\n",
    "- *policy_code* and *application_type*, should be converted into categorical;\n",
    "- *purpose*, convert to categorical;\n"
   ]
  },
  {
   "cell_type": "markdown",
   "metadata": {},
   "source": [
    "#### Remove Features"
   ]
  },
  {
   "cell_type": "code",
   "execution_count": 10,
   "metadata": {},
   "outputs": [],
   "source": [
    "# Insert in a list all the columns that should be dropped  \n",
    "cols = ['id', 'member_id', 'funded_amnt', 'funded_amnt_inv', 'grade', 'sub_grade', 'emp_title', \n",
    "        'issue_d', 'zip_code', 'out_prncp', 'out_prncp_inv', 'total_pymnt', 'total_pymnt_inv', \n",
    "        'total_rec_prncp', 'total_rec_int', 'total_rec_late_fee', 'recoveries', \n",
    "        'collection_recovery_fee', 'last_pymnt_amnt', 'last_pymnt_d']\n",
    "loans_2007.drop(cols, axis = 1, inplace = True)\n",
    "extra_cols =['title', 'addr_state', 'earliest_cr_line', 'delinq_amnt', 'last_credit_pull_d'] \n",
    "loans_2007.drop(extra_cols, axis = 1, inplace = True)"
   ]
  },
  {
   "cell_type": "code",
   "execution_count": 11,
   "metadata": {},
   "outputs": [
    {
     "data": {
      "text/html": [
       "<div>\n",
       "<style scoped>\n",
       "    .dataframe tbody tr th:only-of-type {\n",
       "        vertical-align: middle;\n",
       "    }\n",
       "\n",
       "    .dataframe tbody tr th {\n",
       "        vertical-align: top;\n",
       "    }\n",
       "\n",
       "    .dataframe thead th {\n",
       "        text-align: right;\n",
       "    }\n",
       "</style>\n",
       "<table border=\"1\" class=\"dataframe\">\n",
       "  <thead>\n",
       "    <tr style=\"text-align: right;\">\n",
       "      <th></th>\n",
       "      <th>loan_amnt</th>\n",
       "      <th>term</th>\n",
       "      <th>int_rate</th>\n",
       "      <th>installment</th>\n",
       "      <th>emp_length</th>\n",
       "      <th>home_ownership</th>\n",
       "      <th>annual_inc</th>\n",
       "      <th>verification_status</th>\n",
       "      <th>loan_status</th>\n",
       "      <th>pymnt_plan</th>\n",
       "      <th>purpose</th>\n",
       "      <th>dti</th>\n",
       "      <th>delinq_2yrs</th>\n",
       "      <th>inq_last_6mths</th>\n",
       "      <th>open_acc</th>\n",
       "      <th>pub_rec</th>\n",
       "      <th>revol_bal</th>\n",
       "      <th>revol_util</th>\n",
       "      <th>total_acc</th>\n",
       "      <th>initial_list_status</th>\n",
       "      <th>collections_12_mths_ex_med</th>\n",
       "      <th>policy_code</th>\n",
       "      <th>application_type</th>\n",
       "      <th>acc_now_delinq</th>\n",
       "      <th>chargeoff_within_12_mths</th>\n",
       "      <th>pub_rec_bankruptcies</th>\n",
       "      <th>tax_liens</th>\n",
       "    </tr>\n",
       "  </thead>\n",
       "  <tbody>\n",
       "    <tr>\n",
       "      <th>0</th>\n",
       "      <td>5000.0</td>\n",
       "      <td>36 months</td>\n",
       "      <td>10.65%</td>\n",
       "      <td>162.87</td>\n",
       "      <td>10+ years</td>\n",
       "      <td>RENT</td>\n",
       "      <td>24000.0</td>\n",
       "      <td>Verified</td>\n",
       "      <td>Fully Paid</td>\n",
       "      <td>n</td>\n",
       "      <td>credit_card</td>\n",
       "      <td>27.65</td>\n",
       "      <td>0.0</td>\n",
       "      <td>1.0</td>\n",
       "      <td>3.0</td>\n",
       "      <td>0.0</td>\n",
       "      <td>13648.0</td>\n",
       "      <td>83.7%</td>\n",
       "      <td>9.0</td>\n",
       "      <td>f</td>\n",
       "      <td>0.0</td>\n",
       "      <td>1.0</td>\n",
       "      <td>INDIVIDUAL</td>\n",
       "      <td>0.0</td>\n",
       "      <td>0.0</td>\n",
       "      <td>0.0</td>\n",
       "      <td>0.0</td>\n",
       "    </tr>\n",
       "    <tr>\n",
       "      <th>1</th>\n",
       "      <td>2500.0</td>\n",
       "      <td>60 months</td>\n",
       "      <td>15.27%</td>\n",
       "      <td>59.83</td>\n",
       "      <td>&lt; 1 year</td>\n",
       "      <td>RENT</td>\n",
       "      <td>30000.0</td>\n",
       "      <td>Source Verified</td>\n",
       "      <td>Charged Off</td>\n",
       "      <td>n</td>\n",
       "      <td>car</td>\n",
       "      <td>1.00</td>\n",
       "      <td>0.0</td>\n",
       "      <td>5.0</td>\n",
       "      <td>3.0</td>\n",
       "      <td>0.0</td>\n",
       "      <td>1687.0</td>\n",
       "      <td>9.4%</td>\n",
       "      <td>4.0</td>\n",
       "      <td>f</td>\n",
       "      <td>0.0</td>\n",
       "      <td>1.0</td>\n",
       "      <td>INDIVIDUAL</td>\n",
       "      <td>0.0</td>\n",
       "      <td>0.0</td>\n",
       "      <td>0.0</td>\n",
       "      <td>0.0</td>\n",
       "    </tr>\n",
       "    <tr>\n",
       "      <th>2</th>\n",
       "      <td>2400.0</td>\n",
       "      <td>36 months</td>\n",
       "      <td>15.96%</td>\n",
       "      <td>84.33</td>\n",
       "      <td>10+ years</td>\n",
       "      <td>RENT</td>\n",
       "      <td>12252.0</td>\n",
       "      <td>Not Verified</td>\n",
       "      <td>Fully Paid</td>\n",
       "      <td>n</td>\n",
       "      <td>small_business</td>\n",
       "      <td>8.72</td>\n",
       "      <td>0.0</td>\n",
       "      <td>2.0</td>\n",
       "      <td>2.0</td>\n",
       "      <td>0.0</td>\n",
       "      <td>2956.0</td>\n",
       "      <td>98.5%</td>\n",
       "      <td>10.0</td>\n",
       "      <td>f</td>\n",
       "      <td>0.0</td>\n",
       "      <td>1.0</td>\n",
       "      <td>INDIVIDUAL</td>\n",
       "      <td>0.0</td>\n",
       "      <td>0.0</td>\n",
       "      <td>0.0</td>\n",
       "      <td>0.0</td>\n",
       "    </tr>\n",
       "    <tr>\n",
       "      <th>3</th>\n",
       "      <td>10000.0</td>\n",
       "      <td>36 months</td>\n",
       "      <td>13.49%</td>\n",
       "      <td>339.31</td>\n",
       "      <td>10+ years</td>\n",
       "      <td>RENT</td>\n",
       "      <td>49200.0</td>\n",
       "      <td>Source Verified</td>\n",
       "      <td>Fully Paid</td>\n",
       "      <td>n</td>\n",
       "      <td>other</td>\n",
       "      <td>20.00</td>\n",
       "      <td>0.0</td>\n",
       "      <td>1.0</td>\n",
       "      <td>10.0</td>\n",
       "      <td>0.0</td>\n",
       "      <td>5598.0</td>\n",
       "      <td>21%</td>\n",
       "      <td>37.0</td>\n",
       "      <td>f</td>\n",
       "      <td>0.0</td>\n",
       "      <td>1.0</td>\n",
       "      <td>INDIVIDUAL</td>\n",
       "      <td>0.0</td>\n",
       "      <td>0.0</td>\n",
       "      <td>0.0</td>\n",
       "      <td>0.0</td>\n",
       "    </tr>\n",
       "    <tr>\n",
       "      <th>4</th>\n",
       "      <td>3000.0</td>\n",
       "      <td>60 months</td>\n",
       "      <td>12.69%</td>\n",
       "      <td>67.79</td>\n",
       "      <td>1 year</td>\n",
       "      <td>RENT</td>\n",
       "      <td>80000.0</td>\n",
       "      <td>Source Verified</td>\n",
       "      <td>Current</td>\n",
       "      <td>n</td>\n",
       "      <td>other</td>\n",
       "      <td>17.94</td>\n",
       "      <td>0.0</td>\n",
       "      <td>0.0</td>\n",
       "      <td>15.0</td>\n",
       "      <td>0.0</td>\n",
       "      <td>27783.0</td>\n",
       "      <td>53.9%</td>\n",
       "      <td>38.0</td>\n",
       "      <td>f</td>\n",
       "      <td>0.0</td>\n",
       "      <td>1.0</td>\n",
       "      <td>INDIVIDUAL</td>\n",
       "      <td>0.0</td>\n",
       "      <td>0.0</td>\n",
       "      <td>0.0</td>\n",
       "      <td>0.0</td>\n",
       "    </tr>\n",
       "  </tbody>\n",
       "</table>\n",
       "</div>"
      ],
      "text/plain": [
       "   loan_amnt        term int_rate  installment emp_length home_ownership  \\\n",
       "0     5000.0   36 months   10.65%       162.87  10+ years           RENT   \n",
       "1     2500.0   60 months   15.27%        59.83   < 1 year           RENT   \n",
       "2     2400.0   36 months   15.96%        84.33  10+ years           RENT   \n",
       "3    10000.0   36 months   13.49%       339.31  10+ years           RENT   \n",
       "4     3000.0   60 months   12.69%        67.79     1 year           RENT   \n",
       "\n",
       "   annual_inc verification_status  loan_status pymnt_plan         purpose  \\\n",
       "0     24000.0            Verified   Fully Paid          n     credit_card   \n",
       "1     30000.0     Source Verified  Charged Off          n             car   \n",
       "2     12252.0        Not Verified   Fully Paid          n  small_business   \n",
       "3     49200.0     Source Verified   Fully Paid          n           other   \n",
       "4     80000.0     Source Verified      Current          n           other   \n",
       "\n",
       "     dti  delinq_2yrs  inq_last_6mths  open_acc  pub_rec  revol_bal  \\\n",
       "0  27.65          0.0             1.0       3.0      0.0    13648.0   \n",
       "1   1.00          0.0             5.0       3.0      0.0     1687.0   \n",
       "2   8.72          0.0             2.0       2.0      0.0     2956.0   \n",
       "3  20.00          0.0             1.0      10.0      0.0     5598.0   \n",
       "4  17.94          0.0             0.0      15.0      0.0    27783.0   \n",
       "\n",
       "  revol_util  total_acc initial_list_status  collections_12_mths_ex_med  \\\n",
       "0      83.7%        9.0                   f                         0.0   \n",
       "1       9.4%        4.0                   f                         0.0   \n",
       "2      98.5%       10.0                   f                         0.0   \n",
       "3        21%       37.0                   f                         0.0   \n",
       "4      53.9%       38.0                   f                         0.0   \n",
       "\n",
       "   policy_code application_type  acc_now_delinq  chargeoff_within_12_mths  \\\n",
       "0          1.0       INDIVIDUAL             0.0                       0.0   \n",
       "1          1.0       INDIVIDUAL             0.0                       0.0   \n",
       "2          1.0       INDIVIDUAL             0.0                       0.0   \n",
       "3          1.0       INDIVIDUAL             0.0                       0.0   \n",
       "4          1.0       INDIVIDUAL             0.0                       0.0   \n",
       "\n",
       "   pub_rec_bankruptcies  tax_liens  \n",
       "0                   0.0        0.0  \n",
       "1                   0.0        0.0  \n",
       "2                   0.0        0.0  \n",
       "3                   0.0        0.0  \n",
       "4                   0.0        0.0  "
      ]
     },
     "execution_count": 11,
     "metadata": {},
     "output_type": "execute_result"
    }
   ],
   "source": [
    "loans_2007.head()"
   ]
  },
  {
   "cell_type": "code",
   "execution_count": 12,
   "metadata": {},
   "outputs": [
    {
     "data": {
      "text/plain": [
       "(42538, 27)"
      ]
     },
     "execution_count": 12,
     "metadata": {},
     "output_type": "execute_result"
    }
   ],
   "source": [
    "loans_2007.shape"
   ]
  },
  {
   "cell_type": "markdown",
   "metadata": {},
   "source": [
    "After removing the selected columns we can evaluate other columns to be removed by considering those ones that contain only one unique value, since they are not informative in this study. To this end let us define a function **drop_unique**."
   ]
  },
  {
   "cell_type": "code",
   "execution_count": 13,
   "metadata": {},
   "outputs": [],
   "source": [
    "def drop_unique(df, col_name):\n",
    "    # first remove NaN values\n",
    "    non_null = df[col_name].dropna()\n",
    "    # second let us count the unique values\n",
    "    unique_non_null = non_null.unique()\n",
    "    num_true_unique = len(unique_non_null)\n",
    "    col_dropped = 'none'\n",
    "    if (num_true_unique ==1):\n",
    "        df.drop(col_name, axis =1, inplace = True)\n",
    "        col_dropped = col_name\n",
    "    return df, col_dropped"
   ]
  },
  {
   "cell_type": "code",
   "execution_count": 14,
   "metadata": {},
   "outputs": [],
   "source": [
    "# Let us define an empty array to collect the columns name to be dropped\n",
    "collect_drop_col = []\n",
    "# For all the columns of the dataframe we will drop the columns\n",
    "#where the value of unique values is =1\n",
    "cols = loans_2007.columns\n",
    "for col in cols:\n",
    "    loans_2007, col_dropped = drop_unique(loans_2007, col)\n",
    "    if (col_dropped != 'none'):\n",
    "        collect_drop_col.append(col_dropped)"
   ]
  },
  {
   "cell_type": "code",
   "execution_count": 15,
   "metadata": {},
   "outputs": [
    {
     "name": "stdout",
     "output_type": "stream",
     "text": [
      "The columns with a single unique value are: ['initial_list_status', 'collections_12_mths_ex_med', 'policy_code', 'application_type', 'chargeoff_within_12_mths']\n"
     ]
    }
   ],
   "source": [
    "print 'The columns with a single unique value are:', collect_drop_col"
   ]
  },
  {
   "cell_type": "code",
   "execution_count": 16,
   "metadata": {},
   "outputs": [
    {
     "data": {
      "text/plain": [
       "(42538, 22)"
      ]
     },
     "execution_count": 16,
     "metadata": {},
     "output_type": "execute_result"
    }
   ],
   "source": [
    "loans_2007.shape"
   ]
  },
  {
   "cell_type": "markdown",
   "metadata": {},
   "source": [
    "We were able to remove other 5 columns from the original dataset."
   ]
  },
  {
   "cell_type": "markdown",
   "metadata": {},
   "source": [
    "#### Missing Values"
   ]
  },
  {
   "cell_type": "markdown",
   "metadata": {},
   "source": [
    "In order to use the data store in **loans_2007** dataframe for the development of a predictive mode, it is important to remove all the null values. Indeed the mathematics underlying most machine learning models assumes that the data is numerical and contains no missing values."
   ]
  },
  {
   "cell_type": "code",
   "execution_count": 17,
   "metadata": {},
   "outputs": [
    {
     "data": {
      "text/plain": [
       "loan_amnt                  3\n",
       "term                       3\n",
       "int_rate                   3\n",
       "installment                3\n",
       "emp_length              1115\n",
       "home_ownership             3\n",
       "annual_inc                 7\n",
       "verification_status        3\n",
       "loan_status                3\n",
       "pymnt_plan                 3\n",
       "purpose                    3\n",
       "dti                        3\n",
       "delinq_2yrs               32\n",
       "inq_last_6mths            32\n",
       "open_acc                  32\n",
       "pub_rec                   32\n",
       "revol_bal                  3\n",
       "revol_util                93\n",
       "total_acc                 32\n",
       "acc_now_delinq            32\n",
       "pub_rec_bankruptcies    1368\n",
       "tax_liens                108\n",
       "dtype: int64"
      ]
     },
     "execution_count": 17,
     "metadata": {},
     "output_type": "execute_result"
    }
   ],
   "source": [
    "# Return the number of missing values in the dataframe\n",
    "missing_values = loans_2007.isnull().sum()\n",
    "missing_values"
   ]
  },
  {
   "cell_type": "markdown",
   "metadata": {},
   "source": [
    "As we can see there are high amount of missing data for two features: *emp_length* and *pub_rec_bankruptcies*. Employment length is frequently used in assessing how risky a potential borrower is, so we'll keep this column despite its relatively large amount of missing values. \n",
    "\n",
    "Let's ispect the *pub_rec_bankruptcies* feature."
   ]
  },
  {
   "cell_type": "code",
   "execution_count": 18,
   "metadata": {},
   "outputs": [
    {
     "data": {
      "text/plain": [
       " 0.0    0.924256\n",
       " 1.0    0.043396\n",
       "NaN     0.032159\n",
       " 2.0    0.000188\n",
       "Name: pub_rec_bankruptcies, dtype: float64"
      ]
     },
     "execution_count": 18,
     "metadata": {},
     "output_type": "execute_result"
    }
   ],
   "source": [
    "loans_2007['pub_rec_bankruptcies'].value_counts(normalize = True, dropna = False)"
   ]
  },
  {
   "cell_type": "markdown",
   "metadata": {},
   "source": [
    "As one can see above, since almost all the values (92%) belong to the same category, this feature would not have the right variability to help us in the construction of the predictive model. For this reason we can drop it."
   ]
  },
  {
   "cell_type": "code",
   "execution_count": 19,
   "metadata": {},
   "outputs": [],
   "source": [
    "loans_2007.drop('pub_rec_bankruptcies', axis = 1, inplace = True)"
   ]
  },
  {
   "cell_type": "markdown",
   "metadata": {},
   "source": [
    "For the other columns we can keep them and just remove the rows where they have null values."
   ]
  },
  {
   "cell_type": "code",
   "execution_count": 20,
   "metadata": {},
   "outputs": [
    {
     "data": {
      "text/plain": [
       "(41261, 21)"
      ]
     },
     "execution_count": 20,
     "metadata": {},
     "output_type": "execute_result"
    }
   ],
   "source": [
    "# drop_na from the dataframe\n",
    "loans_2007.dropna(inplace = True)\n",
    "loans_2007.shape"
   ]
  },
  {
   "cell_type": "code",
   "execution_count": 21,
   "metadata": {},
   "outputs": [
    {
     "data": {
      "text/plain": [
       "loan_amnt              0\n",
       "term                   0\n",
       "int_rate               0\n",
       "installment            0\n",
       "emp_length             0\n",
       "home_ownership         0\n",
       "annual_inc             0\n",
       "verification_status    0\n",
       "loan_status            0\n",
       "pymnt_plan             0\n",
       "purpose                0\n",
       "dti                    0\n",
       "delinq_2yrs            0\n",
       "inq_last_6mths         0\n",
       "open_acc               0\n",
       "pub_rec                0\n",
       "revol_bal              0\n",
       "revol_util             0\n",
       "total_acc              0\n",
       "acc_now_delinq         0\n",
       "tax_liens              0\n",
       "dtype: int64"
      ]
     },
     "execution_count": 21,
     "metadata": {},
     "output_type": "execute_result"
    }
   ],
   "source": [
    "# Check if no NaN value is in the dataframe\n",
    "loans_2007.isnull().sum()"
   ]
  },
  {
   "cell_type": "markdown",
   "metadata": {},
   "source": [
    "#### Convert Object Features"
   ]
  },
  {
   "cell_type": "markdown",
   "metadata": {},
   "source": [
    "Once all the null values have been removed from the dataframe, we need to manipulate the non-numeric values. \n",
    "Although we have previously individauted the features which need to be converted, we can precisely detect them as follows:"
   ]
  },
  {
   "cell_type": "code",
   "execution_count": 22,
   "metadata": {},
   "outputs": [
    {
     "data": {
      "text/html": [
       "<style  type=\"text/css\" >\n",
       "    #T_5fc68de1_b2b2_11e9_9157_c4b301cdc453 tr:hover {\n",
       "          background-color: #ffff99;\n",
       "    }    #T_5fc68de1_b2b2_11e9_9157_c4b301cdc453 th {\n",
       "          font-size: 150%;\n",
       "          text-align: center;\n",
       "    }    #T_5fc68de1_b2b2_11e9_9157_c4b301cdc453 caption {\n",
       "          caption-side: bottom;\n",
       "    }</style>  \n",
       "<table id=\"T_5fc68de1_b2b2_11e9_9157_c4b301cdc453\" ><caption>Hover to highlight.</caption> \n",
       "<thead>    <tr> \n",
       "        <th class=\"blank level0\" ></th> \n",
       "        <th class=\"col_heading level0 col0\" >term</th> \n",
       "        <th class=\"col_heading level0 col1\" >int_rate</th> \n",
       "        <th class=\"col_heading level0 col2\" >emp_length</th> \n",
       "        <th class=\"col_heading level0 col3\" >home_ownership</th> \n",
       "        <th class=\"col_heading level0 col4\" >verification_status</th> \n",
       "        <th class=\"col_heading level0 col5\" >loan_status</th> \n",
       "        <th class=\"col_heading level0 col6\" >pymnt_plan</th> \n",
       "        <th class=\"col_heading level0 col7\" >purpose</th> \n",
       "        <th class=\"col_heading level0 col8\" >revol_util</th> \n",
       "    </tr></thead> \n",
       "<tbody>    <tr> \n",
       "        <th id=\"T_5fc68de1_b2b2_11e9_9157_c4b301cdc453level0_row0\" class=\"row_heading level0 row0\" >0</th> \n",
       "        <td id=\"T_5fc68de1_b2b2_11e9_9157_c4b301cdc453row0_col0\" class=\"data row0 col0\" > 36 months</td> \n",
       "        <td id=\"T_5fc68de1_b2b2_11e9_9157_c4b301cdc453row0_col1\" class=\"data row0 col1\" > 10.65%</td> \n",
       "        <td id=\"T_5fc68de1_b2b2_11e9_9157_c4b301cdc453row0_col2\" class=\"data row0 col2\" >10+ years</td> \n",
       "        <td id=\"T_5fc68de1_b2b2_11e9_9157_c4b301cdc453row0_col3\" class=\"data row0 col3\" >RENT</td> \n",
       "        <td id=\"T_5fc68de1_b2b2_11e9_9157_c4b301cdc453row0_col4\" class=\"data row0 col4\" >Verified</td> \n",
       "        <td id=\"T_5fc68de1_b2b2_11e9_9157_c4b301cdc453row0_col5\" class=\"data row0 col5\" >Fully Paid</td> \n",
       "        <td id=\"T_5fc68de1_b2b2_11e9_9157_c4b301cdc453row0_col6\" class=\"data row0 col6\" >n</td> \n",
       "        <td id=\"T_5fc68de1_b2b2_11e9_9157_c4b301cdc453row0_col7\" class=\"data row0 col7\" >credit_card</td> \n",
       "        <td id=\"T_5fc68de1_b2b2_11e9_9157_c4b301cdc453row0_col8\" class=\"data row0 col8\" >83.7%</td> \n",
       "    </tr>    <tr> \n",
       "        <th id=\"T_5fc68de1_b2b2_11e9_9157_c4b301cdc453level0_row1\" class=\"row_heading level0 row1\" >1</th> \n",
       "        <td id=\"T_5fc68de1_b2b2_11e9_9157_c4b301cdc453row1_col0\" class=\"data row1 col0\" > 60 months</td> \n",
       "        <td id=\"T_5fc68de1_b2b2_11e9_9157_c4b301cdc453row1_col1\" class=\"data row1 col1\" > 15.27%</td> \n",
       "        <td id=\"T_5fc68de1_b2b2_11e9_9157_c4b301cdc453row1_col2\" class=\"data row1 col2\" >< 1 year</td> \n",
       "        <td id=\"T_5fc68de1_b2b2_11e9_9157_c4b301cdc453row1_col3\" class=\"data row1 col3\" >RENT</td> \n",
       "        <td id=\"T_5fc68de1_b2b2_11e9_9157_c4b301cdc453row1_col4\" class=\"data row1 col4\" >Source Verified</td> \n",
       "        <td id=\"T_5fc68de1_b2b2_11e9_9157_c4b301cdc453row1_col5\" class=\"data row1 col5\" >Charged Off</td> \n",
       "        <td id=\"T_5fc68de1_b2b2_11e9_9157_c4b301cdc453row1_col6\" class=\"data row1 col6\" >n</td> \n",
       "        <td id=\"T_5fc68de1_b2b2_11e9_9157_c4b301cdc453row1_col7\" class=\"data row1 col7\" >car</td> \n",
       "        <td id=\"T_5fc68de1_b2b2_11e9_9157_c4b301cdc453row1_col8\" class=\"data row1 col8\" >9.4%</td> \n",
       "    </tr>    <tr> \n",
       "        <th id=\"T_5fc68de1_b2b2_11e9_9157_c4b301cdc453level0_row2\" class=\"row_heading level0 row2\" >2</th> \n",
       "        <td id=\"T_5fc68de1_b2b2_11e9_9157_c4b301cdc453row2_col0\" class=\"data row2 col0\" > 36 months</td> \n",
       "        <td id=\"T_5fc68de1_b2b2_11e9_9157_c4b301cdc453row2_col1\" class=\"data row2 col1\" > 15.96%</td> \n",
       "        <td id=\"T_5fc68de1_b2b2_11e9_9157_c4b301cdc453row2_col2\" class=\"data row2 col2\" >10+ years</td> \n",
       "        <td id=\"T_5fc68de1_b2b2_11e9_9157_c4b301cdc453row2_col3\" class=\"data row2 col3\" >RENT</td> \n",
       "        <td id=\"T_5fc68de1_b2b2_11e9_9157_c4b301cdc453row2_col4\" class=\"data row2 col4\" >Not Verified</td> \n",
       "        <td id=\"T_5fc68de1_b2b2_11e9_9157_c4b301cdc453row2_col5\" class=\"data row2 col5\" >Fully Paid</td> \n",
       "        <td id=\"T_5fc68de1_b2b2_11e9_9157_c4b301cdc453row2_col6\" class=\"data row2 col6\" >n</td> \n",
       "        <td id=\"T_5fc68de1_b2b2_11e9_9157_c4b301cdc453row2_col7\" class=\"data row2 col7\" >small_business</td> \n",
       "        <td id=\"T_5fc68de1_b2b2_11e9_9157_c4b301cdc453row2_col8\" class=\"data row2 col8\" >98.5%</td> \n",
       "    </tr>    <tr> \n",
       "        <th id=\"T_5fc68de1_b2b2_11e9_9157_c4b301cdc453level0_row3\" class=\"row_heading level0 row3\" >3</th> \n",
       "        <td id=\"T_5fc68de1_b2b2_11e9_9157_c4b301cdc453row3_col0\" class=\"data row3 col0\" > 36 months</td> \n",
       "        <td id=\"T_5fc68de1_b2b2_11e9_9157_c4b301cdc453row3_col1\" class=\"data row3 col1\" > 13.49%</td> \n",
       "        <td id=\"T_5fc68de1_b2b2_11e9_9157_c4b301cdc453row3_col2\" class=\"data row3 col2\" >10+ years</td> \n",
       "        <td id=\"T_5fc68de1_b2b2_11e9_9157_c4b301cdc453row3_col3\" class=\"data row3 col3\" >RENT</td> \n",
       "        <td id=\"T_5fc68de1_b2b2_11e9_9157_c4b301cdc453row3_col4\" class=\"data row3 col4\" >Source Verified</td> \n",
       "        <td id=\"T_5fc68de1_b2b2_11e9_9157_c4b301cdc453row3_col5\" class=\"data row3 col5\" >Fully Paid</td> \n",
       "        <td id=\"T_5fc68de1_b2b2_11e9_9157_c4b301cdc453row3_col6\" class=\"data row3 col6\" >n</td> \n",
       "        <td id=\"T_5fc68de1_b2b2_11e9_9157_c4b301cdc453row3_col7\" class=\"data row3 col7\" >other</td> \n",
       "        <td id=\"T_5fc68de1_b2b2_11e9_9157_c4b301cdc453row3_col8\" class=\"data row3 col8\" >21%</td> \n",
       "    </tr>    <tr> \n",
       "        <th id=\"T_5fc68de1_b2b2_11e9_9157_c4b301cdc453level0_row4\" class=\"row_heading level0 row4\" >4</th> \n",
       "        <td id=\"T_5fc68de1_b2b2_11e9_9157_c4b301cdc453row4_col0\" class=\"data row4 col0\" > 60 months</td> \n",
       "        <td id=\"T_5fc68de1_b2b2_11e9_9157_c4b301cdc453row4_col1\" class=\"data row4 col1\" > 12.69%</td> \n",
       "        <td id=\"T_5fc68de1_b2b2_11e9_9157_c4b301cdc453row4_col2\" class=\"data row4 col2\" >1 year</td> \n",
       "        <td id=\"T_5fc68de1_b2b2_11e9_9157_c4b301cdc453row4_col3\" class=\"data row4 col3\" >RENT</td> \n",
       "        <td id=\"T_5fc68de1_b2b2_11e9_9157_c4b301cdc453row4_col4\" class=\"data row4 col4\" >Source Verified</td> \n",
       "        <td id=\"T_5fc68de1_b2b2_11e9_9157_c4b301cdc453row4_col5\" class=\"data row4 col5\" >Current</td> \n",
       "        <td id=\"T_5fc68de1_b2b2_11e9_9157_c4b301cdc453row4_col6\" class=\"data row4 col6\" >n</td> \n",
       "        <td id=\"T_5fc68de1_b2b2_11e9_9157_c4b301cdc453row4_col7\" class=\"data row4 col7\" >other</td> \n",
       "        <td id=\"T_5fc68de1_b2b2_11e9_9157_c4b301cdc453row4_col8\" class=\"data row4 col8\" >53.9%</td> \n",
       "    </tr></tbody> \n",
       "</table> "
      ],
      "text/plain": [
       "<pandas.io.formats.style.Styler at 0x1a22100210>"
      ]
     },
     "execution_count": 22,
     "metadata": {},
     "output_type": "execute_result"
    }
   ],
   "source": [
    "# Select variables of 'object' type\n",
    "object_columns_df = loans_2007.select_dtypes(include=['object'])\n",
    "df2table(object_columns_df.head())"
   ]
  },
  {
   "cell_type": "markdown",
   "metadata": {},
   "source": [
    "As we can see some of these features can be quickly converted into numerical values. In particular columns *int_rate* and *revol_util* where a percentage is indicated. "
   ]
  },
  {
   "cell_type": "code",
   "execution_count": 23,
   "metadata": {},
   "outputs": [
    {
     "data": {
      "text/html": [
       "<div>\n",
       "<style scoped>\n",
       "    .dataframe tbody tr th:only-of-type {\n",
       "        vertical-align: middle;\n",
       "    }\n",
       "\n",
       "    .dataframe tbody tr th {\n",
       "        vertical-align: top;\n",
       "    }\n",
       "\n",
       "    .dataframe thead th {\n",
       "        text-align: right;\n",
       "    }\n",
       "</style>\n",
       "<table border=\"1\" class=\"dataframe\">\n",
       "  <thead>\n",
       "    <tr style=\"text-align: right;\">\n",
       "      <th></th>\n",
       "      <th>int_rate</th>\n",
       "      <th>revol_util</th>\n",
       "    </tr>\n",
       "  </thead>\n",
       "  <tbody>\n",
       "    <tr>\n",
       "      <th>0</th>\n",
       "      <td>10.65</td>\n",
       "      <td>83.7</td>\n",
       "    </tr>\n",
       "    <tr>\n",
       "      <th>1</th>\n",
       "      <td>15.27</td>\n",
       "      <td>9.4</td>\n",
       "    </tr>\n",
       "    <tr>\n",
       "      <th>2</th>\n",
       "      <td>15.96</td>\n",
       "      <td>98.5</td>\n",
       "    </tr>\n",
       "    <tr>\n",
       "      <th>3</th>\n",
       "      <td>13.49</td>\n",
       "      <td>21.0</td>\n",
       "    </tr>\n",
       "    <tr>\n",
       "      <th>4</th>\n",
       "      <td>12.69</td>\n",
       "      <td>53.9</td>\n",
       "    </tr>\n",
       "  </tbody>\n",
       "</table>\n",
       "</div>"
      ],
      "text/plain": [
       "   int_rate  revol_util\n",
       "0     10.65        83.7\n",
       "1     15.27         9.4\n",
       "2     15.96        98.5\n",
       "3     13.49        21.0\n",
       "4     12.69        53.9"
      ]
     },
     "execution_count": 23,
     "metadata": {},
     "output_type": "execute_result"
    }
   ],
   "source": [
    "# remove percentage symbol from features int_rate and revol_util\n",
    "cols = ['int_rate', 'revol_util']\n",
    "for col in cols:\n",
    "    loans_2007[col] = loans_2007[col].astype(str).apply(lambda x: x.replace('%', '')).astype('float')\n",
    "loans_2007[cols].head()"
   ]
  },
  {
   "cell_type": "markdown",
   "metadata": {},
   "source": [
    "Let's now explore the unique values counts of the columns in order to check which feature can be considered categorical, in particular *emp_length*, *home_ownership*, *verification_status*, *pymnt_plan*, *purpose* and *term*. Finally *loan_status* seems to be more the output of our analysis, as we will better explain later."
   ]
  },
  {
   "cell_type": "code",
   "execution_count": 24,
   "metadata": {},
   "outputs": [],
   "source": [
    "# List of all the features names to be investigated\n",
    "cols = ['emp_length', 'home_ownership', 'verification_status', 'pymnt_plan', 'purpose', 'term']"
   ]
  },
  {
   "cell_type": "code",
   "execution_count": 25,
   "metadata": {},
   "outputs": [],
   "source": [
    "# collect in a dictionary, for each feature, the count of unique values \n",
    "values_counted = {}\n",
    "count = []\n",
    "for col in cols:\n",
    "    values_counted[col] = loans_2007[col].value_counts()\n",
    "    count.append(loans_2007[col].value_counts().count())"
   ]
  },
  {
   "cell_type": "code",
   "execution_count": 26,
   "metadata": {},
   "outputs": [
    {
     "data": {
      "text/plain": [
       "{'emp_length': 10+ years    9357\n",
       " < 1 year     5005\n",
       " 2 years      4727\n",
       " 3 years      4354\n",
       " 4 years      3635\n",
       " 1 year       3568\n",
       " 5 years      3452\n",
       " 6 years      2370\n",
       " 7 years      1869\n",
       " 8 years      1587\n",
       " 9 years      1337\n",
       " Name: emp_length, dtype: int64, 'home_ownership': RENT        19668\n",
       " MORTGAGE    18444\n",
       " OWN          3013\n",
       " OTHER         134\n",
       " NONE            2\n",
       " Name: home_ownership, dtype: int64, 'purpose': debt_consolidation    19327\n",
       " credit_card            5319\n",
       " other                  4209\n",
       " home_improvement       3089\n",
       " major_purchase         2231\n",
       " small_business         1941\n",
       " car                    1558\n",
       " wedding                 990\n",
       " medical                 724\n",
       " moving                  598\n",
       " house                   410\n",
       " educational             402\n",
       " vacation                365\n",
       " renewable_energy         98\n",
       " Name: purpose, dtype: int64, 'pymnt_plan': n    41260\n",
       " y        1\n",
       " Name: pymnt_plan, dtype: int64, 'term':  36 months    30541\n",
       "  60 months    10720\n",
       " Name: term, dtype: int64, 'verification_status': Not Verified       18172\n",
       " Verified           12995\n",
       " Source Verified    10094\n",
       " Name: verification_status, dtype: int64}"
      ]
     },
     "execution_count": 26,
     "metadata": {},
     "output_type": "execute_result"
    }
   ],
   "source": [
    "values_counted"
   ]
  },
  {
   "cell_type": "markdown",
   "metadata": {},
   "source": [
    "As seen from the previous analysis, each column contains multiple discrete values. However before proceeding converting these columns into categorical variable, we should clean the *emp_length* column and treat it as a numerical one since the values have ordering.\n",
    "\n",
    "In particular:"
   ]
  },
  {
   "cell_type": "code",
   "execution_count": 27,
   "metadata": {},
   "outputs": [
    {
     "data": {
      "text/plain": [
       "10+ years    9357\n",
       "< 1 year     5005\n",
       "2 years      4727\n",
       "3 years      4354\n",
       "4 years      3635\n",
       "1 year       3568\n",
       "5 years      3452\n",
       "6 years      2370\n",
       "7 years      1869\n",
       "8 years      1587\n",
       "9 years      1337\n",
       "Name: emp_length, dtype: int64"
      ]
     },
     "execution_count": 27,
     "metadata": {},
     "output_type": "execute_result"
    }
   ],
   "source": [
    "values_counted['emp_length']"
   ]
  },
  {
   "cell_type": "code",
   "execution_count": 28,
   "metadata": {},
   "outputs": [],
   "source": [
    "# we can simply map each value into numbers, keeping the same order\n",
    "map_dict = {\n",
    "    \"emp_length\": {\n",
    "        \"10+ years\": 10,\n",
    "        \"9 years\": 9,\n",
    "        \"8 years\": 8,\n",
    "        \"7 years\": 7,\n",
    "        \"6 years\": 6,\n",
    "        \"5 years\": 5,\n",
    "        \"4 years\": 4,\n",
    "        \"3 years\": 3,\n",
    "        \"2 years\": 2,\n",
    "        \"1 year\": 1,\n",
    "        \"< 1 year\": 0,\n",
    "        \"n/a\": 0\n",
    "    }\n",
    "}\n"
   ]
  },
  {
   "cell_type": "markdown",
   "metadata": {},
   "source": [
    "We assume that people who may have been working more than 10 years have only really worked for 10 years. We also assume that people who've worked less than a year or if the information is not available that they've worked for 0. This is a general heuristic but it's not perfect."
   ]
  },
  {
   "cell_type": "code",
   "execution_count": 29,
   "metadata": {},
   "outputs": [],
   "source": [
    "# map the dictionary in the dataframe\n",
    "loans_2007= loans_2007.replace(map_dict)"
   ]
  },
  {
   "cell_type": "code",
   "execution_count": 30,
   "metadata": {},
   "outputs": [
    {
     "data": {
      "text/plain": [
       "term                   object\n",
       "home_ownership         object\n",
       "verification_status    object\n",
       "loan_status            object\n",
       "pymnt_plan             object\n",
       "purpose                object\n",
       "dtype: object"
      ]
     },
     "execution_count": 30,
     "metadata": {},
     "output_type": "execute_result"
    }
   ],
   "source": [
    "# Select columns that are still of object type\n",
    "loans_2007.dtypes[loans_2007.dtypes =='object']"
   ]
  },
  {
   "cell_type": "markdown",
   "metadata": {},
   "source": [
    "Now we can encode the categorical variables described in this section (in particular: 'home_ownership', 'verification_status', 'pymnt_plan', 'purpose' and 'term'). To this end three main steps are needed:\n",
    "\n",
    "1) We need to create a new DataFrame containing a new column for each dummy variable;\n",
    "\n",
    "2) Add these new dummy columns to the original DataFrame;\n",
    "\n",
    "3) Remove the original columns"
   ]
  },
  {
   "cell_type": "code",
   "execution_count": 31,
   "metadata": {},
   "outputs": [],
   "source": [
    "cols = ['home_ownership', 'verification_status', 'pymnt_plan', 'purpose',  'term']\n",
    "# create a new DataFrame\n",
    "dummy_df = pd.get_dummies(loans_2007[cols])\n",
    "# add new df to the original one\n",
    "loans = pd.concat([loans_2007, dummy_df], axis=1)\n",
    "# remove old columns\n",
    "loans_2007 = loans_2007.drop(cols, axis=1)"
   ]
  },
  {
   "cell_type": "code",
   "execution_count": 32,
   "metadata": {},
   "outputs": [
    {
     "data": {
      "text/html": [
       "<style  type=\"text/css\" >\n",
       "    #T_60046900_b2b2_11e9_88bc_c4b301cdc453 tr:hover {\n",
       "          background-color: #ffff99;\n",
       "    }    #T_60046900_b2b2_11e9_88bc_c4b301cdc453 th {\n",
       "          font-size: 150%;\n",
       "          text-align: center;\n",
       "    }    #T_60046900_b2b2_11e9_88bc_c4b301cdc453 caption {\n",
       "          caption-side: bottom;\n",
       "    }</style>  \n",
       "<table id=\"T_60046900_b2b2_11e9_88bc_c4b301cdc453\" ><caption>Hover to highlight.</caption> \n",
       "<thead>    <tr> \n",
       "        <th class=\"blank level0\" ></th> \n",
       "        <th class=\"col_heading level0 col0\" >loan_amnt</th> \n",
       "        <th class=\"col_heading level0 col1\" >int_rate</th> \n",
       "        <th class=\"col_heading level0 col2\" >installment</th> \n",
       "        <th class=\"col_heading level0 col3\" >emp_length</th> \n",
       "        <th class=\"col_heading level0 col4\" >annual_inc</th> \n",
       "        <th class=\"col_heading level0 col5\" >loan_status</th> \n",
       "        <th class=\"col_heading level0 col6\" >dti</th> \n",
       "        <th class=\"col_heading level0 col7\" >delinq_2yrs</th> \n",
       "        <th class=\"col_heading level0 col8\" >inq_last_6mths</th> \n",
       "        <th class=\"col_heading level0 col9\" >open_acc</th> \n",
       "        <th class=\"col_heading level0 col10\" >pub_rec</th> \n",
       "        <th class=\"col_heading level0 col11\" >revol_bal</th> \n",
       "        <th class=\"col_heading level0 col12\" >revol_util</th> \n",
       "        <th class=\"col_heading level0 col13\" >total_acc</th> \n",
       "        <th class=\"col_heading level0 col14\" >acc_now_delinq</th> \n",
       "        <th class=\"col_heading level0 col15\" >tax_liens</th> \n",
       "    </tr></thead> \n",
       "<tbody>    <tr> \n",
       "        <th id=\"T_60046900_b2b2_11e9_88bc_c4b301cdc453level0_row0\" class=\"row_heading level0 row0\" >0</th> \n",
       "        <td id=\"T_60046900_b2b2_11e9_88bc_c4b301cdc453row0_col0\" class=\"data row0 col0\" >5000</td> \n",
       "        <td id=\"T_60046900_b2b2_11e9_88bc_c4b301cdc453row0_col1\" class=\"data row0 col1\" >10.65</td> \n",
       "        <td id=\"T_60046900_b2b2_11e9_88bc_c4b301cdc453row0_col2\" class=\"data row0 col2\" >162.87</td> \n",
       "        <td id=\"T_60046900_b2b2_11e9_88bc_c4b301cdc453row0_col3\" class=\"data row0 col3\" >10</td> \n",
       "        <td id=\"T_60046900_b2b2_11e9_88bc_c4b301cdc453row0_col4\" class=\"data row0 col4\" >24000</td> \n",
       "        <td id=\"T_60046900_b2b2_11e9_88bc_c4b301cdc453row0_col5\" class=\"data row0 col5\" >Fully Paid</td> \n",
       "        <td id=\"T_60046900_b2b2_11e9_88bc_c4b301cdc453row0_col6\" class=\"data row0 col6\" >27.65</td> \n",
       "        <td id=\"T_60046900_b2b2_11e9_88bc_c4b301cdc453row0_col7\" class=\"data row0 col7\" >0</td> \n",
       "        <td id=\"T_60046900_b2b2_11e9_88bc_c4b301cdc453row0_col8\" class=\"data row0 col8\" >1</td> \n",
       "        <td id=\"T_60046900_b2b2_11e9_88bc_c4b301cdc453row0_col9\" class=\"data row0 col9\" >3</td> \n",
       "        <td id=\"T_60046900_b2b2_11e9_88bc_c4b301cdc453row0_col10\" class=\"data row0 col10\" >0</td> \n",
       "        <td id=\"T_60046900_b2b2_11e9_88bc_c4b301cdc453row0_col11\" class=\"data row0 col11\" >13648</td> \n",
       "        <td id=\"T_60046900_b2b2_11e9_88bc_c4b301cdc453row0_col12\" class=\"data row0 col12\" >83.7</td> \n",
       "        <td id=\"T_60046900_b2b2_11e9_88bc_c4b301cdc453row0_col13\" class=\"data row0 col13\" >9</td> \n",
       "        <td id=\"T_60046900_b2b2_11e9_88bc_c4b301cdc453row0_col14\" class=\"data row0 col14\" >0</td> \n",
       "        <td id=\"T_60046900_b2b2_11e9_88bc_c4b301cdc453row0_col15\" class=\"data row0 col15\" >0</td> \n",
       "    </tr>    <tr> \n",
       "        <th id=\"T_60046900_b2b2_11e9_88bc_c4b301cdc453level0_row1\" class=\"row_heading level0 row1\" >1</th> \n",
       "        <td id=\"T_60046900_b2b2_11e9_88bc_c4b301cdc453row1_col0\" class=\"data row1 col0\" >2500</td> \n",
       "        <td id=\"T_60046900_b2b2_11e9_88bc_c4b301cdc453row1_col1\" class=\"data row1 col1\" >15.27</td> \n",
       "        <td id=\"T_60046900_b2b2_11e9_88bc_c4b301cdc453row1_col2\" class=\"data row1 col2\" >59.83</td> \n",
       "        <td id=\"T_60046900_b2b2_11e9_88bc_c4b301cdc453row1_col3\" class=\"data row1 col3\" >0</td> \n",
       "        <td id=\"T_60046900_b2b2_11e9_88bc_c4b301cdc453row1_col4\" class=\"data row1 col4\" >30000</td> \n",
       "        <td id=\"T_60046900_b2b2_11e9_88bc_c4b301cdc453row1_col5\" class=\"data row1 col5\" >Charged Off</td> \n",
       "        <td id=\"T_60046900_b2b2_11e9_88bc_c4b301cdc453row1_col6\" class=\"data row1 col6\" >1</td> \n",
       "        <td id=\"T_60046900_b2b2_11e9_88bc_c4b301cdc453row1_col7\" class=\"data row1 col7\" >0</td> \n",
       "        <td id=\"T_60046900_b2b2_11e9_88bc_c4b301cdc453row1_col8\" class=\"data row1 col8\" >5</td> \n",
       "        <td id=\"T_60046900_b2b2_11e9_88bc_c4b301cdc453row1_col9\" class=\"data row1 col9\" >3</td> \n",
       "        <td id=\"T_60046900_b2b2_11e9_88bc_c4b301cdc453row1_col10\" class=\"data row1 col10\" >0</td> \n",
       "        <td id=\"T_60046900_b2b2_11e9_88bc_c4b301cdc453row1_col11\" class=\"data row1 col11\" >1687</td> \n",
       "        <td id=\"T_60046900_b2b2_11e9_88bc_c4b301cdc453row1_col12\" class=\"data row1 col12\" >9.4</td> \n",
       "        <td id=\"T_60046900_b2b2_11e9_88bc_c4b301cdc453row1_col13\" class=\"data row1 col13\" >4</td> \n",
       "        <td id=\"T_60046900_b2b2_11e9_88bc_c4b301cdc453row1_col14\" class=\"data row1 col14\" >0</td> \n",
       "        <td id=\"T_60046900_b2b2_11e9_88bc_c4b301cdc453row1_col15\" class=\"data row1 col15\" >0</td> \n",
       "    </tr>    <tr> \n",
       "        <th id=\"T_60046900_b2b2_11e9_88bc_c4b301cdc453level0_row2\" class=\"row_heading level0 row2\" >2</th> \n",
       "        <td id=\"T_60046900_b2b2_11e9_88bc_c4b301cdc453row2_col0\" class=\"data row2 col0\" >2400</td> \n",
       "        <td id=\"T_60046900_b2b2_11e9_88bc_c4b301cdc453row2_col1\" class=\"data row2 col1\" >15.96</td> \n",
       "        <td id=\"T_60046900_b2b2_11e9_88bc_c4b301cdc453row2_col2\" class=\"data row2 col2\" >84.33</td> \n",
       "        <td id=\"T_60046900_b2b2_11e9_88bc_c4b301cdc453row2_col3\" class=\"data row2 col3\" >10</td> \n",
       "        <td id=\"T_60046900_b2b2_11e9_88bc_c4b301cdc453row2_col4\" class=\"data row2 col4\" >12252</td> \n",
       "        <td id=\"T_60046900_b2b2_11e9_88bc_c4b301cdc453row2_col5\" class=\"data row2 col5\" >Fully Paid</td> \n",
       "        <td id=\"T_60046900_b2b2_11e9_88bc_c4b301cdc453row2_col6\" class=\"data row2 col6\" >8.72</td> \n",
       "        <td id=\"T_60046900_b2b2_11e9_88bc_c4b301cdc453row2_col7\" class=\"data row2 col7\" >0</td> \n",
       "        <td id=\"T_60046900_b2b2_11e9_88bc_c4b301cdc453row2_col8\" class=\"data row2 col8\" >2</td> \n",
       "        <td id=\"T_60046900_b2b2_11e9_88bc_c4b301cdc453row2_col9\" class=\"data row2 col9\" >2</td> \n",
       "        <td id=\"T_60046900_b2b2_11e9_88bc_c4b301cdc453row2_col10\" class=\"data row2 col10\" >0</td> \n",
       "        <td id=\"T_60046900_b2b2_11e9_88bc_c4b301cdc453row2_col11\" class=\"data row2 col11\" >2956</td> \n",
       "        <td id=\"T_60046900_b2b2_11e9_88bc_c4b301cdc453row2_col12\" class=\"data row2 col12\" >98.5</td> \n",
       "        <td id=\"T_60046900_b2b2_11e9_88bc_c4b301cdc453row2_col13\" class=\"data row2 col13\" >10</td> \n",
       "        <td id=\"T_60046900_b2b2_11e9_88bc_c4b301cdc453row2_col14\" class=\"data row2 col14\" >0</td> \n",
       "        <td id=\"T_60046900_b2b2_11e9_88bc_c4b301cdc453row2_col15\" class=\"data row2 col15\" >0</td> \n",
       "    </tr>    <tr> \n",
       "        <th id=\"T_60046900_b2b2_11e9_88bc_c4b301cdc453level0_row3\" class=\"row_heading level0 row3\" >3</th> \n",
       "        <td id=\"T_60046900_b2b2_11e9_88bc_c4b301cdc453row3_col0\" class=\"data row3 col0\" >10000</td> \n",
       "        <td id=\"T_60046900_b2b2_11e9_88bc_c4b301cdc453row3_col1\" class=\"data row3 col1\" >13.49</td> \n",
       "        <td id=\"T_60046900_b2b2_11e9_88bc_c4b301cdc453row3_col2\" class=\"data row3 col2\" >339.31</td> \n",
       "        <td id=\"T_60046900_b2b2_11e9_88bc_c4b301cdc453row3_col3\" class=\"data row3 col3\" >10</td> \n",
       "        <td id=\"T_60046900_b2b2_11e9_88bc_c4b301cdc453row3_col4\" class=\"data row3 col4\" >49200</td> \n",
       "        <td id=\"T_60046900_b2b2_11e9_88bc_c4b301cdc453row3_col5\" class=\"data row3 col5\" >Fully Paid</td> \n",
       "        <td id=\"T_60046900_b2b2_11e9_88bc_c4b301cdc453row3_col6\" class=\"data row3 col6\" >20</td> \n",
       "        <td id=\"T_60046900_b2b2_11e9_88bc_c4b301cdc453row3_col7\" class=\"data row3 col7\" >0</td> \n",
       "        <td id=\"T_60046900_b2b2_11e9_88bc_c4b301cdc453row3_col8\" class=\"data row3 col8\" >1</td> \n",
       "        <td id=\"T_60046900_b2b2_11e9_88bc_c4b301cdc453row3_col9\" class=\"data row3 col9\" >10</td> \n",
       "        <td id=\"T_60046900_b2b2_11e9_88bc_c4b301cdc453row3_col10\" class=\"data row3 col10\" >0</td> \n",
       "        <td id=\"T_60046900_b2b2_11e9_88bc_c4b301cdc453row3_col11\" class=\"data row3 col11\" >5598</td> \n",
       "        <td id=\"T_60046900_b2b2_11e9_88bc_c4b301cdc453row3_col12\" class=\"data row3 col12\" >21</td> \n",
       "        <td id=\"T_60046900_b2b2_11e9_88bc_c4b301cdc453row3_col13\" class=\"data row3 col13\" >37</td> \n",
       "        <td id=\"T_60046900_b2b2_11e9_88bc_c4b301cdc453row3_col14\" class=\"data row3 col14\" >0</td> \n",
       "        <td id=\"T_60046900_b2b2_11e9_88bc_c4b301cdc453row3_col15\" class=\"data row3 col15\" >0</td> \n",
       "    </tr>    <tr> \n",
       "        <th id=\"T_60046900_b2b2_11e9_88bc_c4b301cdc453level0_row4\" class=\"row_heading level0 row4\" >4</th> \n",
       "        <td id=\"T_60046900_b2b2_11e9_88bc_c4b301cdc453row4_col0\" class=\"data row4 col0\" >3000</td> \n",
       "        <td id=\"T_60046900_b2b2_11e9_88bc_c4b301cdc453row4_col1\" class=\"data row4 col1\" >12.69</td> \n",
       "        <td id=\"T_60046900_b2b2_11e9_88bc_c4b301cdc453row4_col2\" class=\"data row4 col2\" >67.79</td> \n",
       "        <td id=\"T_60046900_b2b2_11e9_88bc_c4b301cdc453row4_col3\" class=\"data row4 col3\" >1</td> \n",
       "        <td id=\"T_60046900_b2b2_11e9_88bc_c4b301cdc453row4_col4\" class=\"data row4 col4\" >80000</td> \n",
       "        <td id=\"T_60046900_b2b2_11e9_88bc_c4b301cdc453row4_col5\" class=\"data row4 col5\" >Current</td> \n",
       "        <td id=\"T_60046900_b2b2_11e9_88bc_c4b301cdc453row4_col6\" class=\"data row4 col6\" >17.94</td> \n",
       "        <td id=\"T_60046900_b2b2_11e9_88bc_c4b301cdc453row4_col7\" class=\"data row4 col7\" >0</td> \n",
       "        <td id=\"T_60046900_b2b2_11e9_88bc_c4b301cdc453row4_col8\" class=\"data row4 col8\" >0</td> \n",
       "        <td id=\"T_60046900_b2b2_11e9_88bc_c4b301cdc453row4_col9\" class=\"data row4 col9\" >15</td> \n",
       "        <td id=\"T_60046900_b2b2_11e9_88bc_c4b301cdc453row4_col10\" class=\"data row4 col10\" >0</td> \n",
       "        <td id=\"T_60046900_b2b2_11e9_88bc_c4b301cdc453row4_col11\" class=\"data row4 col11\" >27783</td> \n",
       "        <td id=\"T_60046900_b2b2_11e9_88bc_c4b301cdc453row4_col12\" class=\"data row4 col12\" >53.9</td> \n",
       "        <td id=\"T_60046900_b2b2_11e9_88bc_c4b301cdc453row4_col13\" class=\"data row4 col13\" >38</td> \n",
       "        <td id=\"T_60046900_b2b2_11e9_88bc_c4b301cdc453row4_col14\" class=\"data row4 col14\" >0</td> \n",
       "        <td id=\"T_60046900_b2b2_11e9_88bc_c4b301cdc453row4_col15\" class=\"data row4 col15\" >0</td> \n",
       "    </tr></tbody> \n",
       "</table> "
      ],
      "text/plain": [
       "<pandas.io.formats.style.Styler at 0x1a223e7590>"
      ]
     },
     "execution_count": 32,
     "metadata": {},
     "output_type": "execute_result"
    }
   ],
   "source": [
    "df2table(loans_2007.head())"
   ]
  },
  {
   "cell_type": "markdown",
   "metadata": {},
   "source": [
    "#### Target Column"
   ]
  },
  {
   "cell_type": "markdown",
   "metadata": {},
   "source": [
    "We now need to decide on a target column that we want to use for modeling.\n",
    "\n",
    "We should use the *loan_status* column, since it's the only column that directly describes if a loan was paid off on time, had delayed payments, or was defaulted on the borrower. Currently, this column contains text values and we need to convert it to a numerical one for training a model. Let's explore the different values in this column and come up with a strategy for converting the values in this column."
   ]
  },
  {
   "cell_type": "code",
   "execution_count": 33,
   "metadata": {},
   "outputs": [],
   "source": [
    "# let us consider how many unique values are there in the loan_status feature\n",
    "loan_status = pd.DataFrame()\n",
    "loan_status = loans_2007['loan_status'].value_counts().to_frame()\n",
    "loan_status['Count'] = loan_status['loan_status']\n",
    "loan_status['Loan Status'] = loan_status.index\n",
    "loan_status.reset_index(level=0, inplace=True)\n",
    "loan_status.drop(['loan_status', 'index'], axis = 1, inplace = True)"
   ]
  },
  {
   "cell_type": "markdown",
   "metadata": {},
   "source": [
    "We can add also the description of each value of the *loan_status* feature that can be found in the [lendingclub website](https://help.lendingclub.com/hc/en-us/articles/215488038-What-do-the-different-Note-statuses-mean-)."
   ]
  },
  {
   "cell_type": "code",
   "execution_count": 34,
   "metadata": {},
   "outputs": [],
   "source": [
    "descriptions = ['Loan has been fully paid off.',\n",
    "               'Loan for which there is no longer a reasonable expectation of further payments.',\n",
    "               'While the loan was paid off, the loan application today would no longer meet the credit policy and wouldn t be approved on to the marketplace.',\n",
    "               'While the loan was charged off, the loan application today would no longer meet the credit policy and wouldn t be approved on to the marketplace.',\n",
    "               'The loan is past due but still in the grace period of 15 days.',\n",
    "               'Loan hasn t been paid in 16 to 30 days (late on the current payment).',\n",
    "               'Loan hasn t been paid in 31 to 120 days (late on the current payment).',\n",
    "               'Loan is up to date on current payments.',\n",
    "               'Loan is defaulted on and no payment has been made for more than 121 days.']\n",
    "loan_status['Description'] = descriptions"
   ]
  },
  {
   "cell_type": "code",
   "execution_count": 35,
   "metadata": {},
   "outputs": [
    {
     "data": {
      "text/html": [
       "<style  type=\"text/css\" >\n",
       "    #T_600dbc75_b2b2_11e9_8818_c4b301cdc453 tr:hover {\n",
       "          background-color: #ffff99;\n",
       "    }    #T_600dbc75_b2b2_11e9_8818_c4b301cdc453 th {\n",
       "          font-size: 150%;\n",
       "          text-align: center;\n",
       "    }    #T_600dbc75_b2b2_11e9_8818_c4b301cdc453 caption {\n",
       "          caption-side: bottom;\n",
       "    }</style>  \n",
       "<table id=\"T_600dbc75_b2b2_11e9_8818_c4b301cdc453\" ><caption>Hover to highlight.</caption> \n",
       "<thead>    <tr> \n",
       "        <th class=\"blank level0\" ></th> \n",
       "        <th class=\"col_heading level0 col0\" >Count</th> \n",
       "        <th class=\"col_heading level0 col1\" >Loan Status</th> \n",
       "        <th class=\"col_heading level0 col2\" >Description</th> \n",
       "    </tr></thead> \n",
       "<tbody>    <tr> \n",
       "        <th id=\"T_600dbc75_b2b2_11e9_8818_c4b301cdc453level0_row0\" class=\"row_heading level0 row0\" >0</th> \n",
       "        <td id=\"T_600dbc75_b2b2_11e9_8818_c4b301cdc453row0_col0\" class=\"data row0 col0\" >32258</td> \n",
       "        <td id=\"T_600dbc75_b2b2_11e9_8818_c4b301cdc453row0_col1\" class=\"data row0 col1\" >Fully Paid</td> \n",
       "        <td id=\"T_600dbc75_b2b2_11e9_8818_c4b301cdc453row0_col2\" class=\"data row0 col2\" >Loan has been fully paid off.</td> \n",
       "    </tr>    <tr> \n",
       "        <th id=\"T_600dbc75_b2b2_11e9_8818_c4b301cdc453level0_row1\" class=\"row_heading level0 row1\" >1</th> \n",
       "        <td id=\"T_600dbc75_b2b2_11e9_8818_c4b301cdc453row1_col0\" class=\"data row1 col0\" >5390</td> \n",
       "        <td id=\"T_600dbc75_b2b2_11e9_8818_c4b301cdc453row1_col1\" class=\"data row1 col1\" >Charged Off</td> \n",
       "        <td id=\"T_600dbc75_b2b2_11e9_8818_c4b301cdc453row1_col2\" class=\"data row1 col2\" >Loan for which there is no longer a reasonable expectation of further payments.</td> \n",
       "    </tr>    <tr> \n",
       "        <th id=\"T_600dbc75_b2b2_11e9_8818_c4b301cdc453level0_row2\" class=\"row_heading level0 row2\" >2</th> \n",
       "        <td id=\"T_600dbc75_b2b2_11e9_8818_c4b301cdc453row2_col0\" class=\"data row2 col0\" >1906</td> \n",
       "        <td id=\"T_600dbc75_b2b2_11e9_8818_c4b301cdc453row2_col1\" class=\"data row2 col1\" >Does not meet the credit policy. Status:Fully Paid</td> \n",
       "        <td id=\"T_600dbc75_b2b2_11e9_8818_c4b301cdc453row2_col2\" class=\"data row2 col2\" >While the loan was paid off, the loan application today would no longer meet the credit policy and wouldn t be approved on to the marketplace.</td> \n",
       "    </tr>    <tr> \n",
       "        <th id=\"T_600dbc75_b2b2_11e9_8818_c4b301cdc453level0_row3\" class=\"row_heading level0 row3\" >3</th> \n",
       "        <td id=\"T_600dbc75_b2b2_11e9_8818_c4b301cdc453row3_col0\" class=\"data row3 col0\" >923</td> \n",
       "        <td id=\"T_600dbc75_b2b2_11e9_8818_c4b301cdc453row3_col1\" class=\"data row3 col1\" >Current</td> \n",
       "        <td id=\"T_600dbc75_b2b2_11e9_8818_c4b301cdc453row3_col2\" class=\"data row3 col2\" >While the loan was charged off, the loan application today would no longer meet the credit policy and wouldn t be approved on to the marketplace.</td> \n",
       "    </tr>    <tr> \n",
       "        <th id=\"T_600dbc75_b2b2_11e9_8818_c4b301cdc453level0_row4\" class=\"row_heading level0 row4\" >4</th> \n",
       "        <td id=\"T_600dbc75_b2b2_11e9_8818_c4b301cdc453row4_col0\" class=\"data row4 col0\" >733</td> \n",
       "        <td id=\"T_600dbc75_b2b2_11e9_8818_c4b301cdc453row4_col1\" class=\"data row4 col1\" >Does not meet the credit policy. Status:Charged Off</td> \n",
       "        <td id=\"T_600dbc75_b2b2_11e9_8818_c4b301cdc453row4_col2\" class=\"data row4 col2\" >The loan is past due but still in the grace period of 15 days.</td> \n",
       "    </tr>    <tr> \n",
       "        <th id=\"T_600dbc75_b2b2_11e9_8818_c4b301cdc453level0_row5\" class=\"row_heading level0 row5\" >5</th> \n",
       "        <td id=\"T_600dbc75_b2b2_11e9_8818_c4b301cdc453row5_col0\" class=\"data row5 col0\" >23</td> \n",
       "        <td id=\"T_600dbc75_b2b2_11e9_8818_c4b301cdc453row5_col1\" class=\"data row5 col1\" >Late (31-120 days)</td> \n",
       "        <td id=\"T_600dbc75_b2b2_11e9_8818_c4b301cdc453row5_col2\" class=\"data row5 col2\" >Loan hasn t been paid in 16 to 30 days (late on the current payment).</td> \n",
       "    </tr>    <tr> \n",
       "        <th id=\"T_600dbc75_b2b2_11e9_8818_c4b301cdc453level0_row6\" class=\"row_heading level0 row6\" >6</th> \n",
       "        <td id=\"T_600dbc75_b2b2_11e9_8818_c4b301cdc453row6_col0\" class=\"data row6 col0\" >18</td> \n",
       "        <td id=\"T_600dbc75_b2b2_11e9_8818_c4b301cdc453row6_col1\" class=\"data row6 col1\" >In Grace Period</td> \n",
       "        <td id=\"T_600dbc75_b2b2_11e9_8818_c4b301cdc453row6_col2\" class=\"data row6 col2\" >Loan hasn t been paid in 31 to 120 days (late on the current payment).</td> \n",
       "    </tr>    <tr> \n",
       "        <th id=\"T_600dbc75_b2b2_11e9_8818_c4b301cdc453level0_row7\" class=\"row_heading level0 row7\" >7</th> \n",
       "        <td id=\"T_600dbc75_b2b2_11e9_8818_c4b301cdc453row7_col0\" class=\"data row7 col0\" >8</td> \n",
       "        <td id=\"T_600dbc75_b2b2_11e9_8818_c4b301cdc453row7_col1\" class=\"data row7 col1\" >Late (16-30 days)</td> \n",
       "        <td id=\"T_600dbc75_b2b2_11e9_8818_c4b301cdc453row7_col2\" class=\"data row7 col2\" >Loan is up to date on current payments.</td> \n",
       "    </tr>    <tr> \n",
       "        <th id=\"T_600dbc75_b2b2_11e9_8818_c4b301cdc453level0_row8\" class=\"row_heading level0 row8\" >8</th> \n",
       "        <td id=\"T_600dbc75_b2b2_11e9_8818_c4b301cdc453row8_col0\" class=\"data row8 col0\" >2</td> \n",
       "        <td id=\"T_600dbc75_b2b2_11e9_8818_c4b301cdc453row8_col1\" class=\"data row8 col1\" >Default</td> \n",
       "        <td id=\"T_600dbc75_b2b2_11e9_8818_c4b301cdc453row8_col2\" class=\"data row8 col2\" >Loan is defaulted on and no payment has been made for more than 121 days.</td> \n",
       "    </tr></tbody> \n",
       "</table> "
      ],
      "text/plain": [
       "<pandas.io.formats.style.Styler at 0x1a22110310>"
      ]
     },
     "execution_count": 35,
     "metadata": {},
     "output_type": "execute_result"
    }
   ],
   "source": [
    "df2table(loan_status)"
   ]
  },
  {
   "cell_type": "markdown",
   "metadata": {},
   "source": [
    "There are 8 different possible values for the loan_status column. Only the *Fully Paid* and *Charged Off* values describe the final outcome of the loan. Since from the investor's perspective, we're interested in trying to predict which loans will be paid off on time and which ones won't be, we need to convert the output into a binary vector that contains all the loans that have been paid (*Fully Paid*, can be reported as 1) and the loans that will not be paid (*Charged Off*, that will be associated to the value 0)."
   ]
  },
  {
   "cell_type": "code",
   "execution_count": 36,
   "metadata": {},
   "outputs": [],
   "source": [
    "# Filter Dataframe considering only the outputs Fully Paid and Charged Off\n",
    "loans_2007_filt = loans_2007[(loans_2007['loan_status']=='Fully Paid') | (loans_2007['loan_status']=='Charged Off')]"
   ]
  },
  {
   "cell_type": "code",
   "execution_count": 37,
   "metadata": {},
   "outputs": [],
   "source": [
    "# Convert values in loan_status feature in binary numbers\n",
    "map_dict = {\n",
    "    \n",
    "    \"loan_status\":{\n",
    "        \"Fully Paid\" : 1,\n",
    "        \"Charged Off\" : 0\n",
    "    }\n",
    "}\n",
    "loans_2007_filt = loans_2007_filt.replace(map_dict)"
   ]
  },
  {
   "cell_type": "code",
   "execution_count": 38,
   "metadata": {},
   "outputs": [
    {
     "data": {
      "text/html": [
       "<style  type=\"text/css\" >\n",
       "    #T_6019aa4a_b2b2_11e9_95ee_c4b301cdc453 tr:hover {\n",
       "          background-color: #ffff99;\n",
       "    }    #T_6019aa4a_b2b2_11e9_95ee_c4b301cdc453 th {\n",
       "          font-size: 150%;\n",
       "          text-align: center;\n",
       "    }    #T_6019aa4a_b2b2_11e9_95ee_c4b301cdc453 caption {\n",
       "          caption-side: bottom;\n",
       "    }</style>  \n",
       "<table id=\"T_6019aa4a_b2b2_11e9_95ee_c4b301cdc453\" ><caption>Hover to highlight.</caption> \n",
       "<thead>    <tr> \n",
       "        <th class=\"blank level0\" ></th> \n",
       "        <th class=\"col_heading level0 col0\" >loan_amnt</th> \n",
       "        <th class=\"col_heading level0 col1\" >int_rate</th> \n",
       "        <th class=\"col_heading level0 col2\" >installment</th> \n",
       "        <th class=\"col_heading level0 col3\" >emp_length</th> \n",
       "        <th class=\"col_heading level0 col4\" >annual_inc</th> \n",
       "        <th class=\"col_heading level0 col5\" >loan_status</th> \n",
       "        <th class=\"col_heading level0 col6\" >dti</th> \n",
       "        <th class=\"col_heading level0 col7\" >delinq_2yrs</th> \n",
       "        <th class=\"col_heading level0 col8\" >inq_last_6mths</th> \n",
       "        <th class=\"col_heading level0 col9\" >open_acc</th> \n",
       "        <th class=\"col_heading level0 col10\" >pub_rec</th> \n",
       "        <th class=\"col_heading level0 col11\" >revol_bal</th> \n",
       "        <th class=\"col_heading level0 col12\" >revol_util</th> \n",
       "        <th class=\"col_heading level0 col13\" >total_acc</th> \n",
       "        <th class=\"col_heading level0 col14\" >acc_now_delinq</th> \n",
       "        <th class=\"col_heading level0 col15\" >tax_liens</th> \n",
       "    </tr></thead> \n",
       "<tbody>    <tr> \n",
       "        <th id=\"T_6019aa4a_b2b2_11e9_95ee_c4b301cdc453level0_row0\" class=\"row_heading level0 row0\" >0</th> \n",
       "        <td id=\"T_6019aa4a_b2b2_11e9_95ee_c4b301cdc453row0_col0\" class=\"data row0 col0\" >5000</td> \n",
       "        <td id=\"T_6019aa4a_b2b2_11e9_95ee_c4b301cdc453row0_col1\" class=\"data row0 col1\" >10.65</td> \n",
       "        <td id=\"T_6019aa4a_b2b2_11e9_95ee_c4b301cdc453row0_col2\" class=\"data row0 col2\" >162.87</td> \n",
       "        <td id=\"T_6019aa4a_b2b2_11e9_95ee_c4b301cdc453row0_col3\" class=\"data row0 col3\" >10</td> \n",
       "        <td id=\"T_6019aa4a_b2b2_11e9_95ee_c4b301cdc453row0_col4\" class=\"data row0 col4\" >24000</td> \n",
       "        <td id=\"T_6019aa4a_b2b2_11e9_95ee_c4b301cdc453row0_col5\" class=\"data row0 col5\" >1</td> \n",
       "        <td id=\"T_6019aa4a_b2b2_11e9_95ee_c4b301cdc453row0_col6\" class=\"data row0 col6\" >27.65</td> \n",
       "        <td id=\"T_6019aa4a_b2b2_11e9_95ee_c4b301cdc453row0_col7\" class=\"data row0 col7\" >0</td> \n",
       "        <td id=\"T_6019aa4a_b2b2_11e9_95ee_c4b301cdc453row0_col8\" class=\"data row0 col8\" >1</td> \n",
       "        <td id=\"T_6019aa4a_b2b2_11e9_95ee_c4b301cdc453row0_col9\" class=\"data row0 col9\" >3</td> \n",
       "        <td id=\"T_6019aa4a_b2b2_11e9_95ee_c4b301cdc453row0_col10\" class=\"data row0 col10\" >0</td> \n",
       "        <td id=\"T_6019aa4a_b2b2_11e9_95ee_c4b301cdc453row0_col11\" class=\"data row0 col11\" >13648</td> \n",
       "        <td id=\"T_6019aa4a_b2b2_11e9_95ee_c4b301cdc453row0_col12\" class=\"data row0 col12\" >83.7</td> \n",
       "        <td id=\"T_6019aa4a_b2b2_11e9_95ee_c4b301cdc453row0_col13\" class=\"data row0 col13\" >9</td> \n",
       "        <td id=\"T_6019aa4a_b2b2_11e9_95ee_c4b301cdc453row0_col14\" class=\"data row0 col14\" >0</td> \n",
       "        <td id=\"T_6019aa4a_b2b2_11e9_95ee_c4b301cdc453row0_col15\" class=\"data row0 col15\" >0</td> \n",
       "    </tr>    <tr> \n",
       "        <th id=\"T_6019aa4a_b2b2_11e9_95ee_c4b301cdc453level0_row1\" class=\"row_heading level0 row1\" >1</th> \n",
       "        <td id=\"T_6019aa4a_b2b2_11e9_95ee_c4b301cdc453row1_col0\" class=\"data row1 col0\" >2500</td> \n",
       "        <td id=\"T_6019aa4a_b2b2_11e9_95ee_c4b301cdc453row1_col1\" class=\"data row1 col1\" >15.27</td> \n",
       "        <td id=\"T_6019aa4a_b2b2_11e9_95ee_c4b301cdc453row1_col2\" class=\"data row1 col2\" >59.83</td> \n",
       "        <td id=\"T_6019aa4a_b2b2_11e9_95ee_c4b301cdc453row1_col3\" class=\"data row1 col3\" >0</td> \n",
       "        <td id=\"T_6019aa4a_b2b2_11e9_95ee_c4b301cdc453row1_col4\" class=\"data row1 col4\" >30000</td> \n",
       "        <td id=\"T_6019aa4a_b2b2_11e9_95ee_c4b301cdc453row1_col5\" class=\"data row1 col5\" >0</td> \n",
       "        <td id=\"T_6019aa4a_b2b2_11e9_95ee_c4b301cdc453row1_col6\" class=\"data row1 col6\" >1</td> \n",
       "        <td id=\"T_6019aa4a_b2b2_11e9_95ee_c4b301cdc453row1_col7\" class=\"data row1 col7\" >0</td> \n",
       "        <td id=\"T_6019aa4a_b2b2_11e9_95ee_c4b301cdc453row1_col8\" class=\"data row1 col8\" >5</td> \n",
       "        <td id=\"T_6019aa4a_b2b2_11e9_95ee_c4b301cdc453row1_col9\" class=\"data row1 col9\" >3</td> \n",
       "        <td id=\"T_6019aa4a_b2b2_11e9_95ee_c4b301cdc453row1_col10\" class=\"data row1 col10\" >0</td> \n",
       "        <td id=\"T_6019aa4a_b2b2_11e9_95ee_c4b301cdc453row1_col11\" class=\"data row1 col11\" >1687</td> \n",
       "        <td id=\"T_6019aa4a_b2b2_11e9_95ee_c4b301cdc453row1_col12\" class=\"data row1 col12\" >9.4</td> \n",
       "        <td id=\"T_6019aa4a_b2b2_11e9_95ee_c4b301cdc453row1_col13\" class=\"data row1 col13\" >4</td> \n",
       "        <td id=\"T_6019aa4a_b2b2_11e9_95ee_c4b301cdc453row1_col14\" class=\"data row1 col14\" >0</td> \n",
       "        <td id=\"T_6019aa4a_b2b2_11e9_95ee_c4b301cdc453row1_col15\" class=\"data row1 col15\" >0</td> \n",
       "    </tr>    <tr> \n",
       "        <th id=\"T_6019aa4a_b2b2_11e9_95ee_c4b301cdc453level0_row2\" class=\"row_heading level0 row2\" >2</th> \n",
       "        <td id=\"T_6019aa4a_b2b2_11e9_95ee_c4b301cdc453row2_col0\" class=\"data row2 col0\" >2400</td> \n",
       "        <td id=\"T_6019aa4a_b2b2_11e9_95ee_c4b301cdc453row2_col1\" class=\"data row2 col1\" >15.96</td> \n",
       "        <td id=\"T_6019aa4a_b2b2_11e9_95ee_c4b301cdc453row2_col2\" class=\"data row2 col2\" >84.33</td> \n",
       "        <td id=\"T_6019aa4a_b2b2_11e9_95ee_c4b301cdc453row2_col3\" class=\"data row2 col3\" >10</td> \n",
       "        <td id=\"T_6019aa4a_b2b2_11e9_95ee_c4b301cdc453row2_col4\" class=\"data row2 col4\" >12252</td> \n",
       "        <td id=\"T_6019aa4a_b2b2_11e9_95ee_c4b301cdc453row2_col5\" class=\"data row2 col5\" >1</td> \n",
       "        <td id=\"T_6019aa4a_b2b2_11e9_95ee_c4b301cdc453row2_col6\" class=\"data row2 col6\" >8.72</td> \n",
       "        <td id=\"T_6019aa4a_b2b2_11e9_95ee_c4b301cdc453row2_col7\" class=\"data row2 col7\" >0</td> \n",
       "        <td id=\"T_6019aa4a_b2b2_11e9_95ee_c4b301cdc453row2_col8\" class=\"data row2 col8\" >2</td> \n",
       "        <td id=\"T_6019aa4a_b2b2_11e9_95ee_c4b301cdc453row2_col9\" class=\"data row2 col9\" >2</td> \n",
       "        <td id=\"T_6019aa4a_b2b2_11e9_95ee_c4b301cdc453row2_col10\" class=\"data row2 col10\" >0</td> \n",
       "        <td id=\"T_6019aa4a_b2b2_11e9_95ee_c4b301cdc453row2_col11\" class=\"data row2 col11\" >2956</td> \n",
       "        <td id=\"T_6019aa4a_b2b2_11e9_95ee_c4b301cdc453row2_col12\" class=\"data row2 col12\" >98.5</td> \n",
       "        <td id=\"T_6019aa4a_b2b2_11e9_95ee_c4b301cdc453row2_col13\" class=\"data row2 col13\" >10</td> \n",
       "        <td id=\"T_6019aa4a_b2b2_11e9_95ee_c4b301cdc453row2_col14\" class=\"data row2 col14\" >0</td> \n",
       "        <td id=\"T_6019aa4a_b2b2_11e9_95ee_c4b301cdc453row2_col15\" class=\"data row2 col15\" >0</td> \n",
       "    </tr>    <tr> \n",
       "        <th id=\"T_6019aa4a_b2b2_11e9_95ee_c4b301cdc453level0_row3\" class=\"row_heading level0 row3\" >3</th> \n",
       "        <td id=\"T_6019aa4a_b2b2_11e9_95ee_c4b301cdc453row3_col0\" class=\"data row3 col0\" >10000</td> \n",
       "        <td id=\"T_6019aa4a_b2b2_11e9_95ee_c4b301cdc453row3_col1\" class=\"data row3 col1\" >13.49</td> \n",
       "        <td id=\"T_6019aa4a_b2b2_11e9_95ee_c4b301cdc453row3_col2\" class=\"data row3 col2\" >339.31</td> \n",
       "        <td id=\"T_6019aa4a_b2b2_11e9_95ee_c4b301cdc453row3_col3\" class=\"data row3 col3\" >10</td> \n",
       "        <td id=\"T_6019aa4a_b2b2_11e9_95ee_c4b301cdc453row3_col4\" class=\"data row3 col4\" >49200</td> \n",
       "        <td id=\"T_6019aa4a_b2b2_11e9_95ee_c4b301cdc453row3_col5\" class=\"data row3 col5\" >1</td> \n",
       "        <td id=\"T_6019aa4a_b2b2_11e9_95ee_c4b301cdc453row3_col6\" class=\"data row3 col6\" >20</td> \n",
       "        <td id=\"T_6019aa4a_b2b2_11e9_95ee_c4b301cdc453row3_col7\" class=\"data row3 col7\" >0</td> \n",
       "        <td id=\"T_6019aa4a_b2b2_11e9_95ee_c4b301cdc453row3_col8\" class=\"data row3 col8\" >1</td> \n",
       "        <td id=\"T_6019aa4a_b2b2_11e9_95ee_c4b301cdc453row3_col9\" class=\"data row3 col9\" >10</td> \n",
       "        <td id=\"T_6019aa4a_b2b2_11e9_95ee_c4b301cdc453row3_col10\" class=\"data row3 col10\" >0</td> \n",
       "        <td id=\"T_6019aa4a_b2b2_11e9_95ee_c4b301cdc453row3_col11\" class=\"data row3 col11\" >5598</td> \n",
       "        <td id=\"T_6019aa4a_b2b2_11e9_95ee_c4b301cdc453row3_col12\" class=\"data row3 col12\" >21</td> \n",
       "        <td id=\"T_6019aa4a_b2b2_11e9_95ee_c4b301cdc453row3_col13\" class=\"data row3 col13\" >37</td> \n",
       "        <td id=\"T_6019aa4a_b2b2_11e9_95ee_c4b301cdc453row3_col14\" class=\"data row3 col14\" >0</td> \n",
       "        <td id=\"T_6019aa4a_b2b2_11e9_95ee_c4b301cdc453row3_col15\" class=\"data row3 col15\" >0</td> \n",
       "    </tr>    <tr> \n",
       "        <th id=\"T_6019aa4a_b2b2_11e9_95ee_c4b301cdc453level0_row4\" class=\"row_heading level0 row4\" >5</th> \n",
       "        <td id=\"T_6019aa4a_b2b2_11e9_95ee_c4b301cdc453row4_col0\" class=\"data row4 col0\" >5000</td> \n",
       "        <td id=\"T_6019aa4a_b2b2_11e9_95ee_c4b301cdc453row4_col1\" class=\"data row4 col1\" >7.9</td> \n",
       "        <td id=\"T_6019aa4a_b2b2_11e9_95ee_c4b301cdc453row4_col2\" class=\"data row4 col2\" >156.46</td> \n",
       "        <td id=\"T_6019aa4a_b2b2_11e9_95ee_c4b301cdc453row4_col3\" class=\"data row4 col3\" >3</td> \n",
       "        <td id=\"T_6019aa4a_b2b2_11e9_95ee_c4b301cdc453row4_col4\" class=\"data row4 col4\" >36000</td> \n",
       "        <td id=\"T_6019aa4a_b2b2_11e9_95ee_c4b301cdc453row4_col5\" class=\"data row4 col5\" >1</td> \n",
       "        <td id=\"T_6019aa4a_b2b2_11e9_95ee_c4b301cdc453row4_col6\" class=\"data row4 col6\" >11.2</td> \n",
       "        <td id=\"T_6019aa4a_b2b2_11e9_95ee_c4b301cdc453row4_col7\" class=\"data row4 col7\" >0</td> \n",
       "        <td id=\"T_6019aa4a_b2b2_11e9_95ee_c4b301cdc453row4_col8\" class=\"data row4 col8\" >3</td> \n",
       "        <td id=\"T_6019aa4a_b2b2_11e9_95ee_c4b301cdc453row4_col9\" class=\"data row4 col9\" >9</td> \n",
       "        <td id=\"T_6019aa4a_b2b2_11e9_95ee_c4b301cdc453row4_col10\" class=\"data row4 col10\" >0</td> \n",
       "        <td id=\"T_6019aa4a_b2b2_11e9_95ee_c4b301cdc453row4_col11\" class=\"data row4 col11\" >7963</td> \n",
       "        <td id=\"T_6019aa4a_b2b2_11e9_95ee_c4b301cdc453row4_col12\" class=\"data row4 col12\" >28.3</td> \n",
       "        <td id=\"T_6019aa4a_b2b2_11e9_95ee_c4b301cdc453row4_col13\" class=\"data row4 col13\" >12</td> \n",
       "        <td id=\"T_6019aa4a_b2b2_11e9_95ee_c4b301cdc453row4_col14\" class=\"data row4 col14\" >0</td> \n",
       "        <td id=\"T_6019aa4a_b2b2_11e9_95ee_c4b301cdc453row4_col15\" class=\"data row4 col15\" >0</td> \n",
       "    </tr></tbody> \n",
       "</table> "
      ],
      "text/plain": [
       "<pandas.io.formats.style.Styler at 0x1a22242790>"
      ]
     },
     "execution_count": 38,
     "metadata": {},
     "output_type": "execute_result"
    }
   ],
   "source": [
    "df2table(loans_2007_filt.head())"
   ]
  },
  {
   "cell_type": "markdown",
   "metadata": {},
   "source": [
    "Lastly, one thing we need to keep in mind is the class imbalance between the positive and negative cases. While there are 33,136 loans that have been fully paid off, there are only 5,634 that were charged off. This class imbalance is a common problem in binary classification and during training, the model ends up having a strong bias towards predicting the class with more observations in the training set and will rarely predict the class with less observations. The stronger the imbalance, the more biased the model becomes. So we need to keep the class imbalance in mind as we build machine learning models."
   ]
  },
  {
   "cell_type": "markdown",
   "metadata": {},
   "source": [
    "## Making Predictions"
   ]
  },
  {
   "cell_type": "markdown",
   "metadata": {},
   "source": [
    "The cleaning process was necessary in order to generate features from the data, which can feed into a machine learning algorithm. The algorithm will make predictions about whether or not a loan will be paid off on time, which is contained in the loan_status column of the clean dataset."
   ]
  },
  {
   "cell_type": "code",
   "execution_count": 39,
   "metadata": {},
   "outputs": [
    {
     "name": "stdout",
     "output_type": "stream",
     "text": [
      "<class 'pandas.core.frame.DataFrame'>\n",
      "Int64Index: 37648 entries, 0 to 39753\n",
      "Data columns (total 16 columns):\n",
      "loan_amnt         37648 non-null float64\n",
      "int_rate          37648 non-null float64\n",
      "installment       37648 non-null float64\n",
      "emp_length        37648 non-null int64\n",
      "annual_inc        37648 non-null float64\n",
      "loan_status       37648 non-null int64\n",
      "dti               37648 non-null float64\n",
      "delinq_2yrs       37648 non-null float64\n",
      "inq_last_6mths    37648 non-null float64\n",
      "open_acc          37648 non-null float64\n",
      "pub_rec           37648 non-null float64\n",
      "revol_bal         37648 non-null float64\n",
      "revol_util        37648 non-null float64\n",
      "total_acc         37648 non-null float64\n",
      "acc_now_delinq    37648 non-null float64\n",
      "tax_liens         37648 non-null float64\n",
      "dtypes: float64(14), int64(2)\n",
      "memory usage: 4.9 MB\n"
     ]
    }
   ],
   "source": [
    "# Let us have a look at the cleaned dataframe\n",
    "loans_2007_filt.info()"
   ]
  },
  {
   "cell_type": "markdown",
   "metadata": {},
   "source": [
    "### Error Metric"
   ]
  },
  {
   "cell_type": "markdown",
   "metadata": {},
   "source": [
    "When building a prediction model one should first make clear the question to address in order to evaluate which prediction problem (e.g. regression or classification) needs to be set. After that we can select an error metric.   \n",
    "\n",
    "As stated at the beginning the question we would like to addred is the following:\n",
    "\n",
    "**Will a borrower pay off his/her loan on time?**\n",
    "\n",
    "This question can be easily associated to a binary classification (yes/no) problem. For this type of problem one can think of several error metric, e.g. accuracy, precision, recall, F-score etc.\n",
    "In order to correctly select one of these it is important to deeply uderstand the problem to address and what we want to penalize during the selection of a machine learning algortihm. For example in the case of the precision we give more importance to the *false positive*, so in our case all the borrower that, according to the algortihm, will pay his/her loan but that in reality will not. Or, on the other hand, the recall emphasizes the *false negative* etc.\n",
    "\n",
    "Our objective in this project is to make money -- we want to fund enough loans that are paid off on time to offset our losses from loans that aren't paid off. An error metric will help us determine if our algorithm will make us money or lose us money. This means that we should be concerned both on the false positive and false negative. This loses us potential money, since we didn't fund a loan that actually would have been paid off. However from an investor point of view, in order to minimize the risk, we may want to minimize the number of false positive. They'd be more okay with missing out on opportunities (false negatives) than they would be with funding a risky loan (false positives).\n",
    "According to the previous reasoning it is clear that recall, as error metric, would be not the best one since it emphasizes the *false negative*; the accuracy also should be not the best choice expecially because we have unbalanced classes thus we could easily have an high accuracy although we are predicting as \"good\" borrower someone who will not pay back. The natural choice for the error metric is, then,the **precision**, defined as follows:\n",
    "\\begin{align}\n",
    "P = \\frac{True Positive}{True Positive + False Positive}\n",
    "\\end{align}\n",
    "\n",
    "\n",
    "Although the precision is quite good measures since we want to reduce the selection of candidates who will not pay for their loan, it is possible that we are also reducing the number of good candidates that will be actually selected (borrowers who will pay for their loan). If one wants also to consider the contribution of borrower that the model suggest as 'delinquent' but who, in reality, will pay back the loan (false negative), one should use the F1-score, that considers both the precision (that we already use for the first part) and the recall, that is defined as follows:\n",
    "\\begin{align}\n",
    "R = \\frac{True Positive}{True Positive + False Negative}.\n",
    "\\end{align}\n",
    "\n",
    "The F1-score is a weighted average of the precision and the recall."
   ]
  },
  {
   "cell_type": "markdown",
   "metadata": {},
   "source": [
    "### Machine Learning Algorithm"
   ]
  },
  {
   "cell_type": "markdown",
   "metadata": {},
   "source": [
    "Now that we've setup error metrics, we can move on to making predictions using a machine learning algorithm. \n",
    "Before we can write a useful function for cross_validation that can be used for different types of models."
   ]
  },
  {
   "cell_type": "code",
   "execution_count": 40,
   "metadata": {},
   "outputs": [],
   "source": [
    "def cross_validate(model, features, labels, folds):\n",
    "    # Let us use KFold to provide train/test indices to split data into train/test sets\n",
    "    kf = KFold(n_splits=folds, shuffle=True, random_state=3)\n",
    "    prec_values_test=[]\n",
    "    prec_values_train=[]\n",
    "    f1_values_test=[]\n",
    "    f1_values_train=[]\n",
    "    iterat = 0\n",
    "    train_index_vec=[]\n",
    "    predictions_dict = {}\n",
    "    real_dict = {}\n",
    "    # Iterate through over each fold.\n",
    "    for train_index, test_index in kf.split(features):\n",
    "        iterat = iterat+1\n",
    "        print('iteration #' + str(iterat))\n",
    "    # Training and test sets.\n",
    "        X_train, X_test = features.iloc[train_index].reset_index(drop=True), features.iloc[test_index].reset_index(drop=True)\n",
    "        y_train, y_test = labels.iloc[train_index].reset_index(drop=True), labels.iloc[test_index].reset_index(drop=True)\n",
    "        #train_index_vec.append(train_index)\n",
    "        \n",
    "    # Fit the model and make predictions using both the test and train sets\n",
    "        model.fit(X_train, y_train)\n",
    "        predictions_test = model.predict(X_test)\n",
    "        predictions_train = model.predict(X_train)\n",
    "        predictions_dict[iterat] = predictions_test\n",
    "        real_dict[iterat] = y_test.values\n",
    "    # Calculate mse and accuracy values for this fold (train and test).\n",
    "        prec_test = precision_score(y_test, predictions_test)\n",
    "        prec_train = precision_score(y_train, predictions_train)\n",
    "        f1_test = f1_score(y_test, predictions_test)\n",
    "        f1_train = f1_score(y_train, predictions_train)\n",
    "\n",
    "    # Append to arrays to calculate overall average precision and f1-score values.\n",
    "        prec_values_test.append(prec_test)\n",
    "        prec_values_train.append(prec_train)\n",
    "        f1_values_test.append(f1_test)\n",
    "        f1_values_train.append(f1_train)\n",
    "    # compute and return average precision and f1-score squared error for the train and test sets.    \n",
    "    avg_prec_test = np.mean(prec_values_test)\n",
    "    avg_prec_train = np.mean(prec_values_train)\n",
    "    avg_f1_test = np.mean(f1_values_test)\n",
    "    avg_f1_train = np.mean(f1_values_train)\n",
    "    return(avg_prec_test, avg_prec_train, avg_f1_test, avg_f1_train, predictions_dict, real_dict)\n",
    "    "
   ]
  },
  {
   "cell_type": "markdown",
   "metadata": {},
   "source": [
    "#### Logistic Regression"
   ]
  },
  {
   "cell_type": "markdown",
   "metadata": {},
   "source": [
    "A good first algorithm to apply to binary classification problems is logistic regression, for several reasons: first of all it's quick to train and we can iterate more quickly; moreover it's less prone to overfitting than more complex models like decision trees and finally it's easy to interpret."
   ]
  },
  {
   "cell_type": "code",
   "execution_count": 41,
   "metadata": {},
   "outputs": [],
   "source": [
    "features = loans_2007_filt.drop('loan_status', axis = 1)\n",
    "target = loans_2007_filt['loan_status']"
   ]
  },
  {
   "cell_type": "code",
   "execution_count": 42,
   "metadata": {},
   "outputs": [
    {
     "name": "stdout",
     "output_type": "stream",
     "text": [
      "iteration #1\n"
     ]
    },
    {
     "name": "stderr",
     "output_type": "stream",
     "text": [
      "/Users/jessicalanini/anaconda2/lib/python2.7/site-packages/sklearn/linear_model/logistic.py:433: FutureWarning: Default solver will be changed to 'lbfgs' in 0.22. Specify a solver to silence this warning.\n",
      "  FutureWarning)\n"
     ]
    },
    {
     "name": "stdout",
     "output_type": "stream",
     "text": [
      "iteration #2\n",
      "iteration #3\n",
      "iteration #4\n",
      "The precision in predicting the test set is:  0.9132303209063808 while the F1-score is:  0.748886981075274\n"
     ]
    }
   ],
   "source": [
    "# let use define the model we want to use\n",
    "model = LogisticRegression(class_weight=\"balanced\")\n",
    "avg_prec_test, avg_prec_train, avg_f1_test, avg_f1_train ,predictions_dict, real_dict = cross_validate(model, features, target, 4)\n",
    "print 'The precision in predicting the test set is: ',avg_prec_test, 'while the F1-score is: ', avg_f1_test"
   ]
  },
  {
   "cell_type": "markdown",
   "metadata": {},
   "source": [
    "As we have discussed before the target vector has imbalanced classes; in particular:"
   ]
  },
  {
   "cell_type": "code",
   "execution_count": 43,
   "metadata": {},
   "outputs": [
    {
     "data": {
      "text/plain": [
       "1    32258\n",
       "0     5390\n",
       "Name: loan_status, dtype: int64"
      ]
     },
     "execution_count": 43,
     "metadata": {},
     "output_type": "execute_result"
    }
   ],
   "source": [
    "target.value_counts()"
   ]
  },
  {
   "cell_type": "markdown",
   "metadata": {},
   "source": [
    "In general if we would like to get a classifier to correct for imbalanced classes. The two main ways are:\n",
    "\n",
    "- Use oversampling and undersampling to ensure that the classifier gets input that has a balanced number of each class.\n",
    "- Tell the classifier to penalize misclassifications of the less prevalent class more than the other class.\n",
    "\n",
    "The simplest way to proceed is with the second strategy. This is possible by simply setting the class_weight parameter to balanced when creating the LogisticRegression instance.\n",
    "We can now repeate the previous evaluation."
   ]
  },
  {
   "cell_type": "code",
   "execution_count": 44,
   "metadata": {},
   "outputs": [
    {
     "name": "stdout",
     "output_type": "stream",
     "text": [
      "iteration #1\n",
      "iteration #2\n",
      "iteration #3\n",
      "iteration #4\n",
      "The precision in predicting the test set is:  0.9126530064140187 while the F1-score is:  0.75497967202708\n"
     ]
    }
   ],
   "source": [
    "# let use define the model we want to use\n",
    "model = LogisticRegression(class_weight=\"balanced\")\n",
    "avg_prec_test, avg_prec_train, avg_f1_test, avg_f1_train ,predictions_dict, real_dict = cross_validate(model, features, target, 4)\n",
    "print 'The precision in predicting the test set is: ',avg_prec_test, 'while the F1-score is: ', avg_f1_test"
   ]
  },
  {
   "cell_type": "markdown",
   "metadata": {},
   "source": [
    "As we can see by using the option \"balanced\" the performances did not improve, which means that our algortihm was already good in handling the unbalanced classes."
   ]
  },
  {
   "cell_type": "markdown",
   "metadata": {},
   "source": [
    "In general the precision of the model is quite high (>90%) which means that we are reducing the false positive that the model predicts. From a conservative investor's standpoint, it's reassuring that the precision is high because it means that we'll be able to do a better job at avoiding bad loans than if we funded everything. Moreover the F1-score, although is not that low, it is lower than the precision, which means that we are losing few potential good borrowers.\n",
    "\n",
    "We can try to increase the precision further by assigning a harsher penalty for misclassifying the negative class. While setting class_weight to balanced will automatically set a penalty based on the number of 1s and 0s in the column, we can also set a manual penalty, as follows:"
   ]
  },
  {
   "cell_type": "code",
   "execution_count": 45,
   "metadata": {},
   "outputs": [],
   "source": [
    "penalty = {\n",
    "    0: 10,\n",
    "    1: 1\n",
    "}\n",
    "model = LogisticRegression(class_weight=penalty)"
   ]
  },
  {
   "cell_type": "code",
   "execution_count": 46,
   "metadata": {},
   "outputs": [
    {
     "name": "stdout",
     "output_type": "stream",
     "text": [
      "iteration #1\n",
      "iteration #2\n",
      "iteration #3\n",
      "iteration #4\n",
      "The precision in predicting the test set is:  0.9460275166994156 while the F1-score is:  0.3498663999108288\n"
     ]
    }
   ],
   "source": [
    "avg_prec_test, avg_prec_train, avg_f1_test, avg_f1_train ,predictions_dict, real_dict = cross_validate(model, features, target, 4)\n",
    "print 'The precision in predicting the test set is: ',avg_prec_test, 'while the F1-score is: ', avg_f1_test"
   ]
  },
  {
   "cell_type": "markdown",
   "metadata": {},
   "source": [
    "Although, thanks to the hasher penality the precision is quite good, and thus we lowered our risk, the F1-score has reduced a lot, showing that we are most probably increasing the *false negative*. In other words we're also missing opportunities to fund more loans and potentially make more money."
   ]
  },
  {
   "cell_type": "markdown",
   "metadata": {},
   "source": [
    "## Conclusion"
   ]
  },
  {
   "cell_type": "markdown",
   "metadata": {},
   "source": [
    "In this project we would like to build a predictive model able to tell whether a borrower of a loan will pay it back or not. This is important for investors who will eventually provide the money and thus they would like to minimize the risk to have loans that are not paid off on time. \n",
    "\n",
    "As first steps we have imported a data set from a marketplace for personal loans that matches borrowers who are seeking a loan with investors looking to lend money and make a return, called Lending Club. We cleaned and analyzed this dataset by handling missing values, remove not useful features and covert important features. \n",
    "After that this problem has been modeled as a binary classification problem and a logistic regression was used as model to predict possible 'bad' borrower. Several variants of such a logistic regression model has been tested and the one with the highest precision and accuracy has been selected in order to still consider as most important aspect the minimization of *false positive* (e.g. borrowers that the model select as the ones who will paid their loan on time but who in reality will be delinquent) but without losing a lot of good borrower (*false negative*). "
   ]
  },
  {
   "cell_type": "raw",
   "metadata": {},
   "source": []
  }
 ],
 "metadata": {
  "kernelspec": {
   "display_name": "Python 2",
   "language": "python",
   "name": "python2"
  },
  "language_info": {
   "codemirror_mode": {
    "name": "ipython",
    "version": 2
   },
   "file_extension": ".py",
   "mimetype": "text/x-python",
   "name": "python",
   "nbconvert_exporter": "python",
   "pygments_lexer": "ipython2",
   "version": "2.7.15"
  }
 },
 "nbformat": 4,
 "nbformat_minor": 2
}
